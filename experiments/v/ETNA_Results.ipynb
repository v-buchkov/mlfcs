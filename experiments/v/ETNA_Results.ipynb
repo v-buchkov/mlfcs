{
 "cells": [
  {
   "cell_type": "code",
   "id": "initial_id",
   "metadata": {
    "collapsed": true,
    "ExecuteTime": {
     "end_time": "2025-05-19T08:57:01.999155Z",
     "start_time": "2025-05-19T08:57:01.997535Z"
    }
   },
   "source": [
    "import pandas as pd\n",
    "from config.experiment_config import ExperimentConfig"
   ],
   "outputs": [],
   "execution_count": 5
  },
  {
   "metadata": {
    "ExecuteTime": {
     "end_time": "2025-05-19T08:57:02.013839Z",
     "start_time": "2025-05-19T08:57:02.010517Z"
    }
   },
   "cell_type": "code",
   "source": [
    "nbeats = pd.read_csv(\"NBeats_Features.csv\").set_index(\"datetime\")\n",
    "patch_ts = pd.read_csv(\"PatchTS_Features.csv\").set_index(\"datetime\")"
   ],
   "id": "9dc7d320f81ef6e6",
   "outputs": [],
   "execution_count": 6
  },
  {
   "metadata": {
    "ExecuteTime": {
     "end_time": "2025-05-19T08:57:02.022214Z",
     "start_time": "2025-05-19T08:57:02.020247Z"
    }
   },
   "cell_type": "code",
   "source": [
    "import numpy as np\n",
    "from sklearn.metrics import root_mean_squared_error\n",
    "\n",
    "def get_rmse(result: pd.DataFrame, model_name: str) -> pd.DataFrame:\n",
    "    rmse = []\n",
    "    for (date, row) in result.iterrows():\n",
    "        true_vols = np.fromstring(row.true_vols.strip(\"[]\").replace(\"\\n\", \" \"), sep=\" \")\n",
    "        model_preds = np.fromstring(row.model_preds.strip(\"[]\").replace(\"\\n\", \" \"), sep=\" \")\n",
    "\n",
    "        # print(model_preds)\n",
    "        rmse.append([date, root_mean_squared_error(true_vols, model_preds)])\n",
    "\n",
    "    return pd.DataFrame(rmse, columns=[\"date\", model_name]).set_index(\"date\")"
   ],
   "id": "95458e6f72736f0a",
   "outputs": [],
   "execution_count": 7
  },
  {
   "metadata": {
    "ExecuteTime": {
     "end_time": "2025-05-19T08:57:02.047312Z",
     "start_time": "2025-05-19T08:57:02.031902Z"
    }
   },
   "cell_type": "code",
   "source": [
    "nbeats_rmse = get_rmse(nbeats, \"NBeats\")\n",
    "nbeats_rmse"
   ],
   "id": "f17ccb03eeeaedc5",
   "outputs": [
    {
     "data": {
      "text/plain": [
       "              NBeats\n",
       "date                \n",
       "2018-06-30  0.084205\n",
       "2018-07-03  0.003677\n",
       "2018-07-04  0.022720\n",
       "2018-07-05  0.021535\n",
       "2018-07-06  0.093199\n",
       "...              ...\n",
       "2018-09-26  0.080357\n",
       "2018-09-27  0.016009\n",
       "2018-09-28  0.106185\n",
       "2018-09-29  0.027291\n",
       "2018-09-30  0.057245\n",
       "\n",
       "[87 rows x 1 columns]"
      ],
      "text/html": [
       "<div>\n",
       "<style scoped>\n",
       "    .dataframe tbody tr th:only-of-type {\n",
       "        vertical-align: middle;\n",
       "    }\n",
       "\n",
       "    .dataframe tbody tr th {\n",
       "        vertical-align: top;\n",
       "    }\n",
       "\n",
       "    .dataframe thead th {\n",
       "        text-align: right;\n",
       "    }\n",
       "</style>\n",
       "<table border=\"1\" class=\"dataframe\">\n",
       "  <thead>\n",
       "    <tr style=\"text-align: right;\">\n",
       "      <th></th>\n",
       "      <th>NBeats</th>\n",
       "    </tr>\n",
       "    <tr>\n",
       "      <th>date</th>\n",
       "      <th></th>\n",
       "    </tr>\n",
       "  </thead>\n",
       "  <tbody>\n",
       "    <tr>\n",
       "      <th>2018-06-30</th>\n",
       "      <td>0.084205</td>\n",
       "    </tr>\n",
       "    <tr>\n",
       "      <th>2018-07-03</th>\n",
       "      <td>0.003677</td>\n",
       "    </tr>\n",
       "    <tr>\n",
       "      <th>2018-07-04</th>\n",
       "      <td>0.022720</td>\n",
       "    </tr>\n",
       "    <tr>\n",
       "      <th>2018-07-05</th>\n",
       "      <td>0.021535</td>\n",
       "    </tr>\n",
       "    <tr>\n",
       "      <th>2018-07-06</th>\n",
       "      <td>0.093199</td>\n",
       "    </tr>\n",
       "    <tr>\n",
       "      <th>...</th>\n",
       "      <td>...</td>\n",
       "    </tr>\n",
       "    <tr>\n",
       "      <th>2018-09-26</th>\n",
       "      <td>0.080357</td>\n",
       "    </tr>\n",
       "    <tr>\n",
       "      <th>2018-09-27</th>\n",
       "      <td>0.016009</td>\n",
       "    </tr>\n",
       "    <tr>\n",
       "      <th>2018-09-28</th>\n",
       "      <td>0.106185</td>\n",
       "    </tr>\n",
       "    <tr>\n",
       "      <th>2018-09-29</th>\n",
       "      <td>0.027291</td>\n",
       "    </tr>\n",
       "    <tr>\n",
       "      <th>2018-09-30</th>\n",
       "      <td>0.057245</td>\n",
       "    </tr>\n",
       "  </tbody>\n",
       "</table>\n",
       "<p>87 rows × 1 columns</p>\n",
       "</div>"
      ]
     },
     "execution_count": 8,
     "metadata": {},
     "output_type": "execute_result"
    }
   ],
   "execution_count": 8
  },
  {
   "metadata": {
    "ExecuteTime": {
     "end_time": "2025-05-19T08:57:02.068809Z",
     "start_time": "2025-05-19T08:57:02.066306Z"
    }
   },
   "cell_type": "code",
   "source": "nbeats_rmse.mean(axis=0)",
   "id": "9fe15f3514a9a74f",
   "outputs": [
    {
     "data": {
      "text/plain": [
       "NBeats    0.039262\n",
       "dtype: float64"
      ]
     },
     "execution_count": 9,
     "metadata": {},
     "output_type": "execute_result"
    }
   ],
   "execution_count": 9
  },
  {
   "metadata": {
    "ExecuteTime": {
     "end_time": "2025-05-19T08:57:42.867062Z",
     "start_time": "2025-05-19T08:57:42.864131Z"
    }
   },
   "cell_type": "code",
   "source": "nbeats_rmse.std(axis=0)",
   "id": "9fc3b5bd1edb5260",
   "outputs": [
    {
     "data": {
      "text/plain": [
       "NBeats    0.034937\n",
       "dtype: float64"
      ]
     },
     "execution_count": 12,
     "metadata": {},
     "output_type": "execute_result"
    }
   ],
   "execution_count": 12
  },
  {
   "metadata": {
    "ExecuteTime": {
     "end_time": "2025-05-19T08:57:02.113952Z",
     "start_time": "2025-05-19T08:57:02.100142Z"
    }
   },
   "cell_type": "code",
   "source": [
    "patch_ts_rmse = get_rmse(patch_ts, \"PatchTS\")\n",
    "patch_ts_rmse"
   ],
   "id": "3738c35760751b5a",
   "outputs": [
    {
     "data": {
      "text/plain": [
       "             PatchTS\n",
       "date                \n",
       "2018-06-30  0.084632\n",
       "2018-07-03  0.078664\n",
       "2018-07-04  0.077625\n",
       "2018-07-05  0.077519\n",
       "2018-07-06  0.077406\n",
       "...              ...\n",
       "2018-09-26  0.077757\n",
       "2018-09-27  0.077867\n",
       "2018-09-28  0.077542\n",
       "2018-09-29  0.077850\n",
       "2018-09-30  0.077933\n",
       "\n",
       "[87 rows x 1 columns]"
      ],
      "text/html": [
       "<div>\n",
       "<style scoped>\n",
       "    .dataframe tbody tr th:only-of-type {\n",
       "        vertical-align: middle;\n",
       "    }\n",
       "\n",
       "    .dataframe tbody tr th {\n",
       "        vertical-align: top;\n",
       "    }\n",
       "\n",
       "    .dataframe thead th {\n",
       "        text-align: right;\n",
       "    }\n",
       "</style>\n",
       "<table border=\"1\" class=\"dataframe\">\n",
       "  <thead>\n",
       "    <tr style=\"text-align: right;\">\n",
       "      <th></th>\n",
       "      <th>PatchTS</th>\n",
       "    </tr>\n",
       "    <tr>\n",
       "      <th>date</th>\n",
       "      <th></th>\n",
       "    </tr>\n",
       "  </thead>\n",
       "  <tbody>\n",
       "    <tr>\n",
       "      <th>2018-06-30</th>\n",
       "      <td>0.084632</td>\n",
       "    </tr>\n",
       "    <tr>\n",
       "      <th>2018-07-03</th>\n",
       "      <td>0.078664</td>\n",
       "    </tr>\n",
       "    <tr>\n",
       "      <th>2018-07-04</th>\n",
       "      <td>0.077625</td>\n",
       "    </tr>\n",
       "    <tr>\n",
       "      <th>2018-07-05</th>\n",
       "      <td>0.077519</td>\n",
       "    </tr>\n",
       "    <tr>\n",
       "      <th>2018-07-06</th>\n",
       "      <td>0.077406</td>\n",
       "    </tr>\n",
       "    <tr>\n",
       "      <th>...</th>\n",
       "      <td>...</td>\n",
       "    </tr>\n",
       "    <tr>\n",
       "      <th>2018-09-26</th>\n",
       "      <td>0.077757</td>\n",
       "    </tr>\n",
       "    <tr>\n",
       "      <th>2018-09-27</th>\n",
       "      <td>0.077867</td>\n",
       "    </tr>\n",
       "    <tr>\n",
       "      <th>2018-09-28</th>\n",
       "      <td>0.077542</td>\n",
       "    </tr>\n",
       "    <tr>\n",
       "      <th>2018-09-29</th>\n",
       "      <td>0.077850</td>\n",
       "    </tr>\n",
       "    <tr>\n",
       "      <th>2018-09-30</th>\n",
       "      <td>0.077933</td>\n",
       "    </tr>\n",
       "  </tbody>\n",
       "</table>\n",
       "<p>87 rows × 1 columns</p>\n",
       "</div>"
      ]
     },
     "execution_count": 10,
     "metadata": {},
     "output_type": "execute_result"
    }
   ],
   "execution_count": 10
  },
  {
   "metadata": {
    "ExecuteTime": {
     "end_time": "2025-05-19T08:57:02.177051Z",
     "start_time": "2025-05-19T08:57:02.174672Z"
    }
   },
   "cell_type": "code",
   "source": "patch_ts_rmse.mean(axis=0)",
   "id": "ae1f743d2ef2e546",
   "outputs": [
    {
     "data": {
      "text/plain": [
       "PatchTS    0.077848\n",
       "dtype: float64"
      ]
     },
     "execution_count": 11,
     "metadata": {},
     "output_type": "execute_result"
    }
   ],
   "execution_count": 11
  },
  {
   "metadata": {
    "ExecuteTime": {
     "end_time": "2025-05-19T08:58:07.731240Z",
     "start_time": "2025-05-19T08:58:07.728623Z"
    }
   },
   "cell_type": "code",
   "source": "patch_ts_rmse.std(axis=0)",
   "id": "b6d77e914a3f9f22",
   "outputs": [
    {
     "data": {
      "text/plain": [
       "PatchTS    0.000784\n",
       "dtype: float64"
      ]
     },
     "execution_count": 13,
     "metadata": {},
     "output_type": "execute_result"
    }
   ],
   "execution_count": 13
  },
  {
   "metadata": {},
   "cell_type": "code",
   "outputs": [],
   "execution_count": null,
   "source": "",
   "id": "d1e4e4dc2bd8ee8c"
  }
 ],
 "metadata": {
  "kernelspec": {
   "display_name": "Python 3",
   "language": "python",
   "name": "python3"
  },
  "language_info": {
   "codemirror_mode": {
    "name": "ipython",
    "version": 2
   },
   "file_extension": ".py",
   "mimetype": "text/x-python",
   "name": "python",
   "nbconvert_exporter": "python",
   "pygments_lexer": "ipython2",
   "version": "2.7.6"
  }
 },
 "nbformat": 4,
 "nbformat_minor": 5
}
