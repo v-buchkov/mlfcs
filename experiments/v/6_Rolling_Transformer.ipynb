{
 "cells": [
  {
   "cell_type": "code",
   "id": "a1510887505e2402",
   "metadata": {
    "ExecuteTime": {
     "end_time": "2025-05-26T14:30:16.414738Z",
     "start_time": "2025-05-26T14:30:16.396688Z"
    }
   },
   "source": [
    "import pandas as pd\n",
    "\n",
    "%load_ext autoreload\n",
    "%autoreload 2"
   ],
   "outputs": [
    {
     "name": "stdout",
     "output_type": "stream",
     "text": [
      "The autoreload extension is already loaded. To reload it, use:\n",
      "  %reload_ext autoreload\n"
     ]
    }
   ],
   "execution_count": 30
  },
  {
   "cell_type": "code",
   "id": "initial_id",
   "metadata": {
    "collapsed": true,
    "ExecuteTime": {
     "end_time": "2025-05-26T14:30:16.430038Z",
     "start_time": "2025-05-26T14:30:16.417186Z"
    }
   },
   "source": [
    "import torch\n",
    "\n",
    "from config.model_config import ModelConfig\n",
    "from config.experiment_config import ExperimentConfig, AvailableDatasets\n",
    "from vol_predict.features.preprocessor import OneToOnePreprocessor\n",
    "from vol_predict.loss.loss import Loss\n",
    "\n",
    "from vol_predict.models.dl.transformer_predictor import TransformerPredictor as Model\n",
    "from vol_predict.models.dl.lstm_softplus_predictor import (\n",
    "    LSTMSoftplusPredictor as Baseline,\n",
    ")\n",
    "\n",
    "from run import run_backtest, initialize_sequential_runner"
   ],
   "outputs": [],
   "execution_count": 31
  },
  {
   "cell_type": "code",
   "id": "1e4448021827516c",
   "metadata": {
    "ExecuteTime": {
     "end_time": "2025-05-26T14:30:16.602123Z",
     "start_time": "2025-05-26T14:30:16.437215Z"
    }
   },
   "source": [
    "config = ExperimentConfig()\n",
    "config.DATASET = AvailableDatasets.BITCOIN\n",
    "\n",
    "model_params = ModelConfig()\n",
    "baseline_params = ModelConfig()\n",
    "\n",
    "model_params.n_features = 1200\n",
    "model_params.n_unique_features = 10\n",
    "\n",
    "# Handles the features\n",
    "feature_processor = OneToOnePreprocessor()\n",
    "\n",
    "runner = initialize_sequential_runner(\n",
    "    model_config=model_params,\n",
    "    preprocessor=feature_processor,\n",
    "    experiment_config=config,\n",
    ")"
   ],
   "outputs": [
    {
     "name": "stdout",
     "output_type": "stream",
     "text": [
      "Available data from 2018-06-04 23:00:00 to 2018-09-30 21:00:00\n"
     ]
    }
   ],
   "execution_count": 32
  },
  {
   "cell_type": "code",
   "id": "81afe07a0a2b6ce2",
   "metadata": {},
   "source": [
    "runner.model_config.lr = 1e-2\n",
    "runner.model_config.n_epochs = 20\n",
    "runner.model_config.hidden_size = 64\n",
    "runner.model_config.n_layers = 3\n",
    "runner.model_config.batch_size = 16\n",
    "runner.model_config.optimizer = torch.optim.Adam\n",
    "runner.model_config.loss = Loss.NLL\n",
    "runner.model_config.dropout = 0.20\n",
    "\n",
    "result = run_backtest(\n",
    "    model_cls=Model,\n",
    "    baseline_cls=Baseline,\n",
    "    runner=runner,\n",
    ")"
   ],
   "execution_count": 33,
   "outputs": [
    {
     "data": {
      "text/plain": [
       "<Figure size 1300x400 with 1 Axes>"
      ],
      "image/png": "[encoded data removed]"
     },
     "metadata": {},
     "output_type": "display_data"
    }
   ]
  },
  {
   "cell_type": "code",
   "id": "81acb91339e5878b",
   "metadata": {
    "ExecuteTime": {
     "end_time": "2025-05-26T14:31:03.590120Z",
     "start_time": "2025-05-26T14:31:03.554141Z"
    }
   },
   "source": [
    "result"
   ],
   "outputs": [
    {
     "data": {
      "text/plain": [
       "            model_loss  baseline_loss  \\\n",
       "datetime                                \n",
       "2018-06-30    1.570873      -8.636606   \n",
       "2018-07-05    2.854346      -6.611675   \n",
       "2018-07-10   -0.664294      -9.640781   \n",
       "2018-07-15   -4.949611      -7.666046   \n",
       "2018-07-20   -7.334387      -5.079943   \n",
       "2018-07-25   -7.791250      -5.774243   \n",
       "2018-07-30   -5.266648      -8.773160   \n",
       "2018-08-04   -8.752877      -5.884376   \n",
       "2018-08-09   -8.423363      -6.016554   \n",
       "2018-08-14   -5.405726      -8.743218   \n",
       "2018-08-19   -7.788318      -8.666505   \n",
       "2018-08-24   -8.525163      -8.728056   \n",
       "2018-08-29   -6.581507      -7.868712   \n",
       "2018-09-03   -8.066020      -7.291782   \n",
       "2018-09-08   -6.626542      -8.749736   \n",
       "2018-09-13   -5.763094      -9.504609   \n",
       "2018-09-18   -2.838066      -7.090156   \n",
       "2018-09-23   -4.596454     -10.039071   \n",
       "2018-09-28   -6.894579      -6.165467   \n",
       "\n",
       "                                                 true_returns  \\\n",
       "datetime                                                        \n",
       "2018-06-30  [-0.0026883667, -0.004259642, 0.0017928587, 0....   \n",
       "2018-07-05  [-0.0025450767, 0.0020725208, -0.0004954421, -...   \n",
       "2018-07-10  [-0.0021792948, 0.0005109866, 0.00070048636, -...   \n",
       "2018-07-15  [0.00090926996, -0.00016162315, 0.0028238427, ...   \n",
       "2018-07-20  [0.0016087972, -0.0024853398, -0.004938002, -0...   \n",
       "2018-07-25  [-0.008449829, 0.0038263223, 0.004215324, 0.00...   \n",
       "2018-07-30  [-0.002002476, -0.0008079753, -0.001266979, 0....   \n",
       "2018-08-04  [-0.0003308475, -0.0018424237, 0.0016508304, -...   \n",
       "2018-08-09  [-0.0027170812, 0.0020420607, 0.0029039332, 0....   \n",
       "2018-08-14  [-0.015192035, 0.008707496, 0.0012189541, -0.0...   \n",
       "2018-08-19  [0.00284836, -0.005842211, 0.0054638404, 0.001...   \n",
       "2018-08-24  [0.00012925602, -0.0008466228, 0.0011789188, 0...   \n",
       "2018-08-29  [-0.0041914913, 0.0023179988, -0.00036773554, ...   \n",
       "2018-09-03  [0.0010120253, 0.0013711395, -0.0007382839, -0...   \n",
       "2018-09-08  [0.002658868, -0.002891154, 0.00038503538, 0.0...   \n",
       "2018-09-13  [0.0001642307, -0.0015417017, 0.0018184867, -0...   \n",
       "2018-09-18  [-0.00040011652, -0.00105868, 0.0029426306, 0....   \n",
       "2018-09-23  [0.0010780431, 0.0013246548, 0.0028881382, -0....   \n",
       "2018-09-28  [-0.0022302242, 0.00031208308, 0.0011399924, 0...   \n",
       "\n",
       "                                                    true_vols  \\\n",
       "datetime                                                        \n",
       "2018-06-30  [0.00041156381, 0.0004322233, 0.00021497025, 0...   \n",
       "2018-07-05  [0.00021121168, 0.0001595019, 0.00016921855, 0...   \n",
       "2018-07-10  [0.00016044531, 0.00012531331, 8.648752e-05, 7...   \n",
       "2018-07-15  [6.138905e-05, 4.4802924e-05, 8.2382474e-05, 5...   \n",
       "2018-07-20  [4.2298943e-05, 4.114835e-05, 7.0722686e-05, 0...   \n",
       "2018-07-25  [0.00024071828, 0.00015700524, 9.3138595e-05, ...   \n",
       "2018-07-30  [2.0188261e-05, 1.9543379e-05, 2.5798885e-05, ...   \n",
       "2018-08-04  [0.000100981226, 4.602776e-05, 4.093159e-05, 2...   \n",
       "2018-08-09  [3.1182026e-05, 4.331007e-05, 4.167312e-05, 8....   \n",
       "2018-08-14  [0.0005138371, 0.00011423257, 7.7952835e-05, 3...   \n",
       "2018-08-19  [3.1251417e-05, 7.9688376e-05, 3.7512837e-05, ...   \n",
       "2018-08-24  [4.755799e-05, 2.8825178e-05, 2.4602998e-05, 2...   \n",
       "2018-08-29  [5.033898e-05, 3.5160283e-05, 1.4736159e-05, 5...   \n",
       "2018-09-03  [1.4816889e-05, 1.0349518e-05, 4.4979497e-05, ...   \n",
       "2018-09-08  [2.1529624e-05, 3.2941807e-05, 3.0699048e-05, ...   \n",
       "2018-09-13  [3.830286e-05, 1.2657858e-05, 1.3487654e-05, 3...   \n",
       "2018-09-18  [1.7583305e-05, 1.608473e-05, 3.687474e-05, 2....   \n",
       "2018-09-23  [2.0660073e-06, 6.2520367e-06, 8.583689e-06, 8...   \n",
       "2018-09-28  [4.492918e-05, 1.22871825e-05, 6.9373027e-06, ...   \n",
       "\n",
       "                                                  model_preds  \\\n",
       "datetime                                                        \n",
       "2018-06-30  [4.8109126, 4.811065, 4.8109546, 4.8109603, 4....   \n",
       "2018-07-05  [17.362907, 17.362885, 17.362915, 17.362959, 1...   \n",
       "2018-07-10  [0.51462185, 0.5146202, 0.514617, 0.5146169, 0...   \n",
       "2018-07-15  [0.007017371, 0.007017371, 0.007017371, 0.0070...   \n",
       "2018-07-20  [0.00062243635, 0.00062243635, 0.00062243635, ...   \n",
       "2018-07-25  [0.00037245968, 0.00037245968, 0.00037245968, ...   \n",
       "2018-07-30  [0.005109941, 0.0051095854, 0.005109704, 0.005...   \n",
       "2018-08-04  [8.0105434e-05, 8.0105434e-05, 8.0105434e-05, ...   \n",
       "2018-08-09  [9.8342825e-05, 9.8342825e-05, 9.8342825e-05, ...   \n",
       "2018-08-14  [0.004437125, 0.0044368873, 0.00443665, 0.0044...   \n",
       "2018-08-19  [0.00035363145, 0.00035363145, 0.0003537506, 0...   \n",
       "2018-08-24  [0.00018010901, 0.00018010901, 0.00018010901, ...   \n",
       "2018-08-29  [0.0013679442, 0.0013679442, 0.0013678251, 0.0...   \n",
       "2018-09-03  [0.00024232312, 0.00024232312, 0.00024232312, ...   \n",
       "2018-09-08  [0.0012966329, 0.0012965138, 0.0012967519, 0.0...   \n",
       "2018-09-13  [0.0031260217, 0.003125784, 0.003125903, 0.003...   \n",
       "2018-09-18  [0.058503088, 0.0585032, 0.058503646, 0.058501...   \n",
       "2018-09-23  [0.010071884, 0.010071294, 0.010071176, 0.0100...   \n",
       "2018-09-28  [0.0009945453, 0.0009946644, 0.0009945453, 0.0...   \n",
       "\n",
       "                                               baseline_preds  \n",
       "datetime                                                       \n",
       "2018-06-30  [0.00014757022, 0.00014935808, 0.00014935808, ...  \n",
       "2018-07-05  [0.0013219913, 0.001330563, 0.0013273486, 0.00...  \n",
       "2018-07-10  [4.112636e-05, 4.112636e-05, 4.1007155e-05, 4....  \n",
       "2018-07-15  [0.00039402826, 0.00039378996, 0.00039414744, ...  \n",
       "2018-07-20  [0.006195743, 0.0061879237, 0.006204984, 0.006...  \n",
       "2018-07-25  [0.0030696914, 0.003084309, 0.0030594706, 0.00...  \n",
       "2018-07-30  [8.427742e-05, 8.487341e-05, 8.475421e-05, 8.4...  \n",
       "2018-08-04  [0.0027235579, 0.0027261735, 0.0027281945, 0.0...  \n",
       "2018-08-09  [0.0023500703, 0.0023606548, 0.002355422, 0.00...  \n",
       "2018-08-14  [3.6596583e-05, 3.635817e-05, 3.5881352e-05, 3...  \n",
       "2018-08-19  [3.5881352e-05, 3.5762147e-05, 3.5881352e-05, ...  \n",
       "2018-08-24  [0.00014339849, 0.00014351768, 0.00014351768, ...  \n",
       "2018-08-29  [0.00036459474, 0.0003650714, 0.00036387975, 0...  \n",
       "2018-09-03  [0.00061481167, 0.0006145734, 0.0006144543, 0....  \n",
       "2018-09-08  [0.000127665, 0.00012718822, 0.000127665, 0.00...  \n",
       "2018-09-13  [5.6861216e-05, 5.674201e-05, 5.674201e-05, 5....  \n",
       "2018-09-18  [0.0007969541, 0.00079707324, 0.0007973114, 0....  \n",
       "2018-09-23  [1.537788e-05, 1.5258673e-05, 1.5258673e-05, 1...  \n",
       "2018-09-28  [0.0020788743, 0.0020849411, 0.0020812533, 0.0...  "
      ],
      "text/html": [
       "<div>\n",
       "<style scoped>\n",
       "    .dataframe tbody tr th:only-of-type {\n",
       "        vertical-align: middle;\n",
       "    }\n",
       "\n",
       "    .dataframe tbody tr th {\n",
       "        vertical-align: top;\n",
       "    }\n",
       "\n",
       "    .dataframe thead th {\n",
       "        text-align: right;\n",
       "    }\n",
       "</style>\n",
       "<table border=\"1\" class=\"dataframe\">\n",
       "  <thead>\n",
       "    <tr style=\"text-align: right;\">\n",
       "      <th></th>\n",
       "      <th>model_loss</th>\n",
       "      <th>baseline_loss</th>\n",
       "      <th>true_returns</th>\n",
       "      <th>true_vols</th>\n",
       "      <th>model_preds</th>\n",
       "      <th>baseline_preds</th>\n",
       "    </tr>\n",
       "    <tr>\n",
       "      <th>datetime</th>\n",
       "      <th></th>\n",
       "      <th></th>\n",
       "      <th></th>\n",
       "      <th></th>\n",
       "      <th></th>\n",
       "      <th></th>\n",
       "    </tr>\n",
       "  </thead>\n",
       "  <tbody>\n",
       "    <tr>\n",
       "      <th>2018-06-30</th>\n",
       "      <td>1.570873</td>\n",
       "      <td>-8.636606</td>\n",
       "      <td>[-0.0026883667, -0.004259642, 0.0017928587, 0....</td>\n",
       "      <td>[0.00041156381, 0.0004322233, 0.00021497025, 0...</td>\n",
       "      <td>[4.8109126, 4.811065, 4.8109546, 4.8109603, 4....</td>\n",
       "      <td>[0.00014757022, 0.00014935808, 0.00014935808, ...</td>\n",
       "    </tr>\n",
       "    <tr>\n",
       "      <th>2018-07-05</th>\n",
       "      <td>2.854346</td>\n",
       "      <td>-6.611675</td>\n",
       "      <td>[-0.0025450767, 0.0020725208, -0.0004954421, -...</td>\n",
       "      <td>[0.00021121168, 0.0001595019, 0.00016921855, 0...</td>\n",
       "      <td>[17.362907, 17.362885, 17.362915, 17.362959, 1...</td>\n",
       "      <td>[0.0013219913, 0.001330563, 0.0013273486, 0.00...</td>\n",
       "    </tr>\n",
       "    <tr>\n",
       "      <th>2018-07-10</th>\n",
       "      <td>-0.664294</td>\n",
       "      <td>-9.640781</td>\n",
       "      <td>[-0.0021792948, 0.0005109866, 0.00070048636, -...</td>\n",
       "      <td>[0.00016044531, 0.00012531331, 8.648752e-05, 7...</td>\n",
       "      <td>[0.51462185, 0.5146202, 0.514617, 0.5146169, 0...</td>\n",
       "      <td>[4.112636e-05, 4.112636e-05, 4.1007155e-05, 4....</td>\n",
       "    </tr>\n",
       "    <tr>\n",
       "      <th>2018-07-15</th>\n",
       "      <td>-4.949611</td>\n",
       "      <td>-7.666046</td>\n",
       "      <td>[0.00090926996, -0.00016162315, 0.0028238427, ...</td>\n",
       "      <td>[6.138905e-05, 4.4802924e-05, 8.2382474e-05, 5...</td>\n",
       "      <td>[0.007017371, 0.007017371, 0.007017371, 0.0070...</td>\n",
       "      <td>[0.00039402826, 0.00039378996, 0.00039414744, ...</td>\n",
       "    </tr>\n",
       "    <tr>\n",
       "      <th>2018-07-20</th>\n",
       "      <td>-7.334387</td>\n",
       "      <td>-5.079943</td>\n",
       "      <td>[0.0016087972, -0.0024853398, -0.004938002, -0...</td>\n",
       "      <td>[4.2298943e-05, 4.114835e-05, 7.0722686e-05, 0...</td>\n",
       "      <td>[0.00062243635, 0.00062243635, 0.00062243635, ...</td>\n",
       "      <td>[0.006195743, 0.0061879237, 0.006204984, 0.006...</td>\n",
       "    </tr>\n",
       "    <tr>\n",
       "      <th>2018-07-25</th>\n",
       "      <td>-7.791250</td>\n",
       "      <td>-5.774243</td>\n",
       "      <td>[-0.008449829, 0.0038263223, 0.004215324, 0.00...</td>\n",
       "      <td>[0.00024071828, 0.00015700524, 9.3138595e-05, ...</td>\n",
       "      <td>[0.00037245968, 0.00037245968, 0.00037245968, ...</td>\n",
       "      <td>[0.0030696914, 0.003084309, 0.0030594706, 0.00...</td>\n",
       "    </tr>\n",
       "    <tr>\n",
       "      <th>2018-07-30</th>\n",
       "      <td>-5.266648</td>\n",
       "      <td>-8.773160</td>\n",
       "      <td>[-0.002002476, -0.0008079753, -0.001266979, 0....</td>\n",
       "      <td>[2.0188261e-05, 1.9543379e-05, 2.5798885e-05, ...</td>\n",
       "      <td>[0.005109941, 0.0051095854, 0.005109704, 0.005...</td>\n",
       "      <td>[8.427742e-05, 8.487341e-05, 8.475421e-05, 8.4...</td>\n",
       "    </tr>\n",
       "    <tr>\n",
       "      <th>2018-08-04</th>\n",
       "      <td>-8.752877</td>\n",
       "      <td>-5.884376</td>\n",
       "      <td>[-0.0003308475, -0.0018424237, 0.0016508304, -...</td>\n",
       "      <td>[0.000100981226, 4.602776e-05, 4.093159e-05, 2...</td>\n",
       "      <td>[8.0105434e-05, 8.0105434e-05, 8.0105434e-05, ...</td>\n",
       "      <td>[0.0027235579, 0.0027261735, 0.0027281945, 0.0...</td>\n",
       "    </tr>\n",
       "    <tr>\n",
       "      <th>2018-08-09</th>\n",
       "      <td>-8.423363</td>\n",
       "      <td>-6.016554</td>\n",
       "      <td>[-0.0027170812, 0.0020420607, 0.0029039332, 0....</td>\n",
       "      <td>[3.1182026e-05, 4.331007e-05, 4.167312e-05, 8....</td>\n",
       "      <td>[9.8342825e-05, 9.8342825e-05, 9.8342825e-05, ...</td>\n",
       "      <td>[0.0023500703, 0.0023606548, 0.002355422, 0.00...</td>\n",
       "    </tr>\n",
       "    <tr>\n",
       "      <th>2018-08-14</th>\n",
       "      <td>-5.405726</td>\n",
       "      <td>-8.743218</td>\n",
       "      <td>[-0.015192035, 0.008707496, 0.0012189541, -0.0...</td>\n",
       "      <td>[0.0005138371, 0.00011423257, 7.7952835e-05, 3...</td>\n",
       "      <td>[0.004437125, 0.0044368873, 0.00443665, 0.0044...</td>\n",
       "      <td>[3.6596583e-05, 3.635817e-05, 3.5881352e-05, 3...</td>\n",
       "    </tr>\n",
       "    <tr>\n",
       "      <th>2018-08-19</th>\n",
       "      <td>-7.788318</td>\n",
       "      <td>-8.666505</td>\n",
       "      <td>[0.00284836, -0.005842211, 0.0054638404, 0.001...</td>\n",
       "      <td>[3.1251417e-05, 7.9688376e-05, 3.7512837e-05, ...</td>\n",
       "      <td>[0.00035363145, 0.00035363145, 0.0003537506, 0...</td>\n",
       "      <td>[3.5881352e-05, 3.5762147e-05, 3.5881352e-05, ...</td>\n",
       "    </tr>\n",
       "    <tr>\n",
       "      <th>2018-08-24</th>\n",
       "      <td>-8.525163</td>\n",
       "      <td>-8.728056</td>\n",
       "      <td>[0.00012925602, -0.0008466228, 0.0011789188, 0...</td>\n",
       "      <td>[4.755799e-05, 2.8825178e-05, 2.4602998e-05, 2...</td>\n",
       "      <td>[0.00018010901, 0.00018010901, 0.00018010901, ...</td>\n",
       "      <td>[0.00014339849, 0.00014351768, 0.00014351768, ...</td>\n",
       "    </tr>\n",
       "    <tr>\n",
       "      <th>2018-08-29</th>\n",
       "      <td>-6.581507</td>\n",
       "      <td>-7.868712</td>\n",
       "      <td>[-0.0041914913, 0.0023179988, -0.00036773554, ...</td>\n",
       "      <td>[5.033898e-05, 3.5160283e-05, 1.4736159e-05, 5...</td>\n",
       "      <td>[0.0013679442, 0.0013679442, 0.0013678251, 0.0...</td>\n",
       "      <td>[0.00036459474, 0.0003650714, 0.00036387975, 0...</td>\n",
       "    </tr>\n",
       "    <tr>\n",
       "      <th>2018-09-03</th>\n",
       "      <td>-8.066020</td>\n",
       "      <td>-7.291782</td>\n",
       "      <td>[0.0010120253, 0.0013711395, -0.0007382839, -0...</td>\n",
       "      <td>[1.4816889e-05, 1.0349518e-05, 4.4979497e-05, ...</td>\n",
       "      <td>[0.00024232312, 0.00024232312, 0.00024232312, ...</td>\n",
       "      <td>[0.00061481167, 0.0006145734, 0.0006144543, 0....</td>\n",
       "    </tr>\n",
       "    <tr>\n",
       "      <th>2018-09-08</th>\n",
       "      <td>-6.626542</td>\n",
       "      <td>-8.749736</td>\n",
       "      <td>[0.002658868, -0.002891154, 0.00038503538, 0.0...</td>\n",
       "      <td>[2.1529624e-05, 3.2941807e-05, 3.0699048e-05, ...</td>\n",
       "      <td>[0.0012966329, 0.0012965138, 0.0012967519, 0.0...</td>\n",
       "      <td>[0.000127665, 0.00012718822, 0.000127665, 0.00...</td>\n",
       "    </tr>\n",
       "    <tr>\n",
       "      <th>2018-09-13</th>\n",
       "      <td>-5.763094</td>\n",
       "      <td>-9.504609</td>\n",
       "      <td>[0.0001642307, -0.0015417017, 0.0018184867, -0...</td>\n",
       "      <td>[3.830286e-05, 1.2657858e-05, 1.3487654e-05, 3...</td>\n",
       "      <td>[0.0031260217, 0.003125784, 0.003125903, 0.003...</td>\n",
       "      <td>[5.6861216e-05, 5.674201e-05, 5.674201e-05, 5....</td>\n",
       "    </tr>\n",
       "    <tr>\n",
       "      <th>2018-09-18</th>\n",
       "      <td>-2.838066</td>\n",
       "      <td>-7.090156</td>\n",
       "      <td>[-0.00040011652, -0.00105868, 0.0029426306, 0....</td>\n",
       "      <td>[1.7583305e-05, 1.608473e-05, 3.687474e-05, 2....</td>\n",
       "      <td>[0.058503088, 0.0585032, 0.058503646, 0.058501...</td>\n",
       "      <td>[0.0007969541, 0.00079707324, 0.0007973114, 0....</td>\n",
       "    </tr>\n",
       "    <tr>\n",
       "      <th>2018-09-23</th>\n",
       "      <td>-4.596454</td>\n",
       "      <td>-10.039071</td>\n",
       "      <td>[0.0010780431, 0.0013246548, 0.0028881382, -0....</td>\n",
       "      <td>[2.0660073e-06, 6.2520367e-06, 8.583689e-06, 8...</td>\n",
       "      <td>[0.010071884, 0.010071294, 0.010071176, 0.0100...</td>\n",
       "      <td>[1.537788e-05, 1.5258673e-05, 1.5258673e-05, 1...</td>\n",
       "    </tr>\n",
       "    <tr>\n",
       "      <th>2018-09-28</th>\n",
       "      <td>-6.894579</td>\n",
       "      <td>-6.165467</td>\n",
       "      <td>[-0.0022302242, 0.00031208308, 0.0011399924, 0...</td>\n",
       "      <td>[4.492918e-05, 1.22871825e-05, 6.9373027e-06, ...</td>\n",
       "      <td>[0.0009945453, 0.0009946644, 0.0009945453, 0.0...</td>\n",
       "      <td>[0.0020788743, 0.0020849411, 0.0020812533, 0.0...</td>\n",
       "    </tr>\n",
       "  </tbody>\n",
       "</table>\n",
       "</div>"
      ]
     },
     "execution_count": 34,
     "metadata": {},
     "output_type": "execute_result"
    }
   ],
   "execution_count": 34
  },
  {
   "cell_type": "code",
   "id": "b4df28114baaad36",
   "metadata": {
    "ExecuteTime": {
     "end_time": "2025-05-26T14:31:03.703612Z",
     "start_time": "2025-05-26T14:31:03.611413Z"
    }
   },
   "source": [
    "from sklearn.metrics import root_mean_squared_error\n",
    "\n",
    "rmse = []\n",
    "for date, row in result.iterrows():\n",
    "    rmse.append(\n",
    "        [\n",
    "            date,\n",
    "            root_mean_squared_error(row.true_vols, row.model_preds),\n",
    "            root_mean_squared_error(row.true_vols, row.baseline_preds),\n",
    "        ]\n",
    "    )\n",
    "\n",
    "rmse = pd.DataFrame(rmse, columns=[\"date\", \"model\", \"baseline\"]).set_index(\"date\")"
   ],
   "outputs": [],
   "execution_count": 35
  },
  {
   "cell_type": "code",
   "id": "297e27681336c43",
   "metadata": {
    "ExecuteTime": {
     "end_time": "2025-05-26T14:31:03.741744Z",
     "start_time": "2025-05-26T14:31:03.728047Z"
    }
   },
   "source": [
    "rmse.mean(axis=0)"
   ],
   "outputs": [
    {
     "data": {
      "text/plain": [
       "model       1.199026\n",
       "baseline    0.001088\n",
       "dtype: float64"
      ]
     },
     "execution_count": 36,
     "metadata": {},
     "output_type": "execute_result"
    }
   ],
   "execution_count": 36
  },
  {
   "cell_type": "code",
   "id": "c128907e5cdbc938",
   "metadata": {
    "ExecuteTime": {
     "end_time": "2025-05-26T14:31:03.781883Z",
     "start_time": "2025-05-26T14:31:03.767656Z"
    }
   },
   "source": [
    "rmse.std(axis=0)"
   ],
   "outputs": [
    {
     "data": {
      "text/plain": [
       "model       4.065888\n",
       "baseline    0.001522\n",
       "dtype: float64"
      ]
     },
     "execution_count": 37,
     "metadata": {},
     "output_type": "execute_result"
    }
   ],
   "execution_count": 37
  },
  {
   "cell_type": "code",
   "id": "6e3cdd01c2954175",
   "metadata": {
    "ExecuteTime": {
     "end_time": "2025-05-26T14:31:03.842533Z",
     "start_time": "2025-05-26T14:31:03.816146Z"
    }
   },
   "source": "result.to_csv(f\"Daily_Transf_results_{runner.model_config.n_epochs}.csv\")",
   "outputs": [],
   "execution_count": 38
  }
 ],
 "metadata": {
  "kernelspec": {
   "display_name": "Python 3",
   "language": "python",
   "name": "python3"
  },
  "language_info": {
   "codemirror_mode": {
    "name": "ipython",
    "version": 2
   },
   "file_extension": ".py",
   "mimetype": "text/x-python",
   "name": "python",
   "nbconvert_exporter": "python",
   "pygments_lexer": "ipython2",
   "version": "2.7.6"
  }
 },
 "nbformat": 4,
 "nbformat_minor": 5
}
