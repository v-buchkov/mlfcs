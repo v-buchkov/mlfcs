{
 "cells": [
  {
   "cell_type": "code",
   "id": "a1510887505e2402",
   "metadata": {
    "ExecuteTime": {
     "end_time": "2025-05-19T21:38:38.272697Z",
     "start_time": "2025-05-19T21:38:38.250766Z"
    }
   },
   "source": [
    "import pandas as pd\n",
    "%load_ext autoreload\n",
    "%autoreload 2"
   ],
   "outputs": [
    {
     "name": "stdout",
     "output_type": "stream",
     "text": [
      "The autoreload extension is already loaded. To reload it, use:\n",
      "  %reload_ext autoreload\n"
     ]
    }
   ],
   "execution_count": 5
  },
  {
   "cell_type": "code",
   "id": "initial_id",
   "metadata": {
    "collapsed": true,
    "ExecuteTime": {
     "end_time": "2025-05-19T21:38:38.293328Z",
     "start_time": "2025-05-19T21:38:38.279406Z"
    }
   },
   "source": [
    "import torch\n",
    "\n",
    "from config.model_config import ModelConfig\n",
    "from config.experiment_config import ExperimentConfig, AvailableDatasets\n",
    "from vol_predict.features.preprocessor import OneToOnePreprocessor\n",
    "from vol_predict.loss.loss import Loss\n",
    "\n",
    "from vol_predict.models.dl.transformer_predictor import TransformerPredictor as Model\n",
    "from vol_predict.models.dl.lstm_softplus_predictor import (\n",
    "    LSTMSoftplusPredictor as Baseline,\n",
    ")\n",
    "\n",
    "from run import run_backtest, initialize_sequential_runner"
   ],
   "outputs": [],
   "execution_count": 6
  },
  {
   "cell_type": "code",
   "id": "1e4448021827516c",
   "metadata": {
    "ExecuteTime": {
     "end_time": "2025-05-19T21:38:38.451597Z",
     "start_time": "2025-05-19T21:38:38.298808Z"
    }
   },
   "source": [
    "config = ExperimentConfig()\n",
    "config.DATASET = AvailableDatasets.BITCOIN\n",
    "\n",
    "model_params = ModelConfig()\n",
    "baseline_params = ModelConfig()\n",
    "\n",
    "model_params.n_features = 1200\n",
    "model_params.n_unique_features = 10\n",
    "\n",
    "# Handles the features\n",
    "feature_processor = OneToOnePreprocessor()\n",
    "\n",
    "runner = initialize_sequential_runner(\n",
    "    model_config=model_params,\n",
    "    preprocessor=feature_processor,\n",
    "    experiment_config=config,\n",
    ")"
   ],
   "outputs": [
    {
     "name": "stdout",
     "output_type": "stream",
     "text": [
      "Available data from 2018-06-04 23:00:00 to 2018-09-30 21:00:00\n"
     ]
    }
   ],
   "execution_count": 7
  },
  {
   "cell_type": "code",
   "id": "81afe07a0a2b6ce2",
   "metadata": {},
   "source": [
    "runner.model_config.lr = 1e-2\n",
    "runner.model_config.n_epochs = 20\n",
    "runner.model_config.hidden_size = 64\n",
    "runner.model_config.n_layers = 3\n",
    "runner.model_config.batch_size = 16\n",
    "runner.model_config.optimizer = torch.optim.Adam\n",
    "runner.model_config.loss = Loss.NLL\n",
    "runner.model_config.dropout = 0.20\n",
    "\n",
    "result = run_backtest(\n",
    "    model_cls=Model,\n",
    "    baseline_cls=Baseline,\n",
    "    runner=runner,\n",
    ")"
   ],
   "execution_count": 8,
   "outputs": [
    {
     "data": {
      "text/plain": [
       "<Figure size 1300x400 with 1 Axes>"
      ],
      "image/png": "[encoded data removed]"
     },
     "metadata": {},
     "output_type": "display_data"
    },
    {
     "name": "stderr",
     "output_type": "stream",
     "text": [
      "Training 4/20:  37%|███▋      | 13/35 [00:00<00:00, 43.98it/s]\n"
     ]
    },
    {
     "ename": "KeyboardInterrupt",
     "evalue": "",
     "output_type": "error",
     "traceback": [
      "\u001B[31m---------------------------------------------------------------------------\u001B[39m",
      "\u001B[31mKeyboardInterrupt\u001B[39m                         Traceback (most recent call last)",
      "\u001B[36mCell\u001B[39m\u001B[36m \u001B[39m\u001B[32mIn[8]\u001B[39m\u001B[32m, line 10\u001B[39m\n\u001B[32m      7\u001B[39m runner.model_config.loss = Loss.NLL\n\u001B[32m      8\u001B[39m runner.model_config.dropout = \u001B[32m0.20\u001B[39m\n\u001B[32m---> \u001B[39m\u001B[32m10\u001B[39m result = \u001B[43mrun_backtest\u001B[49m\u001B[43m(\u001B[49m\n\u001B[32m     11\u001B[39m \u001B[43m    \u001B[49m\u001B[43mmodel_cls\u001B[49m\u001B[43m=\u001B[49m\u001B[43mModel\u001B[49m\u001B[43m,\u001B[49m\n\u001B[32m     12\u001B[39m \u001B[43m    \u001B[49m\u001B[43mbaseline_cls\u001B[49m\u001B[43m=\u001B[49m\u001B[43mBaseline\u001B[49m\u001B[43m,\u001B[49m\n\u001B[32m     13\u001B[39m \u001B[43m    \u001B[49m\u001B[43mrunner\u001B[49m\u001B[43m=\u001B[49m\u001B[43mrunner\u001B[49m\u001B[43m,\u001B[49m\n\u001B[32m     14\u001B[39m \u001B[43m)\u001B[49m\n",
      "\u001B[36mFile \u001B[39m\u001B[32m~/mlfcs/run.py:68\u001B[39m, in \u001B[36mrun_backtest\u001B[39m\u001B[34m(model_cls, baseline_cls, runner, experiment_config)\u001B[39m\n\u001B[32m     65\u001B[39m model = model_cls(**runner.model_config.dict())\n\u001B[32m     66\u001B[39m baseline = baseline_cls(**runner.model_config.dict())\n\u001B[32m---> \u001B[39m\u001B[32m68\u001B[39m run_result = \u001B[43mrunner\u001B[49m\u001B[43m(\u001B[49m\u001B[43mmodel\u001B[49m\u001B[43m=\u001B[49m\u001B[43mmodel\u001B[49m\u001B[43m,\u001B[49m\u001B[43m \u001B[49m\u001B[43mbaseline\u001B[49m\u001B[43m=\u001B[49m\u001B[43mbaseline\u001B[49m\u001B[43m)\u001B[49m\n\u001B[32m     70\u001B[39m \u001B[38;5;28;01mreturn\u001B[39;00m run_result, model, baseline\n",
      "\u001B[36mFile \u001B[39m\u001B[32m~/mlfcs/vol_predict/sequential_runner.py:199\u001B[39m, in \u001B[36mSequentialRunner.__call__\u001B[39m\u001B[34m(self, model, baseline, n_epochs)\u001B[39m\n\u001B[32m    193\u001B[39m \u001B[38;5;28;01mdef\u001B[39;00m\u001B[38;5;250m \u001B[39m\u001B[34m__call__\u001B[39m(\n\u001B[32m    194\u001B[39m     \u001B[38;5;28mself\u001B[39m,\n\u001B[32m    195\u001B[39m     model: AbstractPredictor,\n\u001B[32m    196\u001B[39m     baseline: AbstractPredictor,\n\u001B[32m    197\u001B[39m     n_epochs: \u001B[38;5;28mint\u001B[39m | \u001B[38;5;28;01mNone\u001B[39;00m = \u001B[38;5;28;01mNone\u001B[39;00m,\n\u001B[32m    198\u001B[39m ) -> pd.DataFrame:\n\u001B[32m--> \u001B[39m\u001B[32m199\u001B[39m     \u001B[38;5;28;01mreturn\u001B[39;00m \u001B[38;5;28;43mself\u001B[39;49m\u001B[43m.\u001B[49m\u001B[43mrun\u001B[49m\u001B[43m(\u001B[49m\u001B[43mmodel\u001B[49m\u001B[43m=\u001B[49m\u001B[43mmodel\u001B[49m\u001B[43m,\u001B[49m\u001B[43m \u001B[49m\u001B[43mbaseline\u001B[49m\u001B[43m=\u001B[49m\u001B[43mbaseline\u001B[49m\u001B[43m,\u001B[49m\u001B[43m \u001B[49m\u001B[43mn_epochs\u001B[49m\u001B[43m=\u001B[49m\u001B[43mn_epochs\u001B[49m\u001B[43m)\u001B[49m\n",
      "\u001B[36mFile \u001B[39m\u001B[32m~/mlfcs/vol_predict/sequential_runner.py:156\u001B[39m, in \u001B[36mSequentialRunner.run\u001B[39m\u001B[34m(self, model, baseline, n_epochs)\u001B[39m\n\u001B[32m    147\u001B[39m     baseline = baseline.\u001B[34m__class__\u001B[39m(**\u001B[38;5;28mself\u001B[39m.model_config.dict())\n\u001B[32m    149\u001B[39m model_trainer = Trainer(\n\u001B[32m    150\u001B[39m     train_loader=train_loader,\n\u001B[32m    151\u001B[39m     val_loader=train_loader,\n\u001B[32m    152\u001B[39m     model_config=\u001B[38;5;28mself\u001B[39m.model_config,\n\u001B[32m    153\u001B[39m     experiment_config=\u001B[38;5;28mself\u001B[39m.experiment_config,\n\u001B[32m    154\u001B[39m )\n\u001B[32m--> \u001B[39m\u001B[32m156\u001B[39m \u001B[43mmodel_trainer\u001B[49m\u001B[43m(\u001B[49m\u001B[43mmodel\u001B[49m\u001B[43m,\u001B[49m\u001B[43m \u001B[49m\u001B[43mn_epochs\u001B[49m\u001B[43m)\u001B[49m\n\u001B[32m    158\u001B[39m baseline_trainer = Trainer(\n\u001B[32m    159\u001B[39m     train_loader=train_loader,\n\u001B[32m    160\u001B[39m     val_loader=train_loader,\n\u001B[32m    161\u001B[39m     model_config=\u001B[38;5;28mself\u001B[39m.model_config,\n\u001B[32m    162\u001B[39m     experiment_config=\u001B[38;5;28mself\u001B[39m.experiment_config,\n\u001B[32m    163\u001B[39m )\n\u001B[32m    165\u001B[39m baseline_trainer(baseline, n_epochs)\n",
      "\u001B[36mFile \u001B[39m\u001B[32m~/mlfcs/vol_predict/train/trainer.py:97\u001B[39m, in \u001B[36mTrainer.__call__\u001B[39m\u001B[34m(self, model, n_epochs)\u001B[39m\n\u001B[32m     96\u001B[39m \u001B[38;5;28;01mdef\u001B[39;00m\u001B[38;5;250m \u001B[39m\u001B[34m__call__\u001B[39m(\u001B[38;5;28mself\u001B[39m, model: AbstractPredictor, n_epochs: \u001B[38;5;28mint\u001B[39m | \u001B[38;5;28;01mNone\u001B[39;00m = \u001B[38;5;28;01mNone\u001B[39;00m) -> \u001B[38;5;28;01mNone\u001B[39;00m:\n\u001B[32m---> \u001B[39m\u001B[32m97\u001B[39m     \u001B[38;5;28;43mself\u001B[39;49m\u001B[43m.\u001B[49m\u001B[43mrun\u001B[49m\u001B[43m(\u001B[49m\u001B[43mmodel\u001B[49m\u001B[43m,\u001B[49m\u001B[43m \u001B[49m\u001B[43mn_epochs\u001B[49m\u001B[43m)\u001B[49m\n",
      "\u001B[36mFile \u001B[39m\u001B[32m~/mlfcs/vol_predict/train/trainer.py:113\u001B[39m, in \u001B[36mTrainer.run\u001B[39m\u001B[34m(self, model, n_epochs)\u001B[39m\n\u001B[32m    106\u001B[39m     n_epochs = \u001B[38;5;28mself\u001B[39m.model_config.n_epochs\n\u001B[32m    108\u001B[39m scheduler = torch.optim.lr_scheduler.CosineAnnealingLR(\n\u001B[32m    109\u001B[39m     optimizer, T_max=n_epochs\n\u001B[32m    110\u001B[39m )\n\u001B[32m    112\u001B[39m \u001B[38;5;28mself\u001B[39m._train_losses, \u001B[38;5;28mself\u001B[39m._val_losses, \u001B[38;5;28mself\u001B[39m._train_preds, \u001B[38;5;28mself\u001B[39m._val_preds = (\n\u001B[32m--> \u001B[39m\u001B[32m113\u001B[39m     \u001B[38;5;28;43mself\u001B[39;49m\u001B[43m.\u001B[49m\u001B[43m_train\u001B[49m\u001B[43m(\u001B[49m\n\u001B[32m    114\u001B[39m \u001B[43m        \u001B[49m\u001B[43mmodel\u001B[49m\u001B[43m=\u001B[49m\u001B[43mmodel\u001B[49m\u001B[43m,\u001B[49m\n\u001B[32m    115\u001B[39m \u001B[43m        \u001B[49m\u001B[43moptimizer\u001B[49m\u001B[43m=\u001B[49m\u001B[43moptimizer\u001B[49m\u001B[43m,\u001B[49m\n\u001B[32m    116\u001B[39m \u001B[43m        \u001B[49m\u001B[43mscheduler\u001B[49m\u001B[43m=\u001B[49m\u001B[43mscheduler\u001B[49m\u001B[43m,\u001B[49m\n\u001B[32m    117\u001B[39m \u001B[43m        \u001B[49m\u001B[43mtrain_loader\u001B[49m\u001B[43m=\u001B[49m\u001B[38;5;28;43mself\u001B[39;49m\u001B[43m.\u001B[49m\u001B[43m_train_loader\u001B[49m\u001B[43m,\u001B[49m\n\u001B[32m    118\u001B[39m \u001B[43m        \u001B[49m\u001B[43mval_loader\u001B[49m\u001B[43m=\u001B[49m\u001B[38;5;28;43mself\u001B[39;49m\u001B[43m.\u001B[49m\u001B[43m_val_loader\u001B[49m\u001B[43m,\u001B[49m\n\u001B[32m    119\u001B[39m \u001B[43m        \u001B[49m\u001B[43mnum_epochs\u001B[49m\u001B[43m=\u001B[49m\u001B[43mn_epochs\u001B[49m\u001B[43m,\u001B[49m\n\u001B[32m    120\u001B[39m \u001B[43m        \u001B[49m\u001B[43mprint_logs\u001B[49m\u001B[43m=\u001B[49m\u001B[38;5;28;43;01mTrue\u001B[39;49;00m\u001B[43m,\u001B[49m\n\u001B[32m    121\u001B[39m \u001B[43m    \u001B[49m\u001B[43m)\u001B[49m\n\u001B[32m    122\u001B[39m )\n\u001B[32m    124\u001B[39m \u001B[38;5;28;01mif\u001B[39;00m \u001B[38;5;28mself\u001B[39m.save_model:\n\u001B[32m    125\u001B[39m     \u001B[38;5;28mself\u001B[39m.save(model, \u001B[38;5;28mself\u001B[39m.experiment_config.PATH_OUTPUT)\n",
      "\u001B[36mFile \u001B[39m\u001B[32m~/mlfcs/vol_predict/train/trainer.py:61\u001B[39m, in \u001B[36mTrainer._train\u001B[39m\u001B[34m(self, model, optimizer, scheduler, train_loader, val_loader, num_epochs, print_logs)\u001B[39m\n\u001B[32m     58\u001B[39m \u001B[38;5;28;01melse\u001B[39;00m:\n\u001B[32m     59\u001B[39m     desc_train, desc_val = \u001B[38;5;28;01mNone\u001B[39;00m, \u001B[38;5;28;01mNone\u001B[39;00m\n\u001B[32m---> \u001B[39m\u001B[32m61\u001B[39m train_loss, train_pred = \u001B[43mtrain_epoch\u001B[49m\u001B[43m(\u001B[49m\n\u001B[32m     62\u001B[39m \u001B[43m    \u001B[49m\u001B[43mmodel\u001B[49m\u001B[43m,\u001B[49m\n\u001B[32m     63\u001B[39m \u001B[43m    \u001B[49m\u001B[43moptimizer\u001B[49m\u001B[43m,\u001B[49m\n\u001B[32m     64\u001B[39m \u001B[43m    \u001B[49m\u001B[43mcriterion\u001B[49m\u001B[43m,\u001B[49m\n\u001B[32m     65\u001B[39m \u001B[43m    \u001B[49m\u001B[43mtrain_loader\u001B[49m\u001B[43m,\u001B[49m\n\u001B[32m     66\u001B[39m \u001B[43m    \u001B[49m\u001B[43mtqdm_desc\u001B[49m\u001B[43m=\u001B[49m\u001B[43mdesc_train\u001B[49m\u001B[43m,\u001B[49m\n\u001B[32m     67\u001B[39m \u001B[43m    \u001B[49m\u001B[43mhidden_size\u001B[49m\u001B[43m=\u001B[49m\u001B[38;5;28;43mself\u001B[39;49m\u001B[43m.\u001B[49m\u001B[43mmodel_config\u001B[49m\u001B[43m.\u001B[49m\u001B[43mhidden_size\u001B[49m\u001B[43m,\u001B[49m\n\u001B[32m     68\u001B[39m \u001B[43m    \u001B[49m\u001B[43mn_layers\u001B[49m\u001B[43m=\u001B[49m\u001B[38;5;28;43mself\u001B[39;49m\u001B[43m.\u001B[49m\u001B[43mmodel_config\u001B[49m\u001B[43m.\u001B[49m\u001B[43mn_layers\u001B[49m\u001B[43m,\u001B[49m\n\u001B[32m     69\u001B[39m \u001B[43m\u001B[49m\u001B[43m)\u001B[49m\n\u001B[32m     70\u001B[39m val_loss, val_pred = validation_epoch(\n\u001B[32m     71\u001B[39m     model,\n\u001B[32m     72\u001B[39m     criterion,\n\u001B[32m   (...)\u001B[39m\u001B[32m     76\u001B[39m     n_layers=\u001B[38;5;28mself\u001B[39m.model_config.n_layers,\n\u001B[32m     77\u001B[39m )\n\u001B[32m     79\u001B[39m \u001B[38;5;28;01mif\u001B[39;00m scheduler \u001B[38;5;129;01mis\u001B[39;00m \u001B[38;5;129;01mnot\u001B[39;00m \u001B[38;5;28;01mNone\u001B[39;00m:\n",
      "\u001B[36mFile \u001B[39m\u001B[32m~/mlfcs/vol_predict/train/train.py:117\u001B[39m, in \u001B[36mtrain_epoch\u001B[39m\u001B[34m(model, optimizer, criterion, loader, tqdm_desc, max_grad_norm, hidden_size, n_layers)\u001B[39m\n\u001B[32m    115\u001B[39m     \u001B[38;5;28;01mif\u001B[39;00m loss.requires_grad:\n\u001B[32m    116\u001B[39m         loss.backward(retain_graph=\u001B[38;5;28;01mTrue\u001B[39;00m)\n\u001B[32m--> \u001B[39m\u001B[32m117\u001B[39m         \u001B[43moptimizer\u001B[49m\u001B[43m.\u001B[49m\u001B[43mstep\u001B[49m\u001B[43m(\u001B[49m\u001B[43m)\u001B[49m\n\u001B[32m    119\u001B[39m torch.nn.utils.clip_grad_norm_(model.parameters(), max_norm=max_grad_norm)\n\u001B[32m    121\u001B[39m train_loss += loss.item()\n",
      "\u001B[36mFile \u001B[39m\u001B[32m~/mlfcs/.venv/lib/python3.12/site-packages/torch/optim/lr_scheduler.py:140\u001B[39m, in \u001B[36mLRScheduler.__init__.<locals>.patch_track_step_called.<locals>.wrap_step.<locals>.wrapper\u001B[39m\u001B[34m(*args, **kwargs)\u001B[39m\n\u001B[32m    138\u001B[39m opt = opt_ref()\n\u001B[32m    139\u001B[39m opt._opt_called = \u001B[38;5;28;01mTrue\u001B[39;00m  \u001B[38;5;66;03m# type: ignore[union-attr]\u001B[39;00m\n\u001B[32m--> \u001B[39m\u001B[32m140\u001B[39m \u001B[38;5;28;01mreturn\u001B[39;00m \u001B[43mfunc\u001B[49m\u001B[43m.\u001B[49m\u001B[34;43m__get__\u001B[39;49m\u001B[43m(\u001B[49m\u001B[43mopt\u001B[49m\u001B[43m,\u001B[49m\u001B[43m \u001B[49m\u001B[43mopt\u001B[49m\u001B[43m.\u001B[49m\u001B[34;43m__class__\u001B[39;49m\u001B[43m)\u001B[49m\u001B[43m(\u001B[49m\u001B[43m*\u001B[49m\u001B[43margs\u001B[49m\u001B[43m,\u001B[49m\u001B[43m \u001B[49m\u001B[43m*\u001B[49m\u001B[43m*\u001B[49m\u001B[43mkwargs\u001B[49m\u001B[43m)\u001B[49m\n",
      "\u001B[36mFile \u001B[39m\u001B[32m~/mlfcs/.venv/lib/python3.12/site-packages/torch/optim/optimizer.py:493\u001B[39m, in \u001B[36mOptimizer.profile_hook_step.<locals>.wrapper\u001B[39m\u001B[34m(*args, **kwargs)\u001B[39m\n\u001B[32m    488\u001B[39m         \u001B[38;5;28;01melse\u001B[39;00m:\n\u001B[32m    489\u001B[39m             \u001B[38;5;28;01mraise\u001B[39;00m \u001B[38;5;167;01mRuntimeError\u001B[39;00m(\n\u001B[32m    490\u001B[39m                 \u001B[33mf\u001B[39m\u001B[33m\"\u001B[39m\u001B[38;5;132;01m{\u001B[39;00mfunc\u001B[38;5;132;01m}\u001B[39;00m\u001B[33m must return None or a tuple of (new_args, new_kwargs), but got \u001B[39m\u001B[38;5;132;01m{\u001B[39;00mresult\u001B[38;5;132;01m}\u001B[39;00m\u001B[33m.\u001B[39m\u001B[33m\"\u001B[39m\n\u001B[32m    491\u001B[39m             )\n\u001B[32m--> \u001B[39m\u001B[32m493\u001B[39m out = \u001B[43mfunc\u001B[49m\u001B[43m(\u001B[49m\u001B[43m*\u001B[49m\u001B[43margs\u001B[49m\u001B[43m,\u001B[49m\u001B[43m \u001B[49m\u001B[43m*\u001B[49m\u001B[43m*\u001B[49m\u001B[43mkwargs\u001B[49m\u001B[43m)\u001B[49m\n\u001B[32m    494\u001B[39m \u001B[38;5;28mself\u001B[39m._optimizer_step_code()\n\u001B[32m    496\u001B[39m \u001B[38;5;66;03m# call optimizer step post hooks\u001B[39;00m\n",
      "\u001B[36mFile \u001B[39m\u001B[32m~/mlfcs/.venv/lib/python3.12/site-packages/torch/optim/optimizer.py:91\u001B[39m, in \u001B[36m_use_grad_for_differentiable.<locals>._use_grad\u001B[39m\u001B[34m(self, *args, **kwargs)\u001B[39m\n\u001B[32m     89\u001B[39m     torch.set_grad_enabled(\u001B[38;5;28mself\u001B[39m.defaults[\u001B[33m\"\u001B[39m\u001B[33mdifferentiable\u001B[39m\u001B[33m\"\u001B[39m])\n\u001B[32m     90\u001B[39m     torch._dynamo.graph_break()\n\u001B[32m---> \u001B[39m\u001B[32m91\u001B[39m     ret = \u001B[43mfunc\u001B[49m\u001B[43m(\u001B[49m\u001B[38;5;28;43mself\u001B[39;49m\u001B[43m,\u001B[49m\u001B[43m \u001B[49m\u001B[43m*\u001B[49m\u001B[43margs\u001B[49m\u001B[43m,\u001B[49m\u001B[43m \u001B[49m\u001B[43m*\u001B[49m\u001B[43m*\u001B[49m\u001B[43mkwargs\u001B[49m\u001B[43m)\u001B[49m\n\u001B[32m     92\u001B[39m \u001B[38;5;28;01mfinally\u001B[39;00m:\n\u001B[32m     93\u001B[39m     torch._dynamo.graph_break()\n",
      "\u001B[36mFile \u001B[39m\u001B[32m~/mlfcs/.venv/lib/python3.12/site-packages/torch/optim/adam.py:244\u001B[39m, in \u001B[36mAdam.step\u001B[39m\u001B[34m(self, closure)\u001B[39m\n\u001B[32m    232\u001B[39m     beta1, beta2 = group[\u001B[33m\"\u001B[39m\u001B[33mbetas\u001B[39m\u001B[33m\"\u001B[39m]\n\u001B[32m    234\u001B[39m     has_complex = \u001B[38;5;28mself\u001B[39m._init_group(\n\u001B[32m    235\u001B[39m         group,\n\u001B[32m    236\u001B[39m         params_with_grad,\n\u001B[32m   (...)\u001B[39m\u001B[32m    241\u001B[39m         state_steps,\n\u001B[32m    242\u001B[39m     )\n\u001B[32m--> \u001B[39m\u001B[32m244\u001B[39m     \u001B[43madam\u001B[49m\u001B[43m(\u001B[49m\n\u001B[32m    245\u001B[39m \u001B[43m        \u001B[49m\u001B[43mparams_with_grad\u001B[49m\u001B[43m,\u001B[49m\n\u001B[32m    246\u001B[39m \u001B[43m        \u001B[49m\u001B[43mgrads\u001B[49m\u001B[43m,\u001B[49m\n\u001B[32m    247\u001B[39m \u001B[43m        \u001B[49m\u001B[43mexp_avgs\u001B[49m\u001B[43m,\u001B[49m\n\u001B[32m    248\u001B[39m \u001B[43m        \u001B[49m\u001B[43mexp_avg_sqs\u001B[49m\u001B[43m,\u001B[49m\n\u001B[32m    249\u001B[39m \u001B[43m        \u001B[49m\u001B[43mmax_exp_avg_sqs\u001B[49m\u001B[43m,\u001B[49m\n\u001B[32m    250\u001B[39m \u001B[43m        \u001B[49m\u001B[43mstate_steps\u001B[49m\u001B[43m,\u001B[49m\n\u001B[32m    251\u001B[39m \u001B[43m        \u001B[49m\u001B[43mamsgrad\u001B[49m\u001B[43m=\u001B[49m\u001B[43mgroup\u001B[49m\u001B[43m[\u001B[49m\u001B[33;43m\"\u001B[39;49m\u001B[33;43mamsgrad\u001B[39;49m\u001B[33;43m\"\u001B[39;49m\u001B[43m]\u001B[49m\u001B[43m,\u001B[49m\n\u001B[32m    252\u001B[39m \u001B[43m        \u001B[49m\u001B[43mhas_complex\u001B[49m\u001B[43m=\u001B[49m\u001B[43mhas_complex\u001B[49m\u001B[43m,\u001B[49m\n\u001B[32m    253\u001B[39m \u001B[43m        \u001B[49m\u001B[43mbeta1\u001B[49m\u001B[43m=\u001B[49m\u001B[43mbeta1\u001B[49m\u001B[43m,\u001B[49m\n\u001B[32m    254\u001B[39m \u001B[43m        \u001B[49m\u001B[43mbeta2\u001B[49m\u001B[43m=\u001B[49m\u001B[43mbeta2\u001B[49m\u001B[43m,\u001B[49m\n\u001B[32m    255\u001B[39m \u001B[43m        \u001B[49m\u001B[43mlr\u001B[49m\u001B[43m=\u001B[49m\u001B[43mgroup\u001B[49m\u001B[43m[\u001B[49m\u001B[33;43m\"\u001B[39;49m\u001B[33;43mlr\u001B[39;49m\u001B[33;43m\"\u001B[39;49m\u001B[43m]\u001B[49m\u001B[43m,\u001B[49m\n\u001B[32m    256\u001B[39m \u001B[43m        \u001B[49m\u001B[43mweight_decay\u001B[49m\u001B[43m=\u001B[49m\u001B[43mgroup\u001B[49m\u001B[43m[\u001B[49m\u001B[33;43m\"\u001B[39;49m\u001B[33;43mweight_decay\u001B[39;49m\u001B[33;43m\"\u001B[39;49m\u001B[43m]\u001B[49m\u001B[43m,\u001B[49m\n\u001B[32m    257\u001B[39m \u001B[43m        \u001B[49m\u001B[43meps\u001B[49m\u001B[43m=\u001B[49m\u001B[43mgroup\u001B[49m\u001B[43m[\u001B[49m\u001B[33;43m\"\u001B[39;49m\u001B[33;43meps\u001B[39;49m\u001B[33;43m\"\u001B[39;49m\u001B[43m]\u001B[49m\u001B[43m,\u001B[49m\n\u001B[32m    258\u001B[39m \u001B[43m        \u001B[49m\u001B[43mmaximize\u001B[49m\u001B[43m=\u001B[49m\u001B[43mgroup\u001B[49m\u001B[43m[\u001B[49m\u001B[33;43m\"\u001B[39;49m\u001B[33;43mmaximize\u001B[39;49m\u001B[33;43m\"\u001B[39;49m\u001B[43m]\u001B[49m\u001B[43m,\u001B[49m\n\u001B[32m    259\u001B[39m \u001B[43m        \u001B[49m\u001B[43mforeach\u001B[49m\u001B[43m=\u001B[49m\u001B[43mgroup\u001B[49m\u001B[43m[\u001B[49m\u001B[33;43m\"\u001B[39;49m\u001B[33;43mforeach\u001B[39;49m\u001B[33;43m\"\u001B[39;49m\u001B[43m]\u001B[49m\u001B[43m,\u001B[49m\n\u001B[32m    260\u001B[39m \u001B[43m        \u001B[49m\u001B[43mcapturable\u001B[49m\u001B[43m=\u001B[49m\u001B[43mgroup\u001B[49m\u001B[43m[\u001B[49m\u001B[33;43m\"\u001B[39;49m\u001B[33;43mcapturable\u001B[39;49m\u001B[33;43m\"\u001B[39;49m\u001B[43m]\u001B[49m\u001B[43m,\u001B[49m\n\u001B[32m    261\u001B[39m \u001B[43m        \u001B[49m\u001B[43mdifferentiable\u001B[49m\u001B[43m=\u001B[49m\u001B[43mgroup\u001B[49m\u001B[43m[\u001B[49m\u001B[33;43m\"\u001B[39;49m\u001B[33;43mdifferentiable\u001B[39;49m\u001B[33;43m\"\u001B[39;49m\u001B[43m]\u001B[49m\u001B[43m,\u001B[49m\n\u001B[32m    262\u001B[39m \u001B[43m        \u001B[49m\u001B[43mfused\u001B[49m\u001B[43m=\u001B[49m\u001B[43mgroup\u001B[49m\u001B[43m[\u001B[49m\u001B[33;43m\"\u001B[39;49m\u001B[33;43mfused\u001B[39;49m\u001B[33;43m\"\u001B[39;49m\u001B[43m]\u001B[49m\u001B[43m,\u001B[49m\n\u001B[32m    263\u001B[39m \u001B[43m        \u001B[49m\u001B[43mgrad_scale\u001B[49m\u001B[43m=\u001B[49m\u001B[38;5;28;43mgetattr\u001B[39;49m\u001B[43m(\u001B[49m\u001B[38;5;28;43mself\u001B[39;49m\u001B[43m,\u001B[49m\u001B[43m \u001B[49m\u001B[33;43m\"\u001B[39;49m\u001B[33;43mgrad_scale\u001B[39;49m\u001B[33;43m\"\u001B[39;49m\u001B[43m,\u001B[49m\u001B[43m \u001B[49m\u001B[38;5;28;43;01mNone\u001B[39;49;00m\u001B[43m)\u001B[49m\u001B[43m,\u001B[49m\n\u001B[32m    264\u001B[39m \u001B[43m        \u001B[49m\u001B[43mfound_inf\u001B[49m\u001B[43m=\u001B[49m\u001B[38;5;28;43mgetattr\u001B[39;49m\u001B[43m(\u001B[49m\u001B[38;5;28;43mself\u001B[39;49m\u001B[43m,\u001B[49m\u001B[43m \u001B[49m\u001B[33;43m\"\u001B[39;49m\u001B[33;43mfound_inf\u001B[39;49m\u001B[33;43m\"\u001B[39;49m\u001B[43m,\u001B[49m\u001B[43m \u001B[49m\u001B[38;5;28;43;01mNone\u001B[39;49;00m\u001B[43m)\u001B[49m\u001B[43m,\u001B[49m\n\u001B[32m    265\u001B[39m \u001B[43m    \u001B[49m\u001B[43m)\u001B[49m\n\u001B[32m    267\u001B[39m \u001B[38;5;28;01mreturn\u001B[39;00m loss\n",
      "\u001B[36mFile \u001B[39m\u001B[32m~/mlfcs/.venv/lib/python3.12/site-packages/torch/optim/optimizer.py:154\u001B[39m, in \u001B[36m_disable_dynamo_if_unsupported.<locals>.wrapper.<locals>.maybe_fallback\u001B[39m\u001B[34m(*args, **kwargs)\u001B[39m\n\u001B[32m    152\u001B[39m     \u001B[38;5;28;01mreturn\u001B[39;00m disabled_func(*args, **kwargs)\n\u001B[32m    153\u001B[39m \u001B[38;5;28;01melse\u001B[39;00m:\n\u001B[32m--> \u001B[39m\u001B[32m154\u001B[39m     \u001B[38;5;28;01mreturn\u001B[39;00m \u001B[43mfunc\u001B[49m\u001B[43m(\u001B[49m\u001B[43m*\u001B[49m\u001B[43margs\u001B[49m\u001B[43m,\u001B[49m\u001B[43m \u001B[49m\u001B[43m*\u001B[49m\u001B[43m*\u001B[49m\u001B[43mkwargs\u001B[49m\u001B[43m)\u001B[49m\n",
      "\u001B[36mFile \u001B[39m\u001B[32m~/mlfcs/.venv/lib/python3.12/site-packages/torch/optim/adam.py:876\u001B[39m, in \u001B[36madam\u001B[39m\u001B[34m(params, grads, exp_avgs, exp_avg_sqs, max_exp_avg_sqs, state_steps, foreach, capturable, differentiable, fused, grad_scale, found_inf, has_complex, amsgrad, beta1, beta2, lr, weight_decay, eps, maximize)\u001B[39m\n\u001B[32m    873\u001B[39m \u001B[38;5;28;01melse\u001B[39;00m:\n\u001B[32m    874\u001B[39m     func = _single_tensor_adam\n\u001B[32m--> \u001B[39m\u001B[32m876\u001B[39m \u001B[43mfunc\u001B[49m\u001B[43m(\u001B[49m\n\u001B[32m    877\u001B[39m \u001B[43m    \u001B[49m\u001B[43mparams\u001B[49m\u001B[43m,\u001B[49m\n\u001B[32m    878\u001B[39m \u001B[43m    \u001B[49m\u001B[43mgrads\u001B[49m\u001B[43m,\u001B[49m\n\u001B[32m    879\u001B[39m \u001B[43m    \u001B[49m\u001B[43mexp_avgs\u001B[49m\u001B[43m,\u001B[49m\n\u001B[32m    880\u001B[39m \u001B[43m    \u001B[49m\u001B[43mexp_avg_sqs\u001B[49m\u001B[43m,\u001B[49m\n\u001B[32m    881\u001B[39m \u001B[43m    \u001B[49m\u001B[43mmax_exp_avg_sqs\u001B[49m\u001B[43m,\u001B[49m\n\u001B[32m    882\u001B[39m \u001B[43m    \u001B[49m\u001B[43mstate_steps\u001B[49m\u001B[43m,\u001B[49m\n\u001B[32m    883\u001B[39m \u001B[43m    \u001B[49m\u001B[43mamsgrad\u001B[49m\u001B[43m=\u001B[49m\u001B[43mamsgrad\u001B[49m\u001B[43m,\u001B[49m\n\u001B[32m    884\u001B[39m \u001B[43m    \u001B[49m\u001B[43mhas_complex\u001B[49m\u001B[43m=\u001B[49m\u001B[43mhas_complex\u001B[49m\u001B[43m,\u001B[49m\n\u001B[32m    885\u001B[39m \u001B[43m    \u001B[49m\u001B[43mbeta1\u001B[49m\u001B[43m=\u001B[49m\u001B[43mbeta1\u001B[49m\u001B[43m,\u001B[49m\n\u001B[32m    886\u001B[39m \u001B[43m    \u001B[49m\u001B[43mbeta2\u001B[49m\u001B[43m=\u001B[49m\u001B[43mbeta2\u001B[49m\u001B[43m,\u001B[49m\n\u001B[32m    887\u001B[39m \u001B[43m    \u001B[49m\u001B[43mlr\u001B[49m\u001B[43m=\u001B[49m\u001B[43mlr\u001B[49m\u001B[43m,\u001B[49m\n\u001B[32m    888\u001B[39m \u001B[43m    \u001B[49m\u001B[43mweight_decay\u001B[49m\u001B[43m=\u001B[49m\u001B[43mweight_decay\u001B[49m\u001B[43m,\u001B[49m\n\u001B[32m    889\u001B[39m \u001B[43m    \u001B[49m\u001B[43meps\u001B[49m\u001B[43m=\u001B[49m\u001B[43meps\u001B[49m\u001B[43m,\u001B[49m\n\u001B[32m    890\u001B[39m \u001B[43m    \u001B[49m\u001B[43mmaximize\u001B[49m\u001B[43m=\u001B[49m\u001B[43mmaximize\u001B[49m\u001B[43m,\u001B[49m\n\u001B[32m    891\u001B[39m \u001B[43m    \u001B[49m\u001B[43mcapturable\u001B[49m\u001B[43m=\u001B[49m\u001B[43mcapturable\u001B[49m\u001B[43m,\u001B[49m\n\u001B[32m    892\u001B[39m \u001B[43m    \u001B[49m\u001B[43mdifferentiable\u001B[49m\u001B[43m=\u001B[49m\u001B[43mdifferentiable\u001B[49m\u001B[43m,\u001B[49m\n\u001B[32m    893\u001B[39m \u001B[43m    \u001B[49m\u001B[43mgrad_scale\u001B[49m\u001B[43m=\u001B[49m\u001B[43mgrad_scale\u001B[49m\u001B[43m,\u001B[49m\n\u001B[32m    894\u001B[39m \u001B[43m    \u001B[49m\u001B[43mfound_inf\u001B[49m\u001B[43m=\u001B[49m\u001B[43mfound_inf\u001B[49m\u001B[43m,\u001B[49m\n\u001B[32m    895\u001B[39m \u001B[43m\u001B[49m\u001B[43m)\u001B[49m\n",
      "\u001B[36mFile \u001B[39m\u001B[32m~/mlfcs/.venv/lib/python3.12/site-packages/torch/optim/adam.py:425\u001B[39m, in \u001B[36m_single_tensor_adam\u001B[39m\u001B[34m(params, grads, exp_avgs, exp_avg_sqs, max_exp_avg_sqs, state_steps, grad_scale, found_inf, amsgrad, has_complex, beta1, beta2, lr, weight_decay, eps, maximize, capturable, differentiable)\u001B[39m\n\u001B[32m    422\u001B[39m \u001B[38;5;66;03m# Decay the first and second moment running average coefficient\u001B[39;00m\n\u001B[32m    423\u001B[39m exp_avg.lerp_(grad, \u001B[32m1\u001B[39m - device_beta1)\n\u001B[32m--> \u001B[39m\u001B[32m425\u001B[39m \u001B[43mexp_avg_sq\u001B[49m\u001B[43m.\u001B[49m\u001B[43mmul_\u001B[49m\u001B[43m(\u001B[49m\u001B[43mbeta2\u001B[49m\u001B[43m)\u001B[49m\u001B[43m.\u001B[49m\u001B[43maddcmul_\u001B[49m\u001B[43m(\u001B[49m\u001B[43mgrad\u001B[49m\u001B[43m,\u001B[49m\u001B[43m \u001B[49m\u001B[43mgrad\u001B[49m\u001B[43m.\u001B[49m\u001B[43mconj\u001B[49m\u001B[43m(\u001B[49m\u001B[43m)\u001B[49m\u001B[43m,\u001B[49m\u001B[43m \u001B[49m\u001B[43mvalue\u001B[49m\u001B[43m=\u001B[49m\u001B[32;43m1\u001B[39;49m\u001B[43m \u001B[49m\u001B[43m-\u001B[49m\u001B[43m \u001B[49m\u001B[43mbeta2\u001B[49m\u001B[43m)\u001B[49m\n\u001B[32m    427\u001B[39m \u001B[38;5;28;01mif\u001B[39;00m capturable \u001B[38;5;129;01mor\u001B[39;00m differentiable:\n\u001B[32m    428\u001B[39m     step = step_t\n",
      "\u001B[31mKeyboardInterrupt\u001B[39m: "
     ]
    }
   ]
  },
  {
   "cell_type": "code",
   "id": "81acb91339e5878b",
   "metadata": {
    "ExecuteTime": {
     "end_time": "2025-05-19T21:39:21.443785Z",
     "start_time": "2025-05-19T14:14:51.279202Z"
    }
   },
   "source": "result",
   "outputs": [
    {
     "data": {
      "text/plain": [
       "(            model_loss  baseline_loss  \\\n",
       " datetime                                \n",
       " 2018-06-30   -0.408127      -9.620058   \n",
       " 2018-07-03   -8.252933      -8.608952   \n",
       " 2018-07-04    2.315962      -9.032787   \n",
       " 2018-07-05   -8.556475      -9.462177   \n",
       " 2018-07-06   -8.809825      -9.490600   \n",
       " ...                ...            ...   \n",
       " 2018-09-26   -9.234242     -10.044114   \n",
       " 2018-09-27   -0.406690      -9.559533   \n",
       " 2018-09-28   -9.010862      -9.785958   \n",
       " 2018-09-29  -10.263964     -10.194901   \n",
       " 2018-09-30    1.087641     -10.081060   \n",
       " \n",
       "                                                  true_returns  \\\n",
       " datetime                                                        \n",
       " 2018-06-30  [-0.0026883667, -0.004259642, 0.0017928587, 0....   \n",
       " 2018-07-03                                     [-0.008161686]   \n",
       " 2018-07-04  [0.00045824194, 0.001279179, -0.00041435525, 0...   \n",
       " 2018-07-05  [-0.0025450767, 0.0020725208, -0.0004954421, -...   \n",
       " 2018-07-06  [0.004517578, -0.0020303084, -0.0006618499, -0...   \n",
       " ...                                                       ...   \n",
       " 2018-09-26  [0.0008025224, -0.0018516219, 0.0015779294, 0....   \n",
       " 2018-09-27  [0.0025939993, -0.0004280163, -0.003148001, -0...   \n",
       " 2018-09-28  [-0.0022302242, 0.00031208308, 0.0011399924, 0...   \n",
       " 2018-09-29  [0.0032868334, -0.00068920065, 0.00027604564, ...   \n",
       " 2018-09-30  [-0.0022064324, 0.00063699996, -0.0029965176, ...   \n",
       " \n",
       "                                                     true_vols  \\\n",
       " datetime                                                        \n",
       " 2018-06-30  [0.00041156381, 0.0004322233, 0.00021497025, 0...   \n",
       " 2018-07-03                                    [0.00024051484]   \n",
       " 2018-07-04  [0.00017250539, 0.00017690947, 0.00018171575, ...   \n",
       " 2018-07-05  [0.00021121168, 0.0001595019, 0.00016921855, 0...   \n",
       " 2018-07-06  [7.636556e-05, 6.373772e-05, 0.00017979922, 8....   \n",
       " ...                                                       ...   \n",
       " 2018-09-26  [1.0667841e-05, 1.7913802e-05, 4.319444e-06, 4...   \n",
       " 2018-09-27  [1.11729005e-05, 7.5437806e-06, 8.304065e-06, ...   \n",
       " 2018-09-28  [4.492918e-05, 1.22871825e-05, 6.9373027e-06, ...   \n",
       " 2018-09-29  [5.466415e-05, 3.4944565e-05, 5.918822e-05, 2....   \n",
       " 2018-09-30  [2.2735778e-05, 1.68399e-05, 7.739e-06, 8.2679...   \n",
       " \n",
       "                                                   model_preds  \\\n",
       " datetime                                                        \n",
       " 2018-06-30  [0.664886, 0.664886, 0.664886, 0.664886, 0.664...   \n",
       " 2018-07-03                                    [0.00017987064]   \n",
       " 2018-07-04  [10.134608, 10.134664, 10.134623, 10.134636, 1...   \n",
       " 2018-07-05  [0.00017760607, 0.00017772526, 0.00017760607, ...   \n",
       " 2018-07-06  [0.00013553178, 0.00013553178, 0.00013553178, ...   \n",
       " ...                                                       ...   \n",
       " 2018-09-26  [8.5707805e-05, 8.5707805e-05, 8.5707805e-05, ...   \n",
       " 2018-09-27  [0.66582465, 0.66582465, 0.66582465, 0.6658246...   \n",
       " 2018-09-28  [0.00010096517, 0.00010096517, 0.00010096517, ...   \n",
       " 2018-09-29  [2.5987287e-05, 2.5987287e-05, 2.5868081e-05, ...   \n",
       " 2018-09-30  [2.9592292, 2.964732, 2.96353, 2.9656894, 2.97...   \n",
       " \n",
       "                                                baseline_preds  \n",
       " datetime                                                       \n",
       " 2018-06-30  [5.4953973e-05, 5.7814836e-05, 5.7934038e-05, ...  \n",
       " 2018-07-03                                    [5.9006856e-05]  \n",
       " 2018-07-04  [6.13909e-05, 6.13909e-05, 6.12717e-05, 6.1390...  \n",
       " 2018-07-05  [6.091409e-05, 6.2344516e-05, 6.1748506e-05, 6...  \n",
       " 2018-07-06  [6.1152496e-05, 6.0675688e-05, 6.1152496e-05, ...  \n",
       " ...                                                       ...  \n",
       " 2018-09-26  [2.9921084e-05, 2.9801879e-05, 2.9921084e-05, ...  \n",
       " 2018-09-27  [2.9563467e-05, 2.9325056e-05, 2.9444262e-05, ...  \n",
       " 2018-09-28  [2.9086643e-05, 2.9325056e-05, 2.920585e-05, 2...  \n",
       " 2018-09-29  [2.9325056e-05, 2.8490615e-05, 2.860982e-05, 2...  \n",
       " 2018-09-30  [2.8252203e-05, 2.8490615e-05, 2.8371409e-05, ...  \n",
       " \n",
       " [87 rows x 6 columns],\n",
       " TransformerPredictor(\n",
       "   (encoder_layer): TransformerEncoderLayer(\n",
       "     (self_attn): MultiheadAttention(\n",
       "       (out_proj): NonDynamicallyQuantizableLinear(in_features=11, out_features=11, bias=True)\n",
       "     )\n",
       "     (linear1): Linear(in_features=11, out_features=2048, bias=True)\n",
       "     (dropout): Dropout(p=0.2, inplace=False)\n",
       "     (linear2): Linear(in_features=2048, out_features=11, bias=True)\n",
       "     (norm1): LayerNorm((11,), eps=1e-05, elementwise_affine=True)\n",
       "     (norm2): LayerNorm((11,), eps=1e-05, elementwise_affine=True)\n",
       "     (dropout1): Dropout(p=0.2, inplace=False)\n",
       "     (dropout2): Dropout(p=0.2, inplace=False)\n",
       "   )\n",
       "   (transformer): TransformerEncoder(\n",
       "     (layers): ModuleList(\n",
       "       (0-2): 3 x TransformerEncoderLayer(\n",
       "         (self_attn): MultiheadAttention(\n",
       "           (out_proj): NonDynamicallyQuantizableLinear(in_features=11, out_features=11, bias=True)\n",
       "         )\n",
       "         (linear1): Linear(in_features=11, out_features=2048, bias=True)\n",
       "         (dropout): Dropout(p=0.2, inplace=False)\n",
       "         (linear2): Linear(in_features=2048, out_features=11, bias=True)\n",
       "         (norm1): LayerNorm((11,), eps=1e-05, elementwise_affine=True)\n",
       "         (norm2): LayerNorm((11,), eps=1e-05, elementwise_affine=True)\n",
       "         (dropout1): Dropout(p=0.2, inplace=False)\n",
       "         (dropout2): Dropout(p=0.2, inplace=False)\n",
       "       )\n",
       "     )\n",
       "   )\n",
       "   (final_layer): Sequential(\n",
       "     (0): Linear(in_features=1322, out_features=64, bias=True)\n",
       "     (1): ReLU()\n",
       "     (2): Dropout(p=0.2, inplace=False)\n",
       "     (3): Linear(in_features=64, out_features=1, bias=True)\n",
       "   )\n",
       " ),\n",
       " LSTMSoftplusPredictor(\n",
       "   (model): LSTM(10, 64, num_layers=3, bias=False, batch_first=True)\n",
       "   (final_layer): Sequential(\n",
       "     (0): Linear(in_features=66, out_features=64, bias=True)\n",
       "     (1): ReLU()\n",
       "     (2): Linear(in_features=64, out_features=1, bias=True)\n",
       "   )\n",
       " ))"
      ]
     },
     "execution_count": 5,
     "metadata": {},
     "output_type": "execute_result"
    }
   ],
   "execution_count": 5
  },
  {
   "metadata": {
    "ExecuteTime": {
     "end_time": "2025-05-19T21:39:21.450632Z",
     "start_time": "2025-05-19T14:14:51.373594Z"
    }
   },
   "cell_type": "code",
   "source": [
    "import pandas as pd\n",
    "from sklearn.metrics import root_mean_squared_error\n",
    "\n",
    "rmse = []\n",
    "for (date, row) in result.iterrows():\n",
    "    rmse.append([date, root_mean_squared_error(row.true_vols, row.model_preds), root_mean_squared_error(row.true_vols, row.baseline_preds)])\n",
    "\n",
    "rmse = pd.DataFrame(rmse, columns=[\"date\", \"model\", \"baseline\"]).set_index(\"date\")"
   ],
   "id": "b4df28114baaad36",
   "outputs": [
    {
     "ename": "AttributeError",
     "evalue": "'tuple' object has no attribute 'iterrows'",
     "output_type": "error",
     "traceback": [
      "\u001B[31m---------------------------------------------------------------------------\u001B[39m",
      "\u001B[31mAttributeError\u001B[39m                            Traceback (most recent call last)",
      "\u001B[36mCell\u001B[39m\u001B[36m \u001B[39m\u001B[32mIn[6]\u001B[39m\u001B[32m, line 5\u001B[39m\n\u001B[32m      2\u001B[39m \u001B[38;5;28;01mfrom\u001B[39;00m\u001B[38;5;250m \u001B[39m\u001B[34;01msklearn\u001B[39;00m\u001B[34;01m.\u001B[39;00m\u001B[34;01mmetrics\u001B[39;00m\u001B[38;5;250m \u001B[39m\u001B[38;5;28;01mimport\u001B[39;00m root_mean_squared_error\n\u001B[32m      4\u001B[39m rmse = []\n\u001B[32m----> \u001B[39m\u001B[32m5\u001B[39m \u001B[38;5;28;01mfor\u001B[39;00m (date, row) \u001B[38;5;129;01min\u001B[39;00m \u001B[43mresult\u001B[49m\u001B[43m.\u001B[49m\u001B[43miterrows\u001B[49m():\n\u001B[32m      6\u001B[39m     rmse.append([date, root_mean_squared_error(row.true_vols, row.model_preds), root_mean_squared_error(row.true_vols, row.baseline_preds)])\n\u001B[32m      8\u001B[39m rmse = pd.DataFrame(rmse, columns=[\u001B[33m\"\u001B[39m\u001B[33mdate\u001B[39m\u001B[33m\"\u001B[39m, \u001B[33m\"\u001B[39m\u001B[33mmodel\u001B[39m\u001B[33m\"\u001B[39m, \u001B[33m\"\u001B[39m\u001B[33mbaseline\u001B[39m\u001B[33m\"\u001B[39m]).set_index(\u001B[33m\"\u001B[39m\u001B[33mdate\u001B[39m\u001B[33m\"\u001B[39m)\n",
      "\u001B[31mAttributeError\u001B[39m: 'tuple' object has no attribute 'iterrows'"
     ]
    }
   ],
   "execution_count": 6
  },
  {
   "metadata": {
    "ExecuteTime": {
     "end_time": "2025-05-19T21:39:21.454620Z",
     "start_time": "2025-05-18T09:43:00.103982Z"
    }
   },
   "cell_type": "code",
   "source": "rmse.mean(axis=0)",
   "id": "297e27681336c43",
   "outputs": [
    {
     "data": {
      "text/plain": [
       "model       0.000147\n",
       "baseline    0.000154\n",
       "dtype: float64"
      ]
     },
     "execution_count": 110,
     "metadata": {},
     "output_type": "execute_result"
    }
   ],
   "execution_count": 110
  },
  {
   "metadata": {
    "ExecuteTime": {
     "end_time": "2025-05-19T21:39:21.455483Z",
     "start_time": "2025-05-18T09:43:00.196544Z"
    }
   },
   "cell_type": "code",
   "source": "rmse.std(axis=0)",
   "id": "c128907e5cdbc938",
   "outputs": [
    {
     "data": {
      "text/plain": [
       "model       0.000181\n",
       "baseline    0.000180\n",
       "dtype: float64"
      ]
     },
     "execution_count": 111,
     "metadata": {},
     "output_type": "execute_result"
    }
   ],
   "execution_count": 111
  },
  {
   "metadata": {
    "ExecuteTime": {
     "end_time": "2025-05-19T21:39:21.459126Z",
     "start_time": "2025-05-18T09:43:00.245527Z"
    }
   },
   "cell_type": "code",
   "source": "result.to_csv(f\"Daily_Transf_results_{runner.model_config.n_epochs}.csv\")",
   "id": "6e3cdd01c2954175",
   "outputs": [],
   "execution_count": 112
  },
  {
   "metadata": {
    "ExecuteTime": {
     "end_time": "2025-05-19T21:39:21.459407Z",
     "start_time": "2025-05-18T09:43:00.302822Z"
    }
   },
   "cell_type": "code",
   "source": "",
   "id": "bdc0496b69b8675f",
   "outputs": [],
   "execution_count": null
  }
 ],
 "metadata": {
  "kernelspec": {
   "display_name": "Python 3",
   "language": "python",
   "name": "python3"
  },
  "language_info": {
   "codemirror_mode": {
    "name": "ipython",
    "version": 2
   },
   "file_extension": ".py",
   "mimetype": "text/x-python",
   "name": "python",
   "nbconvert_exporter": "python",
   "pygments_lexer": "ipython2",
   "version": "2.7.6"
  }
 },
 "nbformat": 4,
 "nbformat_minor": 5
}
