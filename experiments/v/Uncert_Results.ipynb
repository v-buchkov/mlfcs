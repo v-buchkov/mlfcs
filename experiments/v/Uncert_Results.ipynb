{
 "cells": [
  {
   "cell_type": "code",
   "execution_count": 12,
   "id": "initial_id",
   "metadata": {
    "ExecuteTime": {
     "end_time": "2025-05-19T13:09:23.609858Z",
     "start_time": "2025-05-19T13:09:23.605767Z"
    }
   },
   "outputs": [],
   "source": [
    "import pandas as pd"
   ]
  },
  {
   "cell_type": "code",
   "execution_count": 13,
   "id": "9dc7d320f81ef6e6",
   "metadata": {
    "ExecuteTime": {
     "end_time": "2025-05-19T13:09:23.677259Z",
     "start_time": "2025-05-19T13:09:23.660723Z"
    }
   },
   "outputs": [],
   "source": [
    "daily_transf = pd.read_csv(\"Bayesian_20.csv\").set_index(\"datetime\")\n",
    "retrain = pd.read_csv(\"Retrain_Bayesian_20.csv\").set_index(\"datetime\")\n",
    "ensemble = pd.read_csv(\"Daily_Eval_20.csv\").set_index(\"datetime\")\n",
    "# usual = pd.read_csv(\"\")"
   ]
  },
  {
   "cell_type": "code",
   "execution_count": 14,
   "id": "95458e6f72736f0a",
   "metadata": {
    "ExecuteTime": {
     "end_time": "2025-05-19T13:09:23.712980Z",
     "start_time": "2025-05-19T13:09:23.705786Z"
    }
   },
   "outputs": [],
   "source": [
    "import numpy as np\n",
    "from sklearn.metrics import root_mean_squared_error, mean_absolute_error\n",
    "\n",
    "\n",
    "def get_rmse(result: pd.DataFrame, model_name: str, baseline_name: str) -> pd.DataFrame:\n",
    "    rmse = []\n",
    "    for date, row in result.iterrows():\n",
    "        true_vols = np.fromstring(row.true_vols.strip(\"[]\").replace(\"\\n\", \" \"), sep=\" \")\n",
    "        model_preds = np.fromstring(\n",
    "            row.model_preds.strip(\"[]\").replace(\"\\n\", \" \"), sep=\" \"\n",
    "        )\n",
    "        baseline_preds = np.fromstring(\n",
    "            row.baseline_preds.strip(\"[]\").replace(\"\\n\", \" \"), sep=\" \"\n",
    "        )\n",
    "        uncerts = np.fromstring(\n",
    "            row.baseline_preds.strip(\"[]\").replace(\"\\n\", \" \"), sep=\" \"\n",
    "        )\n",
    "\n",
    "        rmse.append(\n",
    "            [\n",
    "                date,\n",
    "                root_mean_squared_error(true_vols, model_preds),\n",
    "                root_mean_squared_error(true_vols, baseline_preds),\n",
    "                mean_absolute_error(true_vols, model_preds),\n",
    "                mean_absolute_error(true_vols, model_preds),\n",
    "                uncerts.mean(),\n",
    "            ]\n",
    "        )\n",
    "\n",
    "    return pd.DataFrame(\n",
    "        rmse, columns=[\"date\", model_name, baseline_name, \"MAE1\", \"MAE2\", \"uncert\"]\n",
    "    ).set_index(\"date\")"
   ]
  },
  {
   "cell_type": "code",
   "execution_count": 15,
   "id": "8ef586df80d427b1",
   "metadata": {
    "ExecuteTime": {
     "end_time": "2025-05-19T13:09:23.944904Z",
     "start_time": "2025-05-19T13:09:23.748336Z"
    }
   },
   "outputs": [],
   "source": [
    "retrain_rmse = get_rmse(retrain, \"LSTM Uncert Retrain\", \"Naive\")\n",
    "ensemble_rmse = get_rmse(ensemble, \"LSTM Uncert Ensemble\", \"Naive\")"
   ]
  },
  {
   "cell_type": "code",
   "execution_count": 16,
   "id": "ec455df59280615a",
   "metadata": {
    "ExecuteTime": {
     "end_time": "2025-05-19T13:09:24.021595Z",
     "start_time": "2025-05-19T13:09:24.016564Z"
    }
   },
   "outputs": [],
   "source": [
    "def represent_as_html(df: pd.DataFrame) -> str:\n",
    "    return df.style.format({var: \"{:,.8%}\".format for var in df.columns})"
   ]
  },
  {
   "cell_type": "code",
   "execution_count": 17,
   "id": "91fab8008ea71b5",
   "metadata": {
    "ExecuteTime": {
     "end_time": "2025-05-19T13:09:24.080810Z",
     "start_time": "2025-05-19T13:09:24.071672Z"
    }
   },
   "outputs": [
    {
     "data": {
      "text/html": [
       "<style type=\"text/css\">\n",
       "</style>\n",
       "<table id=\"T_2dbe5\">\n",
       "  <thead>\n",
       "    <tr>\n",
       "      <th class=\"blank level0\" >&nbsp;</th>\n",
       "      <th id=\"T_2dbe5_level0_col0\" class=\"col_heading level0 col0\" >0</th>\n",
       "    </tr>\n",
       "  </thead>\n",
       "  <tbody>\n",
       "    <tr>\n",
       "      <th id=\"T_2dbe5_level0_row0\" class=\"row_heading level0 row0\" >LSTM Uncert Retrain</th>\n",
       "      <td id=\"T_2dbe5_row0_col0\" class=\"data row0 col0\" >0.01514191%</td>\n",
       "    </tr>\n",
       "    <tr>\n",
       "      <th id=\"T_2dbe5_level0_row1\" class=\"row_heading level0 row1\" >Naive</th>\n",
       "      <td id=\"T_2dbe5_row1_col0\" class=\"data row1 col0\" >0.01520018%</td>\n",
       "    </tr>\n",
       "    <tr>\n",
       "      <th id=\"T_2dbe5_level0_row2\" class=\"row_heading level0 row2\" >MAE1</th>\n",
       "      <td id=\"T_2dbe5_row2_col0\" class=\"data row2 col0\" >0.00831098%</td>\n",
       "    </tr>\n",
       "    <tr>\n",
       "      <th id=\"T_2dbe5_level0_row3\" class=\"row_heading level0 row3\" >MAE2</th>\n",
       "      <td id=\"T_2dbe5_row3_col0\" class=\"data row3 col0\" >0.00831098%</td>\n",
       "    </tr>\n",
       "    <tr>\n",
       "      <th id=\"T_2dbe5_level0_row4\" class=\"row_heading level0 row4\" >uncert</th>\n",
       "      <td id=\"T_2dbe5_row4_col0\" class=\"data row4 col0\" >0.01519459%</td>\n",
       "    </tr>\n",
       "  </tbody>\n",
       "</table>\n"
      ],
      "text/plain": [
       "<pandas.io.formats.style.Styler at 0x126e45c40>"
      ]
     },
     "execution_count": 17,
     "metadata": {},
     "output_type": "execute_result"
    }
   ],
   "source": [
    "represent_as_html(retrain_rmse.mean(axis=0).to_frame())"
   ]
  },
  {
   "cell_type": "code",
   "execution_count": 18,
   "id": "7ba6a10134d93efa",
   "metadata": {
    "ExecuteTime": {
     "end_time": "2025-05-19T13:09:24.115434Z",
     "start_time": "2025-05-19T13:09:24.107746Z"
    }
   },
   "outputs": [
    {
     "data": {
      "text/html": [
       "<style type=\"text/css\">\n",
       "</style>\n",
       "<table id=\"T_cd9ec\">\n",
       "  <thead>\n",
       "    <tr>\n",
       "      <th class=\"blank level0\" >&nbsp;</th>\n",
       "      <th id=\"T_cd9ec_level0_col0\" class=\"col_heading level0 col0\" >0</th>\n",
       "    </tr>\n",
       "  </thead>\n",
       "  <tbody>\n",
       "    <tr>\n",
       "      <th id=\"T_cd9ec_level0_row0\" class=\"row_heading level0 row0\" >LSTM Uncert Retrain</th>\n",
       "      <td id=\"T_cd9ec_row0_col0\" class=\"data row0 col0\" >0.01800430%</td>\n",
       "    </tr>\n",
       "    <tr>\n",
       "      <th id=\"T_cd9ec_level0_row1\" class=\"row_heading level0 row1\" >Naive</th>\n",
       "      <td id=\"T_cd9ec_row1_col0\" class=\"data row1 col0\" >0.01662119%</td>\n",
       "    </tr>\n",
       "    <tr>\n",
       "      <th id=\"T_cd9ec_level0_row2\" class=\"row_heading level0 row2\" >MAE1</th>\n",
       "      <td id=\"T_cd9ec_row2_col0\" class=\"data row2 col0\" >0.00754087%</td>\n",
       "    </tr>\n",
       "    <tr>\n",
       "      <th id=\"T_cd9ec_level0_row3\" class=\"row_heading level0 row3\" >MAE2</th>\n",
       "      <td id=\"T_cd9ec_row3_col0\" class=\"data row3 col0\" >0.00754087%</td>\n",
       "    </tr>\n",
       "    <tr>\n",
       "      <th id=\"T_cd9ec_level0_row4\" class=\"row_heading level0 row4\" >uncert</th>\n",
       "      <td id=\"T_cd9ec_row4_col0\" class=\"data row4 col0\" >0.00439197%</td>\n",
       "    </tr>\n",
       "  </tbody>\n",
       "</table>\n"
      ],
      "text/plain": [
       "<pandas.io.formats.style.Styler at 0x31bb570b0>"
      ]
     },
     "execution_count": 18,
     "metadata": {},
     "output_type": "execute_result"
    }
   ],
   "source": [
    "represent_as_html(retrain_rmse.std(axis=0).to_frame())"
   ]
  },
  {
   "cell_type": "code",
   "execution_count": 19,
   "id": "3e4523fb07a79e6",
   "metadata": {
    "ExecuteTime": {
     "end_time": "2025-05-19T13:09:24.170159Z",
     "start_time": "2025-05-19T13:09:24.162606Z"
    }
   },
   "outputs": [
    {
     "data": {
      "text/html": [
       "<style type=\"text/css\">\n",
       "</style>\n",
       "<table id=\"T_ba6cc\">\n",
       "  <thead>\n",
       "    <tr>\n",
       "      <th class=\"blank level0\" >&nbsp;</th>\n",
       "      <th id=\"T_ba6cc_level0_col0\" class=\"col_heading level0 col0\" >0</th>\n",
       "    </tr>\n",
       "  </thead>\n",
       "  <tbody>\n",
       "    <tr>\n",
       "      <th id=\"T_ba6cc_level0_row0\" class=\"row_heading level0 row0\" >LSTM Uncert Ensemble</th>\n",
       "      <td id=\"T_ba6cc_row0_col0\" class=\"data row0 col0\" >0.01511618%</td>\n",
       "    </tr>\n",
       "    <tr>\n",
       "      <th id=\"T_ba6cc_level0_row1\" class=\"row_heading level0 row1\" >Naive</th>\n",
       "      <td id=\"T_ba6cc_row1_col0\" class=\"data row1 col0\" >0.01501475%</td>\n",
       "    </tr>\n",
       "    <tr>\n",
       "      <th id=\"T_ba6cc_level0_row2\" class=\"row_heading level0 row2\" >MAE1</th>\n",
       "      <td id=\"T_ba6cc_row2_col0\" class=\"data row2 col0\" >0.00831425%</td>\n",
       "    </tr>\n",
       "    <tr>\n",
       "      <th id=\"T_ba6cc_level0_row3\" class=\"row_heading level0 row3\" >MAE2</th>\n",
       "      <td id=\"T_ba6cc_row3_col0\" class=\"data row3 col0\" >0.00831425%</td>\n",
       "    </tr>\n",
       "    <tr>\n",
       "      <th id=\"T_ba6cc_level0_row4\" class=\"row_heading level0 row4\" >uncert</th>\n",
       "      <td id=\"T_ba6cc_row4_col0\" class=\"data row4 col0\" >0.01480871%</td>\n",
       "    </tr>\n",
       "  </tbody>\n",
       "</table>\n"
      ],
      "text/plain": [
       "<pandas.io.formats.style.Styler at 0x31bb57d10>"
      ]
     },
     "execution_count": 19,
     "metadata": {},
     "output_type": "execute_result"
    }
   ],
   "source": [
    "represent_as_html(ensemble_rmse.mean(axis=0).to_frame())"
   ]
  },
  {
   "cell_type": "code",
   "execution_count": 20,
   "id": "e374d55e121d733d",
   "metadata": {
    "ExecuteTime": {
     "end_time": "2025-05-19T13:09:24.216451Z",
     "start_time": "2025-05-19T13:09:24.207932Z"
    }
   },
   "outputs": [
    {
     "data": {
      "text/html": [
       "<style type=\"text/css\">\n",
       "</style>\n",
       "<table id=\"T_bbb21\">\n",
       "  <thead>\n",
       "    <tr>\n",
       "      <th class=\"blank level0\" >&nbsp;</th>\n",
       "      <th id=\"T_bbb21_level0_col0\" class=\"col_heading level0 col0\" >0</th>\n",
       "    </tr>\n",
       "  </thead>\n",
       "  <tbody>\n",
       "    <tr>\n",
       "      <th id=\"T_bbb21_level0_row0\" class=\"row_heading level0 row0\" >LSTM Uncert Ensemble</th>\n",
       "      <td id=\"T_bbb21_row0_col0\" class=\"data row0 col0\" >0.01801922%</td>\n",
       "    </tr>\n",
       "    <tr>\n",
       "      <th id=\"T_bbb21_level0_row1\" class=\"row_heading level0 row1\" >Naive</th>\n",
       "      <td id=\"T_bbb21_row1_col0\" class=\"data row1 col0\" >0.01666490%</td>\n",
       "    </tr>\n",
       "    <tr>\n",
       "      <th id=\"T_bbb21_level0_row2\" class=\"row_heading level0 row2\" >MAE1</th>\n",
       "      <td id=\"T_bbb21_row2_col0\" class=\"data row2 col0\" >0.00753899%</td>\n",
       "    </tr>\n",
       "    <tr>\n",
       "      <th id=\"T_bbb21_level0_row3\" class=\"row_heading level0 row3\" >MAE2</th>\n",
       "      <td id=\"T_bbb21_row3_col0\" class=\"data row3 col0\" >0.00753899%</td>\n",
       "    </tr>\n",
       "    <tr>\n",
       "      <th id=\"T_bbb21_level0_row4\" class=\"row_heading level0 row4\" >uncert</th>\n",
       "      <td id=\"T_bbb21_row4_col0\" class=\"data row4 col0\" >0.00427955%</td>\n",
       "    </tr>\n",
       "  </tbody>\n",
       "</table>\n"
      ],
      "text/plain": [
       "<pandas.io.formats.style.Styler at 0x31bb56bd0>"
      ]
     },
     "execution_count": 20,
     "metadata": {},
     "output_type": "execute_result"
    }
   ],
   "source": [
    "represent_as_html(ensemble_rmse.std(axis=0).to_frame())"
   ]
  },
  {
   "cell_type": "code",
   "execution_count": 21,
   "id": "f2076e4259496c53",
   "metadata": {
    "ExecuteTime": {
     "end_time": "2025-05-19T13:09:24.411510Z",
     "start_time": "2025-05-19T13:09:24.239093Z"
    }
   },
   "outputs": [
    {
     "data": {
      "text/html": [
       "<div>\n",
       "<style scoped>\n",
       "    .dataframe tbody tr th:only-of-type {\n",
       "        vertical-align: middle;\n",
       "    }\n",
       "\n",
       "    .dataframe tbody tr th {\n",
       "        vertical-align: top;\n",
       "    }\n",
       "\n",
       "    .dataframe thead th {\n",
       "        text-align: right;\n",
       "    }\n",
       "</style>\n",
       "<table border=\"1\" class=\"dataframe\">\n",
       "  <thead>\n",
       "    <tr style=\"text-align: right;\">\n",
       "      <th></th>\n",
       "      <th>LSTM</th>\n",
       "      <th>Naive</th>\n",
       "      <th>MAE1</th>\n",
       "      <th>MAE2</th>\n",
       "      <th>uncert</th>\n",
       "    </tr>\n",
       "    <tr>\n",
       "      <th>date</th>\n",
       "      <th></th>\n",
       "      <th></th>\n",
       "      <th></th>\n",
       "      <th></th>\n",
       "      <th></th>\n",
       "    </tr>\n",
       "  </thead>\n",
       "  <tbody>\n",
       "    <tr>\n",
       "      <th>2018-06-30</th>\n",
       "      <td>0.000212</td>\n",
       "      <td>0.000096</td>\n",
       "      <td>0.000190</td>\n",
       "      <td>0.000190</td>\n",
       "      <td>0.000238</td>\n",
       "    </tr>\n",
       "    <tr>\n",
       "      <th>2018-07-03</th>\n",
       "      <td>0.000174</td>\n",
       "      <td>0.000002</td>\n",
       "      <td>0.000174</td>\n",
       "      <td>0.000174</td>\n",
       "      <td>0.000242</td>\n",
       "    </tr>\n",
       "    <tr>\n",
       "      <th>2018-07-04</th>\n",
       "      <td>0.000185</td>\n",
       "      <td>0.000126</td>\n",
       "      <td>0.000140</td>\n",
       "      <td>0.000140</td>\n",
       "      <td>0.000246</td>\n",
       "    </tr>\n",
       "    <tr>\n",
       "      <th>2018-07-05</th>\n",
       "      <td>0.000109</td>\n",
       "      <td>0.000089</td>\n",
       "      <td>0.000098</td>\n",
       "      <td>0.000098</td>\n",
       "      <td>0.000248</td>\n",
       "    </tr>\n",
       "    <tr>\n",
       "      <th>2018-07-06</th>\n",
       "      <td>0.000115</td>\n",
       "      <td>0.000125</td>\n",
       "      <td>0.000087</td>\n",
       "      <td>0.000087</td>\n",
       "      <td>0.000249</td>\n",
       "    </tr>\n",
       "    <tr>\n",
       "      <th>...</th>\n",
       "      <td>...</td>\n",
       "      <td>...</td>\n",
       "      <td>...</td>\n",
       "      <td>...</td>\n",
       "      <td>...</td>\n",
       "    </tr>\n",
       "    <tr>\n",
       "      <th>2018-09-26</th>\n",
       "      <td>0.000027</td>\n",
       "      <td>0.000118</td>\n",
       "      <td>0.000021</td>\n",
       "      <td>0.000021</td>\n",
       "      <td>0.000151</td>\n",
       "    </tr>\n",
       "    <tr>\n",
       "      <th>2018-09-27</th>\n",
       "      <td>0.000068</td>\n",
       "      <td>0.000120</td>\n",
       "      <td>0.000032</td>\n",
       "      <td>0.000032</td>\n",
       "      <td>0.000150</td>\n",
       "    </tr>\n",
       "    <tr>\n",
       "      <th>2018-09-28</th>\n",
       "      <td>0.000097</td>\n",
       "      <td>0.000120</td>\n",
       "      <td>0.000048</td>\n",
       "      <td>0.000048</td>\n",
       "      <td>0.000149</td>\n",
       "    </tr>\n",
       "    <tr>\n",
       "      <th>2018-09-29</th>\n",
       "      <td>0.000069</td>\n",
       "      <td>0.000080</td>\n",
       "      <td>0.000054</td>\n",
       "      <td>0.000054</td>\n",
       "      <td>0.000149</td>\n",
       "    </tr>\n",
       "    <tr>\n",
       "      <th>2018-09-30</th>\n",
       "      <td>0.000020</td>\n",
       "      <td>0.000124</td>\n",
       "      <td>0.000014</td>\n",
       "      <td>0.000014</td>\n",
       "      <td>0.000148</td>\n",
       "    </tr>\n",
       "  </tbody>\n",
       "</table>\n",
       "<p>87 rows × 5 columns</p>\n",
       "</div>"
      ],
      "text/plain": [
       "                LSTM     Naive      MAE1      MAE2    uncert\n",
       "date                                                        \n",
       "2018-06-30  0.000212  0.000096  0.000190  0.000190  0.000238\n",
       "2018-07-03  0.000174  0.000002  0.000174  0.000174  0.000242\n",
       "2018-07-04  0.000185  0.000126  0.000140  0.000140  0.000246\n",
       "2018-07-05  0.000109  0.000089  0.000098  0.000098  0.000248\n",
       "2018-07-06  0.000115  0.000125  0.000087  0.000087  0.000249\n",
       "...              ...       ...       ...       ...       ...\n",
       "2018-09-26  0.000027  0.000118  0.000021  0.000021  0.000151\n",
       "2018-09-27  0.000068  0.000120  0.000032  0.000032  0.000150\n",
       "2018-09-28  0.000097  0.000120  0.000048  0.000048  0.000149\n",
       "2018-09-29  0.000069  0.000080  0.000054  0.000054  0.000149\n",
       "2018-09-30  0.000020  0.000124  0.000014  0.000014  0.000148\n",
       "\n",
       "[87 rows x 5 columns]"
      ]
     },
     "execution_count": 21,
     "metadata": {},
     "output_type": "execute_result"
    }
   ],
   "source": [
    "rmse = get_rmse(daily_transf, \"LSTM\", \"Naive\")\n",
    "rmse"
   ]
  },
  {
   "cell_type": "code",
   "execution_count": 22,
   "id": "dbfb9839043a200c",
   "metadata": {
    "ExecuteTime": {
     "end_time": "2025-05-19T13:09:24.750848Z",
     "start_time": "2025-05-19T13:09:24.744322Z"
    }
   },
   "outputs": [
    {
     "data": {
      "text/html": [
       "<style type=\"text/css\">\n",
       "</style>\n",
       "<table id=\"T_14e7f\">\n",
       "  <thead>\n",
       "    <tr>\n",
       "      <th class=\"blank level0\" >&nbsp;</th>\n",
       "      <th id=\"T_14e7f_level0_col0\" class=\"col_heading level0 col0\" >0</th>\n",
       "    </tr>\n",
       "  </thead>\n",
       "  <tbody>\n",
       "    <tr>\n",
       "      <th id=\"T_14e7f_level0_row0\" class=\"row_heading level0 row0\" >LSTM</th>\n",
       "      <td id=\"T_14e7f_row0_col0\" class=\"data row0 col0\" >0.01522439%</td>\n",
       "    </tr>\n",
       "    <tr>\n",
       "      <th id=\"T_14e7f_level0_row1\" class=\"row_heading level0 row1\" >Naive</th>\n",
       "      <td id=\"T_14e7f_row1_col0\" class=\"data row1 col0\" >0.01701130%</td>\n",
       "    </tr>\n",
       "    <tr>\n",
       "      <th id=\"T_14e7f_level0_row2\" class=\"row_heading level0 row2\" >MAE1</th>\n",
       "      <td id=\"T_14e7f_row2_col0\" class=\"data row2 col0\" >0.00837838%</td>\n",
       "    </tr>\n",
       "    <tr>\n",
       "      <th id=\"T_14e7f_level0_row3\" class=\"row_heading level0 row3\" >MAE2</th>\n",
       "      <td id=\"T_14e7f_row3_col0\" class=\"data row3 col0\" >0.00837838%</td>\n",
       "    </tr>\n",
       "    <tr>\n",
       "      <th id=\"T_14e7f_level0_row4\" class=\"row_heading level0 row4\" >uncert</th>\n",
       "      <td id=\"T_14e7f_row4_col0\" class=\"data row4 col0\" >0.01871919%</td>\n",
       "    </tr>\n",
       "  </tbody>\n",
       "</table>\n"
      ],
      "text/plain": [
       "<pandas.io.formats.style.Styler at 0x31ba44410>"
      ]
     },
     "execution_count": 22,
     "metadata": {},
     "output_type": "execute_result"
    }
   ],
   "source": [
    "represent_as_html(rmse.mean(axis=0).to_frame())"
   ]
  },
  {
   "cell_type": "code",
   "execution_count": 23,
   "id": "d570f1a39ba58034",
   "metadata": {
    "ExecuteTime": {
     "end_time": "2025-05-19T13:09:24.918477Z",
     "start_time": "2025-05-19T13:09:24.907100Z"
    }
   },
   "outputs": [
    {
     "data": {
      "text/html": [
       "<style type=\"text/css\">\n",
       "</style>\n",
       "<table id=\"T_b5e60\">\n",
       "  <thead>\n",
       "    <tr>\n",
       "      <th class=\"blank level0\" >&nbsp;</th>\n",
       "      <th id=\"T_b5e60_level0_col0\" class=\"col_heading level0 col0\" >0</th>\n",
       "    </tr>\n",
       "  </thead>\n",
       "  <tbody>\n",
       "    <tr>\n",
       "      <th id=\"T_b5e60_level0_row0\" class=\"row_heading level0 row0\" >LSTM</th>\n",
       "      <td id=\"T_b5e60_row0_col0\" class=\"data row0 col0\" >0.01802035%</td>\n",
       "    </tr>\n",
       "    <tr>\n",
       "      <th id=\"T_b5e60_level0_row1\" class=\"row_heading level0 row1\" >Naive</th>\n",
       "      <td id=\"T_b5e60_row1_col0\" class=\"data row1 col0\" >0.01579586%</td>\n",
       "    </tr>\n",
       "    <tr>\n",
       "      <th id=\"T_b5e60_level0_row2\" class=\"row_heading level0 row2\" >MAE1</th>\n",
       "      <td id=\"T_b5e60_row2_col0\" class=\"data row2 col0\" >0.00762221%</td>\n",
       "    </tr>\n",
       "    <tr>\n",
       "      <th id=\"T_b5e60_level0_row3\" class=\"row_heading level0 row3\" >MAE2</th>\n",
       "      <td id=\"T_b5e60_row3_col0\" class=\"data row3 col0\" >0.00762221%</td>\n",
       "    </tr>\n",
       "    <tr>\n",
       "      <th id=\"T_b5e60_level0_row4\" class=\"row_heading level0 row4\" >uncert</th>\n",
       "      <td id=\"T_b5e60_row4_col0\" class=\"data row4 col0\" >0.00296011%</td>\n",
       "    </tr>\n",
       "  </tbody>\n",
       "</table>\n"
      ],
      "text/plain": [
       "<pandas.io.formats.style.Styler at 0x31ba011f0>"
      ]
     },
     "execution_count": 23,
     "metadata": {},
     "output_type": "execute_result"
    }
   ],
   "source": [
    "represent_as_html(rmse.std(axis=0).to_frame())"
   ]
  },
  {
   "cell_type": "code",
   "execution_count": 24,
   "id": "88d8b26a-62e5-4dda-ad0c-22fa1ad79e0e",
   "metadata": {
    "ExecuteTime": {
     "end_time": "2025-05-19T13:09:25.192561Z",
     "start_time": "2025-05-19T13:09:25.184386Z"
    }
   },
   "outputs": [],
   "source": [
    "rmse = rmse.reset_index()\n",
    "rmse[\"date\"] = pd.to_datetime(rmse[\"date\"])\n",
    "rmse = rmse.set_index(\"date\")"
   ]
  },
  {
   "cell_type": "code",
   "execution_count": 25,
   "id": "b120ba2ea8efd158",
   "metadata": {
    "ExecuteTime": {
     "end_time": "2025-05-19T13:09:25.783978Z",
     "start_time": "2025-05-19T13:09:25.254013Z"
    }
   },
   "outputs": [
    {
     "data": {
      "image/png": "[encoded data removed]",
      "text/plain": [
       "<Figure size 1200x900 with 1 Axes>"
      ]
     },
     "metadata": {},
     "output_type": "display_data"
    }
   ],
   "source": [
    "import matplotlib.pyplot as plt\n",
    "\n",
    "ci_up = rmse[\"LSTM\"] + rmse[\"uncert\"] * 1.65\n",
    "ci_down = rmse[\"LSTM\"] - rmse[\"uncert\"] * 1.65\n",
    "\n",
    "fig = plt.figure(figsize=(12, 9))\n",
    "\n",
    "plt.plot(rmse.index, rmse[\"LSTM\"].to_numpy(), label=\"LSTM\")\n",
    "plt.fill_between(\n",
    "    rmse.index,\n",
    "    ci_up.to_numpy(),\n",
    "    ci_down.to_numpy(),\n",
    "    alpha=0.2,\n",
    ")\n",
    "plt.legend()\n",
    "plt.xlabel(\"Date\")\n",
    "plt.ylabel(\"RMSE\")\n",
    "ax = plt.gca()\n",
    "# ax.xaxis.set_major_locator(mdates.MonthLocator())\n",
    "# ax.xaxis.set_major_formatter(mdates.DateFormatter('%M/%Y'))\n",
    "plt.gcf().autofmt_xdate()\n",
    "plt.show()\n",
    "# plt.savefig(\"new.png\")\n",
    "\n",
    "fig.savefig(\"temp.png\", dpi=fig.dpi)"
   ]
  },
  {
   "cell_type": "code",
   "execution_count": 26,
   "id": "985160d0-68df-470f-bf09-20c77d009819",
   "metadata": {
    "ExecuteTime": {
     "end_time": "2025-05-19T13:09:25.916241Z",
     "start_time": "2025-05-19T13:09:25.907439Z"
    }
   },
   "outputs": [
    {
     "data": {
      "text/plain": [
       "DatetimeIndex(['2018-06-30', '2018-07-03', '2018-07-04', '2018-07-05',\n",
       "               '2018-07-06', '2018-07-07', '2018-07-08', '2018-07-09',\n",
       "               '2018-07-10', '2018-07-11', '2018-07-12', '2018-07-13',\n",
       "               '2018-07-14', '2018-07-15', '2018-07-16', '2018-07-17',\n",
       "               '2018-07-18', '2018-07-19', '2018-07-20', '2018-07-21',\n",
       "               '2018-07-22', '2018-07-23', '2018-07-24', '2018-07-25',\n",
       "               '2018-07-26', '2018-07-27', '2018-07-28', '2018-07-29',\n",
       "               '2018-07-30', '2018-07-31', '2018-08-03', '2018-08-04',\n",
       "               '2018-08-05', '2018-08-06', '2018-08-07', '2018-08-08',\n",
       "               '2018-08-09', '2018-08-10', '2018-08-11', '2018-08-12',\n",
       "               '2018-08-13', '2018-08-14', '2018-08-15', '2018-08-16',\n",
       "               '2018-08-17', '2018-08-18', '2018-08-19', '2018-08-20',\n",
       "               '2018-08-21', '2018-08-22', '2018-08-23', '2018-08-24',\n",
       "               '2018-08-25', '2018-08-26', '2018-08-27', '2018-08-28',\n",
       "               '2018-08-29', '2018-08-30', '2018-08-31', '2018-09-03',\n",
       "               '2018-09-04', '2018-09-05', '2018-09-06', '2018-09-07',\n",
       "               '2018-09-08', '2018-09-09', '2018-09-10', '2018-09-11',\n",
       "               '2018-09-12', '2018-09-13', '2018-09-14', '2018-09-15',\n",
       "               '2018-09-16', '2018-09-17', '2018-09-18', '2018-09-19',\n",
       "               '2018-09-20', '2018-09-21', '2018-09-22', '2018-09-23',\n",
       "               '2018-09-24', '2018-09-25', '2018-09-26', '2018-09-27',\n",
       "               '2018-09-28', '2018-09-29', '2018-09-30'],\n",
       "              dtype='datetime64[ns]', name='date', freq=None)"
      ]
     },
     "execution_count": 26,
     "metadata": {},
     "output_type": "execute_result"
    }
   ],
   "source": [
    "rmse.index"
   ]
  },
  {
   "metadata": {
    "ExecuteTime": {
     "end_time": "2025-05-19T13:09:26.040219Z",
     "start_time": "2025-05-19T13:09:26.003244Z"
    }
   },
   "cell_type": "code",
   "outputs": [
    {
     "ename": "NameError",
     "evalue": "name 'results' is not defined",
     "output_type": "error",
     "traceback": [
      "\u001B[31m---------------------------------------------------------------------------\u001B[39m",
      "\u001B[31mNameError\u001B[39m                                 Traceback (most recent call last)",
      "\u001B[36mCell\u001B[39m\u001B[36m \u001B[39m\u001B[32mIn[27]\u001B[39m\u001B[32m, line 1\u001B[39m\n\u001B[32m----> \u001B[39m\u001B[32m1\u001B[39m \u001B[43mresults\u001B[49m.mean(axis=\u001B[32m0\u001B[39m)\n",
      "\u001B[31mNameError\u001B[39m: name 'results' is not defined"
     ]
    }
   ],
   "execution_count": 27,
   "source": "rmse.mean(axis=0)",
   "id": "9fe15f3514a9a74f"
  },
  {
   "metadata": {
    "ExecuteTime": {
     "end_time": "2025-05-19T13:09:26.061372Z",
     "start_time": "2025-05-19T07:43:35.076825Z"
    }
   },
   "cell_type": "code",
   "outputs": [],
   "execution_count": null,
   "source": [
    "mu = rmse.mean(axis=0).to_frame()\n",
    "\n",
    "\n",
    "def represent_as_html(df: pd.DataFrame) -> str:\n",
    "    return df.style.format({var: \"{:,.8%}\".format for var in df.columns})"
   ],
   "id": "6ff1dfa7d02d28b3"
  },
  {
   "cell_type": "code",
   "execution_count": null,
   "id": "32f6456d6741ff45",
   "metadata": {
    "ExecuteTime": {
     "end_time": "2025-05-19T13:09:26.082745Z",
     "start_time": "2025-05-19T07:43:35.875967Z"
    }
   },
   "outputs": [],
   "source": [
    "represent_as_html(mu)"
   ]
  },
  {
   "cell_type": "code",
   "execution_count": null,
   "id": "7d7d7d3269399af7",
   "metadata": {
    "ExecuteTime": {
     "end_time": "2025-05-19T13:09:26.084610Z",
     "start_time": "2025-05-19T07:44:19.273064Z"
    }
   },
   "outputs": [],
   "source": [
    "std = rmse.std(axis=0).to_frame()\n",
    "represent_as_html(std)"
   ]
  },
  {
   "cell_type": "code",
   "execution_count": null,
   "id": "fcb9b2b34e173d08",
   "metadata": {
    "ExecuteTime": {
     "end_time": "2025-05-19T13:09:26.086017Z",
     "start_time": "2025-05-19T07:56:19.964700Z"
    }
   },
   "outputs": [],
   "source": "rmse[[\"LSTM\", \"Naive\"]].plot(figsize=(12, 9));"
  },
  {
   "cell_type": "code",
   "execution_count": null,
   "id": "d9c9b369eddc8ac9",
   "metadata": {
    "ExecuteTime": {
     "end_time": "2025-05-19T13:09:26.086980Z",
     "start_time": "2025-05-19T06:33:16.143490Z"
    }
   },
   "outputs": [],
   "source": "rmse[[\"Transformer\", \"LSTM\"]].plot();"
  },
  {
   "cell_type": "code",
   "execution_count": null,
   "id": "caef70a26aa1dc2f",
   "metadata": {
    "ExecuteTime": {
     "end_time": "2025-05-19T13:09:26.087850Z",
     "start_time": "2025-05-19T08:09:30.546273Z"
    }
   },
   "outputs": [],
   "source": [
    "from config.experiment_config import ExperimentConfig\n",
    "from config.model_config import ModelConfig\n",
    "\n",
    "model_config = ModelConfig()\n",
    "experiment_config = ExperimentConfig()\n",
    "\n",
    "data = pd.read_csv(experiment_config.PATH_DATA / experiment_config.DATASET.value)\n",
    "data[\"datetime\"] = pd.to_datetime(data[\"datetime\"])\n",
    "data = data.sort_values(by=\"datetime\")\n",
    "data = data.set_index(\"datetime\")\n",
    "data.index = data.index.tz_localize(None)"
   ]
  },
  {
   "cell_type": "code",
   "execution_count": null,
   "id": "5af498f2270baea4",
   "metadata": {
    "ExecuteTime": {
     "end_time": "2025-05-19T13:09:26.088758Z",
     "start_time": "2025-05-19T08:09:34.199666Z"
    }
   },
   "outputs": [],
   "source": [
    "data.shape"
   ]
  },
  {
   "cell_type": "code",
   "execution_count": null,
   "id": "505ba63a18c8e45b",
   "metadata": {
    "ExecuteTime": {
     "end_time": "2025-05-19T13:09:26.089895Z",
     "start_time": "2025-05-19T08:09:44.059170Z"
    }
   },
   "outputs": [],
   "source": [
    "data.index.min(), data.index.max()"
   ]
  },
  {
   "cell_type": "code",
   "execution_count": null,
   "id": "c2b6de8be9720b91",
   "metadata": {},
   "outputs": [],
   "source": []
  }
 ],
 "metadata": {
  "kernelspec": {
   "display_name": "Python 3 (ipykernel)",
   "language": "python",
   "name": "python3"
  },
  "language_info": {
   "codemirror_mode": {
    "name": "ipython",
    "version": 3
   },
   "file_extension": ".py",
   "mimetype": "text/x-python",
   "name": "python",
   "nbconvert_exporter": "python",
   "pygments_lexer": "ipython3",
   "version": "3.12.5"
  }
 },
 "nbformat": 4,
 "nbformat_minor": 5
}
