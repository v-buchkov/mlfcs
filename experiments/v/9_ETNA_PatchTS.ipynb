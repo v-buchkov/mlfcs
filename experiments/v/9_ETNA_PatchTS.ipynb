{
 "cells": [
  {
   "cell_type": "code",
   "id": "a1a1a571",
   "metadata": {
    "pycharm": {
     "is_executing": true
    },
    "ExecuteTime": {
     "end_time": "2025-05-18T17:58:53.578841Z",
     "start_time": "2025-05-18T17:58:53.576316Z"
    }
   },
   "source": [
    "import torch\n",
    "import random\n",
    "\n",
    "import pandas as pd\n",
    "import numpy as np\n",
    "\n",
    "from etna.datasets.tsdataset import TSDataset\n",
    "from etna.pipeline import AutoRegressivePipeline\n",
    "from etna.transforms import LagTransform\n",
    "\n",
    "import warnings\n",
    "\n",
    "\n",
    "def set_seed(seed: int = 42):\n",
    "    \"\"\"Set random seed for reproducibility.\"\"\"\n",
    "    random.seed(seed)\n",
    "    np.random.seed(seed)\n",
    "    torch.manual_seed(seed)\n",
    "    torch.cuda.manual_seed_all(seed)\n",
    "\n",
    "\n",
    "warnings.filterwarnings(\"ignore\")"
   ],
   "outputs": [],
   "execution_count": 8
  },
  {
   "metadata": {
    "ExecuteTime": {
     "end_time": "2025-05-18T17:58:53.601060Z",
     "start_time": "2025-05-18T17:58:53.599207Z"
    }
   },
   "cell_type": "code",
   "source": [
    "from config.experiment_config import ExperimentConfig\n",
    "from config.model_config import ModelConfig\n",
    "\n",
    "model_config = ModelConfig()\n",
    "experiment_config = ExperimentConfig()"
   ],
   "id": "1d26a45a6030d786",
   "outputs": [],
   "execution_count": 9
  },
  {
   "cell_type": "code",
   "id": "bfe220cb",
   "metadata": {
    "ExecuteTime": {
     "end_time": "2025-05-18T17:58:53.800182Z",
     "start_time": "2025-05-18T17:58:53.613757Z"
    }
   },
   "source": [
    "data = pd.read_csv(experiment_config.PATH_DATA / experiment_config.DATASET.value)\n",
    "data[\"datetime\"] = pd.to_datetime(data[\"datetime\"])\n",
    "data = data.sort_values(by=\"datetime\")\n",
    "data = data.set_index(\"datetime\")\n",
    "data.index = data.index.tz_localize(None)\n",
    "\n",
    "data[\"segment\"] = \"segment_A\""
   ],
   "outputs": [],
   "execution_count": 10
  },
  {
   "metadata": {
    "ExecuteTime": {
     "end_time": "2025-05-18T17:58:53.828415Z",
     "start_time": "2025-05-18T17:58:53.816844Z"
    }
   },
   "cell_type": "code",
   "source": [
    "returns = data.loc[:, experiment_config.RETURN_COLUMN].iloc[1:]\n",
    "\n",
    "vols = data.loc[:, experiment_config.VOL_COLUMN].iloc[1:]\n",
    "\n",
    "feature_columns = data.columns.difference(\n",
    "    [experiment_config.RETURN_COLUMN, experiment_config.VOL_COLUMN]\n",
    ").tolist()\n",
    "features = data[feature_columns].shift(1).iloc[1:]\n",
    "\n",
    "if model_config.n_features is None:\n",
    "    model_config.n_features = len(feature_columns)\n",
    "\n",
    "if model_config.n_unique_features is None:\n",
    "    unique_columns = [\n",
    "        \"_\".join(column.split(\"_\")[:-1]) for column in feature_columns\n",
    "    ]\n",
    "    model_config.n_unique_features = np.unique(unique_columns).shape[0]\n",
    "\n",
    "data = data.reset_index()\n",
    "data = data.rename(columns={\"datetime\": \"timestamp\"})\n",
    "data = data.set_index(\"timestamp\")"
   ],
   "id": "c4093b604af0cfa0",
   "outputs": [],
   "execution_count": 11
  },
  {
   "metadata": {
    "ExecuteTime": {
     "end_time": "2025-05-18T17:58:53.847036Z",
     "start_time": "2025-05-18T17:58:53.844148Z"
    }
   },
   "cell_type": "code",
   "source": [
    "from etna.models.nn import PatchTSModel\n",
    "\n",
    "\n",
    "def train_n_beats(train_df: pd.DataFrame, test_df: pd.DataFrame):\n",
    "    set_seed()\n",
    "\n",
    "    df = TSDataset.to_dataset(train_df)\n",
    "    ts = TSDataset(df, freq=\"h\")\n",
    "\n",
    "    num_lags = 1\n",
    "    transform_lag = LagTransform(\n",
    "        in_column=\"target\",\n",
    "        lags=[1 + i for i in range(num_lags)],\n",
    "        out_column=\"target_lag\",\n",
    "    )\n",
    "\n",
    "    model_deepar = PatchTSModel(\n",
    "        decoder_length=12,\n",
    "        encoder_length=10,\n",
    "        patch_len=1,\n",
    "        trainer_params=dict(max_epochs=10),\n",
    "        lr=1e-3,\n",
    "    )\n",
    "\n",
    "    pipeline_deepar = AutoRegressivePipeline(\n",
    "        model=model_deepar,\n",
    "        horizon=test_df.shape[0],\n",
    "        transforms=[transform_lag],\n",
    "    )\n",
    "\n",
    "    _ = pipeline_deepar.fit(ts=ts)\n",
    "    forecast = pipeline_deepar.forecast()\n",
    "    pred_vol = forecast.loc[:, (\"segment_A\", \"target\")].to_numpy()\n",
    "\n",
    "    return pred_vol"
   ],
   "id": "f2e34b51714d0554",
   "outputs": [],
   "execution_count": 12
  },
  {
   "metadata": {
    "ExecuteTime": {
     "end_time": "2025-05-18T17:58:53.865592Z",
     "start_time": "2025-05-18T17:58:53.862872Z"
    }
   },
   "cell_type": "code",
   "source": [
    "def run_backtest():\n",
    "    step = experiment_config.ROLLING_STEP_DAYS\n",
    "\n",
    "    train_start = experiment_config.TRAIN_START_DATE\n",
    "    train_end = experiment_config.FIRST_TRAIN_END_DATE\n",
    "\n",
    "    rolling_results = []\n",
    "    while train_end <= data.index[-1]:\n",
    "        last_train_end = train_end\n",
    "        train_data = data.resample(\"h\").ffill().loc[train_start:train_end, :].reset_index()\n",
    "        train_data = train_data.rename(columns={\"vol\": \"target\"})\n",
    "        train_start = train_start + pd.Timedelta(days=step) if experiment_config.EXPANDING else train_start\n",
    "        train_end = train_end + pd.Timedelta(days=step)\n",
    "\n",
    "        test_data = data.loc[last_train_end + pd.Timedelta(milliseconds=1):train_end, :].reset_index()\n",
    "\n",
    "        if len(train_data) > 0 and len(test_data) > 0:\n",
    "            forecast = train_n_beats(\n",
    "                train_df=train_data,\n",
    "                test_df=test_data,\n",
    "            )\n",
    "\n",
    "            rolling_results.append([last_train_end, test_data[\"vol\"].to_numpy(), forecast])\n",
    "\n",
    "    return pd.DataFrame(rolling_results, columns=[\"datetime\", \"true_vols\", \"model_preds\"]).set_index(\"datetime\")"
   ],
   "id": "1a98283f89d181b0",
   "outputs": [],
   "execution_count": 13
  },
  {
   "metadata": {
    "ExecuteTime": {
     "end_time": "2025-05-18T18:41:52.978181Z",
     "start_time": "2025-05-18T17:58:53.882773Z"
    }
   },
   "cell_type": "code",
   "source": "results = run_backtest()",
   "id": "f559155b90d23b62",
   "outputs": [
    {
     "name": "stderr",
     "output_type": "stream",
     "text": [
      "GPU available: True (mps), used: False\n",
      "TPU available: False, using: 0 TPU cores\n",
      "IPU available: False, using: 0 IPUs\n",
      "HPU available: False, using: 0 HPUs\n",
      "\n",
      "  | Name       | Type       | Params\n",
      "------------------------------------------\n",
      "0 | loss       | MSELoss    | 0     \n",
      "1 | model      | Sequential | 397 K \n",
      "2 | projection | Sequential | 1.3 K \n",
      "------------------------------------------\n",
      "398 K     Trainable params\n",
      "0         Non-trainable params\n",
      "398 K     Total params\n",
      "1.596     Total estimated model params size (MB)\n"
     ]
    },
    {
     "name": "stdout",
     "output_type": "stream",
     "text": [
      "Epoch 9: 100%|██████████| 5/5 [00:02<00:00,  1.67it/s, loss=0.0298]"
     ]
    },
    {
     "name": "stderr",
     "output_type": "stream",
     "text": [
      "`Trainer.fit` stopped: `max_epochs=10` reached.\n"
     ]
    },
    {
     "name": "stdout",
     "output_type": "stream",
     "text": [
      "Epoch 9: 100%|██████████| 5/5 [00:03<00:00,  1.66it/s, loss=0.0298]\n"
     ]
    },
    {
     "name": "stderr",
     "output_type": "stream",
     "text": [
      "GPU available: True (mps), used: False\n",
      "TPU available: False, using: 0 TPU cores\n",
      "IPU available: False, using: 0 IPUs\n",
      "HPU available: False, using: 0 HPUs\n",
      "\n",
      "  | Name       | Type       | Params\n",
      "------------------------------------------\n",
      "0 | loss       | MSELoss    | 0     \n",
      "1 | model      | Sequential | 397 K \n",
      "2 | projection | Sequential | 1.3 K \n",
      "------------------------------------------\n",
      "398 K     Trainable params\n",
      "0         Non-trainable params\n",
      "398 K     Total params\n",
      "1.596     Total estimated model params size (MB)\n"
     ]
    },
    {
     "name": "stdout",
     "output_type": "stream",
     "text": [
      "Epoch 9: 100%|██████████| 5/5 [00:03<00:00,  1.57it/s, loss=0.0292]"
     ]
    },
    {
     "name": "stderr",
     "output_type": "stream",
     "text": [
      "`Trainer.fit` stopped: `max_epochs=10` reached.\n"
     ]
    },
    {
     "name": "stdout",
     "output_type": "stream",
     "text": [
      "Epoch 9: 100%|██████████| 5/5 [00:03<00:00,  1.57it/s, loss=0.0292]\n"
     ]
    },
    {
     "name": "stderr",
     "output_type": "stream",
     "text": [
      "GPU available: True (mps), used: False\n",
      "TPU available: False, using: 0 TPU cores\n",
      "IPU available: False, using: 0 IPUs\n",
      "HPU available: False, using: 0 HPUs\n",
      "\n",
      "  | Name       | Type       | Params\n",
      "------------------------------------------\n",
      "0 | loss       | MSELoss    | 0     \n",
      "1 | model      | Sequential | 397 K \n",
      "2 | projection | Sequential | 1.3 K \n",
      "------------------------------------------\n",
      "398 K     Trainable params\n",
      "0         Non-trainable params\n",
      "398 K     Total params\n",
      "1.596     Total estimated model params size (MB)\n"
     ]
    },
    {
     "name": "stdout",
     "output_type": "stream",
     "text": [
      "Epoch 9: 100%|██████████| 5/5 [00:03<00:00,  1.60it/s, loss=0.0292]"
     ]
    },
    {
     "name": "stderr",
     "output_type": "stream",
     "text": [
      "`Trainer.fit` stopped: `max_epochs=10` reached.\n"
     ]
    },
    {
     "name": "stdout",
     "output_type": "stream",
     "text": [
      "Epoch 9: 100%|██████████| 5/5 [00:03<00:00,  1.59it/s, loss=0.0292]\n"
     ]
    },
    {
     "name": "stderr",
     "output_type": "stream",
     "text": [
      "GPU available: True (mps), used: False\n",
      "TPU available: False, using: 0 TPU cores\n",
      "IPU available: False, using: 0 IPUs\n",
      "HPU available: False, using: 0 HPUs\n",
      "\n",
      "  | Name       | Type       | Params\n",
      "------------------------------------------\n",
      "0 | loss       | MSELoss    | 0     \n",
      "1 | model      | Sequential | 397 K \n",
      "2 | projection | Sequential | 1.3 K \n",
      "------------------------------------------\n",
      "398 K     Trainable params\n",
      "0         Non-trainable params\n",
      "398 K     Total params\n",
      "1.596     Total estimated model params size (MB)\n"
     ]
    },
    {
     "name": "stdout",
     "output_type": "stream",
     "text": [
      "Epoch 9: 100%|██████████| 5/5 [00:03<00:00,  1.59it/s, loss=0.0292]"
     ]
    },
    {
     "name": "stderr",
     "output_type": "stream",
     "text": [
      "`Trainer.fit` stopped: `max_epochs=10` reached.\n"
     ]
    },
    {
     "name": "stdout",
     "output_type": "stream",
     "text": [
      "Epoch 9: 100%|██████████| 5/5 [00:03<00:00,  1.58it/s, loss=0.0292]\n"
     ]
    },
    {
     "name": "stderr",
     "output_type": "stream",
     "text": [
      "GPU available: True (mps), used: False\n",
      "TPU available: False, using: 0 TPU cores\n",
      "IPU available: False, using: 0 IPUs\n",
      "HPU available: False, using: 0 HPUs\n",
      "\n",
      "  | Name       | Type       | Params\n",
      "------------------------------------------\n",
      "0 | loss       | MSELoss    | 0     \n",
      "1 | model      | Sequential | 397 K \n",
      "2 | projection | Sequential | 1.3 K \n",
      "------------------------------------------\n",
      "398 K     Trainable params\n",
      "0         Non-trainable params\n",
      "398 K     Total params\n",
      "1.596     Total estimated model params size (MB)\n"
     ]
    },
    {
     "name": "stdout",
     "output_type": "stream",
     "text": [
      "Epoch 9: 100%|██████████| 5/5 [00:03<00:00,  1.62it/s, loss=0.0292]"
     ]
    },
    {
     "name": "stderr",
     "output_type": "stream",
     "text": [
      "`Trainer.fit` stopped: `max_epochs=10` reached.\n"
     ]
    },
    {
     "name": "stdout",
     "output_type": "stream",
     "text": [
      "Epoch 9: 100%|██████████| 5/5 [00:03<00:00,  1.61it/s, loss=0.0292]\n"
     ]
    },
    {
     "name": "stderr",
     "output_type": "stream",
     "text": [
      "GPU available: True (mps), used: False\n",
      "TPU available: False, using: 0 TPU cores\n",
      "IPU available: False, using: 0 IPUs\n",
      "HPU available: False, using: 0 HPUs\n",
      "\n",
      "  | Name       | Type       | Params\n",
      "------------------------------------------\n",
      "0 | loss       | MSELoss    | 0     \n",
      "1 | model      | Sequential | 397 K \n",
      "2 | projection | Sequential | 1.3 K \n",
      "------------------------------------------\n",
      "398 K     Trainable params\n",
      "0         Non-trainable params\n",
      "398 K     Total params\n",
      "1.596     Total estimated model params size (MB)\n"
     ]
    },
    {
     "name": "stdout",
     "output_type": "stream",
     "text": [
      "Epoch 9: 100%|██████████| 5/5 [00:03<00:00,  1.59it/s, loss=0.0292]"
     ]
    },
    {
     "name": "stderr",
     "output_type": "stream",
     "text": [
      "`Trainer.fit` stopped: `max_epochs=10` reached.\n"
     ]
    },
    {
     "name": "stdout",
     "output_type": "stream",
     "text": [
      "Epoch 9: 100%|██████████| 5/5 [00:03<00:00,  1.58it/s, loss=0.0292]\n"
     ]
    },
    {
     "name": "stderr",
     "output_type": "stream",
     "text": [
      "GPU available: True (mps), used: False\n",
      "TPU available: False, using: 0 TPU cores\n",
      "IPU available: False, using: 0 IPUs\n",
      "HPU available: False, using: 0 HPUs\n",
      "\n",
      "  | Name       | Type       | Params\n",
      "------------------------------------------\n",
      "0 | loss       | MSELoss    | 0     \n",
      "1 | model      | Sequential | 397 K \n",
      "2 | projection | Sequential | 1.3 K \n",
      "------------------------------------------\n",
      "398 K     Trainable params\n",
      "0         Non-trainable params\n",
      "398 K     Total params\n",
      "1.596     Total estimated model params size (MB)\n"
     ]
    },
    {
     "name": "stdout",
     "output_type": "stream",
     "text": [
      "Epoch 9: 100%|██████████| 5/5 [00:03<00:00,  1.63it/s, loss=0.0292]"
     ]
    },
    {
     "name": "stderr",
     "output_type": "stream",
     "text": [
      "`Trainer.fit` stopped: `max_epochs=10` reached.\n"
     ]
    },
    {
     "name": "stdout",
     "output_type": "stream",
     "text": [
      "Epoch 9: 100%|██████████| 5/5 [00:03<00:00,  1.63it/s, loss=0.0292]\n"
     ]
    },
    {
     "name": "stderr",
     "output_type": "stream",
     "text": [
      "GPU available: True (mps), used: False\n",
      "TPU available: False, using: 0 TPU cores\n",
      "IPU available: False, using: 0 IPUs\n",
      "HPU available: False, using: 0 HPUs\n",
      "\n",
      "  | Name       | Type       | Params\n",
      "------------------------------------------\n",
      "0 | loss       | MSELoss    | 0     \n",
      "1 | model      | Sequential | 397 K \n",
      "2 | projection | Sequential | 1.3 K \n",
      "------------------------------------------\n",
      "398 K     Trainable params\n",
      "0         Non-trainable params\n",
      "398 K     Total params\n",
      "1.596     Total estimated model params size (MB)\n"
     ]
    },
    {
     "name": "stdout",
     "output_type": "stream",
     "text": [
      "Epoch 9: 100%|██████████| 5/5 [00:03<00:00,  1.57it/s, loss=0.0292]"
     ]
    },
    {
     "name": "stderr",
     "output_type": "stream",
     "text": [
      "`Trainer.fit` stopped: `max_epochs=10` reached.\n"
     ]
    },
    {
     "name": "stdout",
     "output_type": "stream",
     "text": [
      "Epoch 9: 100%|██████████| 5/5 [00:03<00:00,  1.56it/s, loss=0.0292]\n"
     ]
    },
    {
     "name": "stderr",
     "output_type": "stream",
     "text": [
      "GPU available: True (mps), used: False\n",
      "TPU available: False, using: 0 TPU cores\n",
      "IPU available: False, using: 0 IPUs\n",
      "HPU available: False, using: 0 HPUs\n",
      "\n",
      "  | Name       | Type       | Params\n",
      "------------------------------------------\n",
      "0 | loss       | MSELoss    | 0     \n",
      "1 | model      | Sequential | 397 K \n",
      "2 | projection | Sequential | 1.3 K \n",
      "------------------------------------------\n",
      "398 K     Trainable params\n",
      "0         Non-trainable params\n",
      "398 K     Total params\n",
      "1.596     Total estimated model params size (MB)\n"
     ]
    },
    {
     "name": "stdout",
     "output_type": "stream",
     "text": [
      "Epoch 9: 100%|██████████| 5/5 [00:03<00:00,  1.59it/s, loss=0.0292]"
     ]
    },
    {
     "name": "stderr",
     "output_type": "stream",
     "text": [
      "`Trainer.fit` stopped: `max_epochs=10` reached.\n"
     ]
    },
    {
     "name": "stdout",
     "output_type": "stream",
     "text": [
      "Epoch 9: 100%|██████████| 5/5 [00:03<00:00,  1.58it/s, loss=0.0292]\n"
     ]
    },
    {
     "name": "stderr",
     "output_type": "stream",
     "text": [
      "GPU available: True (mps), used: False\n",
      "TPU available: False, using: 0 TPU cores\n",
      "IPU available: False, using: 0 IPUs\n",
      "HPU available: False, using: 0 HPUs\n",
      "\n",
      "  | Name       | Type       | Params\n",
      "------------------------------------------\n",
      "0 | loss       | MSELoss    | 0     \n",
      "1 | model      | Sequential | 397 K \n",
      "2 | projection | Sequential | 1.3 K \n",
      "------------------------------------------\n",
      "398 K     Trainable params\n",
      "0         Non-trainable params\n",
      "398 K     Total params\n",
      "1.596     Total estimated model params size (MB)\n"
     ]
    },
    {
     "name": "stdout",
     "output_type": "stream",
     "text": [
      "Epoch 9: 100%|██████████| 5/5 [00:03<00:00,  1.57it/s, loss=0.0292]"
     ]
    },
    {
     "name": "stderr",
     "output_type": "stream",
     "text": [
      "`Trainer.fit` stopped: `max_epochs=10` reached.\n"
     ]
    },
    {
     "name": "stdout",
     "output_type": "stream",
     "text": [
      "Epoch 9: 100%|██████████| 5/5 [00:03<00:00,  1.56it/s, loss=0.0292]\n"
     ]
    },
    {
     "name": "stderr",
     "output_type": "stream",
     "text": [
      "GPU available: True (mps), used: False\n",
      "TPU available: False, using: 0 TPU cores\n",
      "IPU available: False, using: 0 IPUs\n",
      "HPU available: False, using: 0 HPUs\n",
      "\n",
      "  | Name       | Type       | Params\n",
      "------------------------------------------\n",
      "0 | loss       | MSELoss    | 0     \n",
      "1 | model      | Sequential | 397 K \n",
      "2 | projection | Sequential | 1.3 K \n",
      "------------------------------------------\n",
      "398 K     Trainable params\n",
      "0         Non-trainable params\n",
      "398 K     Total params\n",
      "1.596     Total estimated model params size (MB)\n"
     ]
    },
    {
     "name": "stdout",
     "output_type": "stream",
     "text": [
      "Epoch 9: 100%|██████████| 5/5 [00:03<00:00,  1.56it/s, loss=0.0292]"
     ]
    },
    {
     "name": "stderr",
     "output_type": "stream",
     "text": [
      "`Trainer.fit` stopped: `max_epochs=10` reached.\n"
     ]
    },
    {
     "name": "stdout",
     "output_type": "stream",
     "text": [
      "Epoch 9: 100%|██████████| 5/5 [00:03<00:00,  1.55it/s, loss=0.0292]\n"
     ]
    },
    {
     "name": "stderr",
     "output_type": "stream",
     "text": [
      "GPU available: True (mps), used: False\n",
      "TPU available: False, using: 0 TPU cores\n",
      "IPU available: False, using: 0 IPUs\n",
      "HPU available: False, using: 0 HPUs\n",
      "\n",
      "  | Name       | Type       | Params\n",
      "------------------------------------------\n",
      "0 | loss       | MSELoss    | 0     \n",
      "1 | model      | Sequential | 397 K \n",
      "2 | projection | Sequential | 1.3 K \n",
      "------------------------------------------\n",
      "398 K     Trainable params\n",
      "0         Non-trainable params\n",
      "398 K     Total params\n",
      "1.596     Total estimated model params size (MB)\n"
     ]
    },
    {
     "name": "stdout",
     "output_type": "stream",
     "text": [
      "Epoch 9: 100%|██████████| 5/5 [00:03<00:00,  1.55it/s, loss=0.0292]"
     ]
    },
    {
     "name": "stderr",
     "output_type": "stream",
     "text": [
      "`Trainer.fit` stopped: `max_epochs=10` reached.\n"
     ]
    },
    {
     "name": "stdout",
     "output_type": "stream",
     "text": [
      "Epoch 9: 100%|██████████| 5/5 [00:03<00:00,  1.55it/s, loss=0.0292]\n"
     ]
    },
    {
     "name": "stderr",
     "output_type": "stream",
     "text": [
      "GPU available: True (mps), used: False\n",
      "TPU available: False, using: 0 TPU cores\n",
      "IPU available: False, using: 0 IPUs\n",
      "HPU available: False, using: 0 HPUs\n",
      "\n",
      "  | Name       | Type       | Params\n",
      "------------------------------------------\n",
      "0 | loss       | MSELoss    | 0     \n",
      "1 | model      | Sequential | 397 K \n",
      "2 | projection | Sequential | 1.3 K \n",
      "------------------------------------------\n",
      "398 K     Trainable params\n",
      "0         Non-trainable params\n",
      "398 K     Total params\n",
      "1.596     Total estimated model params size (MB)\n"
     ]
    },
    {
     "name": "stdout",
     "output_type": "stream",
     "text": [
      "Epoch 9: 100%|██████████| 5/5 [00:03<00:00,  1.57it/s, loss=0.0292]"
     ]
    },
    {
     "name": "stderr",
     "output_type": "stream",
     "text": [
      "`Trainer.fit` stopped: `max_epochs=10` reached.\n"
     ]
    },
    {
     "name": "stdout",
     "output_type": "stream",
     "text": [
      "Epoch 9: 100%|██████████| 5/5 [00:03<00:00,  1.57it/s, loss=0.0292]\n"
     ]
    },
    {
     "name": "stderr",
     "output_type": "stream",
     "text": [
      "GPU available: True (mps), used: False\n",
      "TPU available: False, using: 0 TPU cores\n",
      "IPU available: False, using: 0 IPUs\n",
      "HPU available: False, using: 0 HPUs\n",
      "\n",
      "  | Name       | Type       | Params\n",
      "------------------------------------------\n",
      "0 | loss       | MSELoss    | 0     \n",
      "1 | model      | Sequential | 397 K \n",
      "2 | projection | Sequential | 1.3 K \n",
      "------------------------------------------\n",
      "398 K     Trainable params\n",
      "0         Non-trainable params\n",
      "398 K     Total params\n",
      "1.596     Total estimated model params size (MB)\n"
     ]
    },
    {
     "name": "stdout",
     "output_type": "stream",
     "text": [
      "Epoch 9: 100%|██████████| 5/5 [00:03<00:00,  1.53it/s, loss=0.0292]"
     ]
    },
    {
     "name": "stderr",
     "output_type": "stream",
     "text": [
      "`Trainer.fit` stopped: `max_epochs=10` reached.\n"
     ]
    },
    {
     "name": "stdout",
     "output_type": "stream",
     "text": [
      "Epoch 9: 100%|██████████| 5/5 [00:03<00:00,  1.53it/s, loss=0.0292]\n"
     ]
    },
    {
     "name": "stderr",
     "output_type": "stream",
     "text": [
      "GPU available: True (mps), used: False\n",
      "TPU available: False, using: 0 TPU cores\n",
      "IPU available: False, using: 0 IPUs\n",
      "HPU available: False, using: 0 HPUs\n",
      "\n",
      "  | Name       | Type       | Params\n",
      "------------------------------------------\n",
      "0 | loss       | MSELoss    | 0     \n",
      "1 | model      | Sequential | 397 K \n",
      "2 | projection | Sequential | 1.3 K \n",
      "------------------------------------------\n",
      "398 K     Trainable params\n",
      "0         Non-trainable params\n",
      "398 K     Total params\n",
      "1.596     Total estimated model params size (MB)\n"
     ]
    },
    {
     "name": "stdout",
     "output_type": "stream",
     "text": [
      "Epoch 9: 100%|██████████| 5/5 [00:03<00:00,  1.59it/s, loss=0.0292]"
     ]
    },
    {
     "name": "stderr",
     "output_type": "stream",
     "text": [
      "`Trainer.fit` stopped: `max_epochs=10` reached.\n"
     ]
    },
    {
     "name": "stdout",
     "output_type": "stream",
     "text": [
      "Epoch 9: 100%|██████████| 5/5 [00:03<00:00,  1.59it/s, loss=0.0292]\n"
     ]
    },
    {
     "name": "stderr",
     "output_type": "stream",
     "text": [
      "GPU available: True (mps), used: False\n",
      "TPU available: False, using: 0 TPU cores\n",
      "IPU available: False, using: 0 IPUs\n",
      "HPU available: False, using: 0 HPUs\n",
      "\n",
      "  | Name       | Type       | Params\n",
      "------------------------------------------\n",
      "0 | loss       | MSELoss    | 0     \n",
      "1 | model      | Sequential | 397 K \n",
      "2 | projection | Sequential | 1.3 K \n",
      "------------------------------------------\n",
      "398 K     Trainable params\n",
      "0         Non-trainable params\n",
      "398 K     Total params\n",
      "1.596     Total estimated model params size (MB)\n"
     ]
    },
    {
     "name": "stdout",
     "output_type": "stream",
     "text": [
      "Epoch 9: 100%|██████████| 5/5 [00:03<00:00,  1.63it/s, loss=0.0292]"
     ]
    },
    {
     "name": "stderr",
     "output_type": "stream",
     "text": [
      "`Trainer.fit` stopped: `max_epochs=10` reached.\n"
     ]
    },
    {
     "name": "stdout",
     "output_type": "stream",
     "text": [
      "Epoch 9: 100%|██████████| 5/5 [00:03<00:00,  1.62it/s, loss=0.0292]\n"
     ]
    },
    {
     "name": "stderr",
     "output_type": "stream",
     "text": [
      "GPU available: True (mps), used: False\n",
      "TPU available: False, using: 0 TPU cores\n",
      "IPU available: False, using: 0 IPUs\n",
      "HPU available: False, using: 0 HPUs\n",
      "\n",
      "  | Name       | Type       | Params\n",
      "------------------------------------------\n",
      "0 | loss       | MSELoss    | 0     \n",
      "1 | model      | Sequential | 397 K \n",
      "2 | projection | Sequential | 1.3 K \n",
      "------------------------------------------\n",
      "398 K     Trainable params\n",
      "0         Non-trainable params\n",
      "398 K     Total params\n",
      "1.596     Total estimated model params size (MB)\n"
     ]
    },
    {
     "name": "stdout",
     "output_type": "stream",
     "text": [
      "Epoch 9: 100%|██████████| 5/5 [00:03<00:00,  1.56it/s, loss=0.0292]"
     ]
    },
    {
     "name": "stderr",
     "output_type": "stream",
     "text": [
      "`Trainer.fit` stopped: `max_epochs=10` reached.\n"
     ]
    },
    {
     "name": "stdout",
     "output_type": "stream",
     "text": [
      "Epoch 9: 100%|██████████| 5/5 [00:03<00:00,  1.56it/s, loss=0.0292]\n"
     ]
    },
    {
     "name": "stderr",
     "output_type": "stream",
     "text": [
      "GPU available: True (mps), used: False\n",
      "TPU available: False, using: 0 TPU cores\n",
      "IPU available: False, using: 0 IPUs\n",
      "HPU available: False, using: 0 HPUs\n",
      "\n",
      "  | Name       | Type       | Params\n",
      "------------------------------------------\n",
      "0 | loss       | MSELoss    | 0     \n",
      "1 | model      | Sequential | 397 K \n",
      "2 | projection | Sequential | 1.3 K \n",
      "------------------------------------------\n",
      "398 K     Trainable params\n",
      "0         Non-trainable params\n",
      "398 K     Total params\n",
      "1.596     Total estimated model params size (MB)\n"
     ]
    },
    {
     "name": "stdout",
     "output_type": "stream",
     "text": [
      "Epoch 9: 100%|██████████| 5/5 [00:03<00:00,  1.52it/s, loss=0.0292]"
     ]
    },
    {
     "name": "stderr",
     "output_type": "stream",
     "text": [
      "`Trainer.fit` stopped: `max_epochs=10` reached.\n"
     ]
    },
    {
     "name": "stdout",
     "output_type": "stream",
     "text": [
      "Epoch 9: 100%|██████████| 5/5 [00:03<00:00,  1.51it/s, loss=0.0292]\n"
     ]
    },
    {
     "name": "stderr",
     "output_type": "stream",
     "text": [
      "GPU available: True (mps), used: False\n",
      "TPU available: False, using: 0 TPU cores\n",
      "IPU available: False, using: 0 IPUs\n",
      "HPU available: False, using: 0 HPUs\n",
      "\n",
      "  | Name       | Type       | Params\n",
      "------------------------------------------\n",
      "0 | loss       | MSELoss    | 0     \n",
      "1 | model      | Sequential | 397 K \n",
      "2 | projection | Sequential | 1.3 K \n",
      "------------------------------------------\n",
      "398 K     Trainable params\n",
      "0         Non-trainable params\n",
      "398 K     Total params\n",
      "1.596     Total estimated model params size (MB)\n"
     ]
    },
    {
     "name": "stdout",
     "output_type": "stream",
     "text": [
      "Epoch 9: 100%|██████████| 5/5 [00:03<00:00,  1.57it/s, loss=0.0292]"
     ]
    },
    {
     "name": "stderr",
     "output_type": "stream",
     "text": [
      "`Trainer.fit` stopped: `max_epochs=10` reached.\n"
     ]
    },
    {
     "name": "stdout",
     "output_type": "stream",
     "text": [
      "Epoch 9: 100%|██████████| 5/5 [00:03<00:00,  1.56it/s, loss=0.0292]\n"
     ]
    },
    {
     "name": "stderr",
     "output_type": "stream",
     "text": [
      "GPU available: True (mps), used: False\n",
      "TPU available: False, using: 0 TPU cores\n",
      "IPU available: False, using: 0 IPUs\n",
      "HPU available: False, using: 0 HPUs\n",
      "\n",
      "  | Name       | Type       | Params\n",
      "------------------------------------------\n",
      "0 | loss       | MSELoss    | 0     \n",
      "1 | model      | Sequential | 397 K \n",
      "2 | projection | Sequential | 1.3 K \n",
      "------------------------------------------\n",
      "398 K     Trainable params\n",
      "0         Non-trainable params\n",
      "398 K     Total params\n",
      "1.596     Total estimated model params size (MB)\n"
     ]
    },
    {
     "name": "stdout",
     "output_type": "stream",
     "text": [
      "Epoch 9: 100%|██████████| 5/5 [00:03<00:00,  1.53it/s, loss=0.0292]"
     ]
    },
    {
     "name": "stderr",
     "output_type": "stream",
     "text": [
      "`Trainer.fit` stopped: `max_epochs=10` reached.\n"
     ]
    },
    {
     "name": "stdout",
     "output_type": "stream",
     "text": [
      "Epoch 9: 100%|██████████| 5/5 [00:03<00:00,  1.52it/s, loss=0.0292]\n"
     ]
    },
    {
     "name": "stderr",
     "output_type": "stream",
     "text": [
      "GPU available: True (mps), used: False\n",
      "TPU available: False, using: 0 TPU cores\n",
      "IPU available: False, using: 0 IPUs\n",
      "HPU available: False, using: 0 HPUs\n",
      "\n",
      "  | Name       | Type       | Params\n",
      "------------------------------------------\n",
      "0 | loss       | MSELoss    | 0     \n",
      "1 | model      | Sequential | 397 K \n",
      "2 | projection | Sequential | 1.3 K \n",
      "------------------------------------------\n",
      "398 K     Trainable params\n",
      "0         Non-trainable params\n",
      "398 K     Total params\n",
      "1.596     Total estimated model params size (MB)\n"
     ]
    },
    {
     "name": "stdout",
     "output_type": "stream",
     "text": [
      "Epoch 9: 100%|██████████| 5/5 [00:03<00:00,  1.55it/s, loss=0.0292]"
     ]
    },
    {
     "name": "stderr",
     "output_type": "stream",
     "text": [
      "`Trainer.fit` stopped: `max_epochs=10` reached.\n"
     ]
    },
    {
     "name": "stdout",
     "output_type": "stream",
     "text": [
      "Epoch 9: 100%|██████████| 5/5 [00:03<00:00,  1.55it/s, loss=0.0292]\n"
     ]
    },
    {
     "name": "stderr",
     "output_type": "stream",
     "text": [
      "GPU available: True (mps), used: False\n",
      "TPU available: False, using: 0 TPU cores\n",
      "IPU available: False, using: 0 IPUs\n",
      "HPU available: False, using: 0 HPUs\n",
      "\n",
      "  | Name       | Type       | Params\n",
      "------------------------------------------\n",
      "0 | loss       | MSELoss    | 0     \n",
      "1 | model      | Sequential | 397 K \n",
      "2 | projection | Sequential | 1.3 K \n",
      "------------------------------------------\n",
      "398 K     Trainable params\n",
      "0         Non-trainable params\n",
      "398 K     Total params\n",
      "1.596     Total estimated model params size (MB)\n"
     ]
    },
    {
     "name": "stdout",
     "output_type": "stream",
     "text": [
      "Epoch 9: 100%|██████████| 5/5 [00:03<00:00,  1.57it/s, loss=0.0292]"
     ]
    },
    {
     "name": "stderr",
     "output_type": "stream",
     "text": [
      "`Trainer.fit` stopped: `max_epochs=10` reached.\n"
     ]
    },
    {
     "name": "stdout",
     "output_type": "stream",
     "text": [
      "Epoch 9: 100%|██████████| 5/5 [00:03<00:00,  1.57it/s, loss=0.0292]\n"
     ]
    },
    {
     "name": "stderr",
     "output_type": "stream",
     "text": [
      "GPU available: True (mps), used: False\n",
      "TPU available: False, using: 0 TPU cores\n",
      "IPU available: False, using: 0 IPUs\n",
      "HPU available: False, using: 0 HPUs\n",
      "\n",
      "  | Name       | Type       | Params\n",
      "------------------------------------------\n",
      "0 | loss       | MSELoss    | 0     \n",
      "1 | model      | Sequential | 397 K \n",
      "2 | projection | Sequential | 1.3 K \n",
      "------------------------------------------\n",
      "398 K     Trainable params\n",
      "0         Non-trainable params\n",
      "398 K     Total params\n",
      "1.596     Total estimated model params size (MB)\n"
     ]
    },
    {
     "name": "stdout",
     "output_type": "stream",
     "text": [
      "Epoch 9: 100%|██████████| 5/5 [00:03<00:00,  1.57it/s, loss=0.0292]"
     ]
    },
    {
     "name": "stderr",
     "output_type": "stream",
     "text": [
      "`Trainer.fit` stopped: `max_epochs=10` reached.\n"
     ]
    },
    {
     "name": "stdout",
     "output_type": "stream",
     "text": [
      "Epoch 9: 100%|██████████| 5/5 [00:03<00:00,  1.56it/s, loss=0.0292]\n"
     ]
    },
    {
     "name": "stderr",
     "output_type": "stream",
     "text": [
      "GPU available: True (mps), used: False\n",
      "TPU available: False, using: 0 TPU cores\n",
      "IPU available: False, using: 0 IPUs\n",
      "HPU available: False, using: 0 HPUs\n",
      "\n",
      "  | Name       | Type       | Params\n",
      "------------------------------------------\n",
      "0 | loss       | MSELoss    | 0     \n",
      "1 | model      | Sequential | 397 K \n",
      "2 | projection | Sequential | 1.3 K \n",
      "------------------------------------------\n",
      "398 K     Trainable params\n",
      "0         Non-trainable params\n",
      "398 K     Total params\n",
      "1.596     Total estimated model params size (MB)\n"
     ]
    },
    {
     "name": "stdout",
     "output_type": "stream",
     "text": [
      "Epoch 9: 100%|██████████| 5/5 [00:03<00:00,  1.49it/s, loss=0.0292]"
     ]
    },
    {
     "name": "stderr",
     "output_type": "stream",
     "text": [
      "`Trainer.fit` stopped: `max_epochs=10` reached.\n"
     ]
    },
    {
     "name": "stdout",
     "output_type": "stream",
     "text": [
      "Epoch 9: 100%|██████████| 5/5 [00:03<00:00,  1.48it/s, loss=0.0292]\n"
     ]
    },
    {
     "name": "stderr",
     "output_type": "stream",
     "text": [
      "GPU available: True (mps), used: False\n",
      "TPU available: False, using: 0 TPU cores\n",
      "IPU available: False, using: 0 IPUs\n",
      "HPU available: False, using: 0 HPUs\n",
      "\n",
      "  | Name       | Type       | Params\n",
      "------------------------------------------\n",
      "0 | loss       | MSELoss    | 0     \n",
      "1 | model      | Sequential | 397 K \n",
      "2 | projection | Sequential | 1.3 K \n",
      "------------------------------------------\n",
      "398 K     Trainable params\n",
      "0         Non-trainable params\n",
      "398 K     Total params\n",
      "1.596     Total estimated model params size (MB)\n"
     ]
    },
    {
     "name": "stdout",
     "output_type": "stream",
     "text": [
      "Epoch 9: 100%|██████████| 5/5 [00:03<00:00,  1.53it/s, loss=0.0292]"
     ]
    },
    {
     "name": "stderr",
     "output_type": "stream",
     "text": [
      "`Trainer.fit` stopped: `max_epochs=10` reached.\n"
     ]
    },
    {
     "name": "stdout",
     "output_type": "stream",
     "text": [
      "Epoch 9: 100%|██████████| 5/5 [00:03<00:00,  1.52it/s, loss=0.0292]\n"
     ]
    },
    {
     "name": "stderr",
     "output_type": "stream",
     "text": [
      "GPU available: True (mps), used: False\n",
      "TPU available: False, using: 0 TPU cores\n",
      "IPU available: False, using: 0 IPUs\n",
      "HPU available: False, using: 0 HPUs\n",
      "\n",
      "  | Name       | Type       | Params\n",
      "------------------------------------------\n",
      "0 | loss       | MSELoss    | 0     \n",
      "1 | model      | Sequential | 397 K \n",
      "2 | projection | Sequential | 1.3 K \n",
      "------------------------------------------\n",
      "398 K     Trainable params\n",
      "0         Non-trainable params\n",
      "398 K     Total params\n",
      "1.596     Total estimated model params size (MB)\n"
     ]
    },
    {
     "name": "stdout",
     "output_type": "stream",
     "text": [
      "Epoch 9: 100%|██████████| 5/5 [00:03<00:00,  1.46it/s, loss=0.0292]"
     ]
    },
    {
     "name": "stderr",
     "output_type": "stream",
     "text": [
      "`Trainer.fit` stopped: `max_epochs=10` reached.\n"
     ]
    },
    {
     "name": "stdout",
     "output_type": "stream",
     "text": [
      "Epoch 9: 100%|██████████| 5/5 [00:03<00:00,  1.46it/s, loss=0.0292]\n"
     ]
    },
    {
     "name": "stderr",
     "output_type": "stream",
     "text": [
      "GPU available: True (mps), used: False\n",
      "TPU available: False, using: 0 TPU cores\n",
      "IPU available: False, using: 0 IPUs\n",
      "HPU available: False, using: 0 HPUs\n",
      "\n",
      "  | Name       | Type       | Params\n",
      "------------------------------------------\n",
      "0 | loss       | MSELoss    | 0     \n",
      "1 | model      | Sequential | 397 K \n",
      "2 | projection | Sequential | 1.3 K \n",
      "------------------------------------------\n",
      "398 K     Trainable params\n",
      "0         Non-trainable params\n",
      "398 K     Total params\n",
      "1.596     Total estimated model params size (MB)\n"
     ]
    },
    {
     "name": "stdout",
     "output_type": "stream",
     "text": [
      "Epoch 9: 100%|██████████| 5/5 [00:03<00:00,  1.54it/s, loss=0.0292]"
     ]
    },
    {
     "name": "stderr",
     "output_type": "stream",
     "text": [
      "`Trainer.fit` stopped: `max_epochs=10` reached.\n"
     ]
    },
    {
     "name": "stdout",
     "output_type": "stream",
     "text": [
      "Epoch 9: 100%|██████████| 5/5 [00:03<00:00,  1.54it/s, loss=0.0292]\n"
     ]
    },
    {
     "name": "stderr",
     "output_type": "stream",
     "text": [
      "GPU available: True (mps), used: False\n",
      "TPU available: False, using: 0 TPU cores\n",
      "IPU available: False, using: 0 IPUs\n",
      "HPU available: False, using: 0 HPUs\n",
      "\n",
      "  | Name       | Type       | Params\n",
      "------------------------------------------\n",
      "0 | loss       | MSELoss    | 0     \n",
      "1 | model      | Sequential | 397 K \n",
      "2 | projection | Sequential | 1.3 K \n",
      "------------------------------------------\n",
      "398 K     Trainable params\n",
      "0         Non-trainable params\n",
      "398 K     Total params\n",
      "1.596     Total estimated model params size (MB)\n"
     ]
    },
    {
     "name": "stdout",
     "output_type": "stream",
     "text": [
      "Epoch 9: 100%|██████████| 5/5 [00:03<00:00,  1.50it/s, loss=0.0292]"
     ]
    },
    {
     "name": "stderr",
     "output_type": "stream",
     "text": [
      "`Trainer.fit` stopped: `max_epochs=10` reached.\n"
     ]
    },
    {
     "name": "stdout",
     "output_type": "stream",
     "text": [
      "Epoch 9: 100%|██████████| 5/5 [00:03<00:00,  1.50it/s, loss=0.0292]\n"
     ]
    },
    {
     "name": "stderr",
     "output_type": "stream",
     "text": [
      "GPU available: True (mps), used: False\n",
      "TPU available: False, using: 0 TPU cores\n",
      "IPU available: False, using: 0 IPUs\n",
      "HPU available: False, using: 0 HPUs\n",
      "\n",
      "  | Name       | Type       | Params\n",
      "------------------------------------------\n",
      "0 | loss       | MSELoss    | 0     \n",
      "1 | model      | Sequential | 397 K \n",
      "2 | projection | Sequential | 1.3 K \n",
      "------------------------------------------\n",
      "398 K     Trainable params\n",
      "0         Non-trainable params\n",
      "398 K     Total params\n",
      "1.596     Total estimated model params size (MB)\n"
     ]
    },
    {
     "name": "stdout",
     "output_type": "stream",
     "text": [
      "Epoch 9: 100%|██████████| 5/5 [00:03<00:00,  1.54it/s, loss=0.0292]"
     ]
    },
    {
     "name": "stderr",
     "output_type": "stream",
     "text": [
      "`Trainer.fit` stopped: `max_epochs=10` reached.\n"
     ]
    },
    {
     "name": "stdout",
     "output_type": "stream",
     "text": [
      "Epoch 9: 100%|██████████| 5/5 [00:03<00:00,  1.54it/s, loss=0.0292]\n"
     ]
    },
    {
     "name": "stderr",
     "output_type": "stream",
     "text": [
      "GPU available: True (mps), used: False\n",
      "TPU available: False, using: 0 TPU cores\n",
      "IPU available: False, using: 0 IPUs\n",
      "HPU available: False, using: 0 HPUs\n",
      "\n",
      "  | Name       | Type       | Params\n",
      "------------------------------------------\n",
      "0 | loss       | MSELoss    | 0     \n",
      "1 | model      | Sequential | 397 K \n",
      "2 | projection | Sequential | 1.3 K \n",
      "------------------------------------------\n",
      "398 K     Trainable params\n",
      "0         Non-trainable params\n",
      "398 K     Total params\n",
      "1.596     Total estimated model params size (MB)\n"
     ]
    },
    {
     "name": "stdout",
     "output_type": "stream",
     "text": [
      "Epoch 9: 100%|██████████| 5/5 [00:03<00:00,  1.56it/s, loss=0.0292]"
     ]
    },
    {
     "name": "stderr",
     "output_type": "stream",
     "text": [
      "`Trainer.fit` stopped: `max_epochs=10` reached.\n"
     ]
    },
    {
     "name": "stdout",
     "output_type": "stream",
     "text": [
      "Epoch 9: 100%|██████████| 5/5 [00:03<00:00,  1.56it/s, loss=0.0292]\n"
     ]
    },
    {
     "name": "stderr",
     "output_type": "stream",
     "text": [
      "GPU available: True (mps), used: False\n",
      "TPU available: False, using: 0 TPU cores\n",
      "IPU available: False, using: 0 IPUs\n",
      "HPU available: False, using: 0 HPUs\n",
      "\n",
      "  | Name       | Type       | Params\n",
      "------------------------------------------\n",
      "0 | loss       | MSELoss    | 0     \n",
      "1 | model      | Sequential | 397 K \n",
      "2 | projection | Sequential | 1.3 K \n",
      "------------------------------------------\n",
      "398 K     Trainable params\n",
      "0         Non-trainable params\n",
      "398 K     Total params\n",
      "1.596     Total estimated model params size (MB)\n"
     ]
    },
    {
     "name": "stdout",
     "output_type": "stream",
     "text": [
      "Epoch 9: 100%|██████████| 5/5 [00:03<00:00,  1.54it/s, loss=0.0292]"
     ]
    },
    {
     "name": "stderr",
     "output_type": "stream",
     "text": [
      "`Trainer.fit` stopped: `max_epochs=10` reached.\n"
     ]
    },
    {
     "name": "stdout",
     "output_type": "stream",
     "text": [
      "Epoch 9: 100%|██████████| 5/5 [00:03<00:00,  1.54it/s, loss=0.0292]\n"
     ]
    },
    {
     "name": "stderr",
     "output_type": "stream",
     "text": [
      "GPU available: True (mps), used: False\n",
      "TPU available: False, using: 0 TPU cores\n",
      "IPU available: False, using: 0 IPUs\n",
      "HPU available: False, using: 0 HPUs\n",
      "\n",
      "  | Name       | Type       | Params\n",
      "------------------------------------------\n",
      "0 | loss       | MSELoss    | 0     \n",
      "1 | model      | Sequential | 397 K \n",
      "2 | projection | Sequential | 1.3 K \n",
      "------------------------------------------\n",
      "398 K     Trainable params\n",
      "0         Non-trainable params\n",
      "398 K     Total params\n",
      "1.596     Total estimated model params size (MB)\n"
     ]
    },
    {
     "name": "stdout",
     "output_type": "stream",
     "text": [
      "Epoch 9: 100%|██████████| 5/5 [00:03<00:00,  1.48it/s, loss=0.0292]"
     ]
    },
    {
     "name": "stderr",
     "output_type": "stream",
     "text": [
      "`Trainer.fit` stopped: `max_epochs=10` reached.\n"
     ]
    },
    {
     "name": "stdout",
     "output_type": "stream",
     "text": [
      "Epoch 9: 100%|██████████| 5/5 [00:03<00:00,  1.48it/s, loss=0.0292]\n"
     ]
    },
    {
     "name": "stderr",
     "output_type": "stream",
     "text": [
      "GPU available: True (mps), used: False\n",
      "TPU available: False, using: 0 TPU cores\n",
      "IPU available: False, using: 0 IPUs\n",
      "HPU available: False, using: 0 HPUs\n",
      "\n",
      "  | Name       | Type       | Params\n",
      "------------------------------------------\n",
      "0 | loss       | MSELoss    | 0     \n",
      "1 | model      | Sequential | 397 K \n",
      "2 | projection | Sequential | 1.3 K \n",
      "------------------------------------------\n",
      "398 K     Trainable params\n",
      "0         Non-trainable params\n",
      "398 K     Total params\n",
      "1.596     Total estimated model params size (MB)\n"
     ]
    },
    {
     "name": "stdout",
     "output_type": "stream",
     "text": [
      "Epoch 9: 100%|██████████| 5/5 [00:03<00:00,  1.48it/s, loss=0.0292]"
     ]
    },
    {
     "name": "stderr",
     "output_type": "stream",
     "text": [
      "`Trainer.fit` stopped: `max_epochs=10` reached.\n"
     ]
    },
    {
     "name": "stdout",
     "output_type": "stream",
     "text": [
      "Epoch 9: 100%|██████████| 5/5 [00:03<00:00,  1.47it/s, loss=0.0292]\n"
     ]
    },
    {
     "name": "stderr",
     "output_type": "stream",
     "text": [
      "GPU available: True (mps), used: False\n",
      "TPU available: False, using: 0 TPU cores\n",
      "IPU available: False, using: 0 IPUs\n",
      "HPU available: False, using: 0 HPUs\n",
      "\n",
      "  | Name       | Type       | Params\n",
      "------------------------------------------\n",
      "0 | loss       | MSELoss    | 0     \n",
      "1 | model      | Sequential | 397 K \n",
      "2 | projection | Sequential | 1.3 K \n",
      "------------------------------------------\n",
      "398 K     Trainable params\n",
      "0         Non-trainable params\n",
      "398 K     Total params\n",
      "1.596     Total estimated model params size (MB)\n"
     ]
    },
    {
     "name": "stdout",
     "output_type": "stream",
     "text": [
      "Epoch 9: 100%|██████████| 5/5 [00:03<00:00,  1.52it/s, loss=0.0292]"
     ]
    },
    {
     "name": "stderr",
     "output_type": "stream",
     "text": [
      "`Trainer.fit` stopped: `max_epochs=10` reached.\n"
     ]
    },
    {
     "name": "stdout",
     "output_type": "stream",
     "text": [
      "Epoch 9: 100%|██████████| 5/5 [00:03<00:00,  1.52it/s, loss=0.0292]\n"
     ]
    },
    {
     "name": "stderr",
     "output_type": "stream",
     "text": [
      "GPU available: True (mps), used: False\n",
      "TPU available: False, using: 0 TPU cores\n",
      "IPU available: False, using: 0 IPUs\n",
      "HPU available: False, using: 0 HPUs\n",
      "\n",
      "  | Name       | Type       | Params\n",
      "------------------------------------------\n",
      "0 | loss       | MSELoss    | 0     \n",
      "1 | model      | Sequential | 397 K \n",
      "2 | projection | Sequential | 1.3 K \n",
      "------------------------------------------\n",
      "398 K     Trainable params\n",
      "0         Non-trainable params\n",
      "398 K     Total params\n",
      "1.596     Total estimated model params size (MB)\n"
     ]
    },
    {
     "name": "stdout",
     "output_type": "stream",
     "text": [
      "Epoch 9: 100%|██████████| 5/5 [00:03<00:00,  1.48it/s, loss=0.0292]"
     ]
    },
    {
     "name": "stderr",
     "output_type": "stream",
     "text": [
      "`Trainer.fit` stopped: `max_epochs=10` reached.\n"
     ]
    },
    {
     "name": "stdout",
     "output_type": "stream",
     "text": [
      "Epoch 9: 100%|██████████| 5/5 [00:03<00:00,  1.48it/s, loss=0.0292]\n"
     ]
    },
    {
     "name": "stderr",
     "output_type": "stream",
     "text": [
      "GPU available: True (mps), used: False\n",
      "TPU available: False, using: 0 TPU cores\n",
      "IPU available: False, using: 0 IPUs\n",
      "HPU available: False, using: 0 HPUs\n",
      "\n",
      "  | Name       | Type       | Params\n",
      "------------------------------------------\n",
      "0 | loss       | MSELoss    | 0     \n",
      "1 | model      | Sequential | 397 K \n",
      "2 | projection | Sequential | 1.3 K \n",
      "------------------------------------------\n",
      "398 K     Trainable params\n",
      "0         Non-trainable params\n",
      "398 K     Total params\n",
      "1.596     Total estimated model params size (MB)\n"
     ]
    },
    {
     "name": "stdout",
     "output_type": "stream",
     "text": [
      "Epoch 9: 100%|██████████| 5/5 [00:03<00:00,  1.55it/s, loss=0.0292]"
     ]
    },
    {
     "name": "stderr",
     "output_type": "stream",
     "text": [
      "`Trainer.fit` stopped: `max_epochs=10` reached.\n"
     ]
    },
    {
     "name": "stdout",
     "output_type": "stream",
     "text": [
      "Epoch 9: 100%|██████████| 5/5 [00:03<00:00,  1.54it/s, loss=0.0292]\n"
     ]
    },
    {
     "name": "stderr",
     "output_type": "stream",
     "text": [
      "GPU available: True (mps), used: False\n",
      "TPU available: False, using: 0 TPU cores\n",
      "IPU available: False, using: 0 IPUs\n",
      "HPU available: False, using: 0 HPUs\n",
      "\n",
      "  | Name       | Type       | Params\n",
      "------------------------------------------\n",
      "0 | loss       | MSELoss    | 0     \n",
      "1 | model      | Sequential | 397 K \n",
      "2 | projection | Sequential | 1.3 K \n",
      "------------------------------------------\n",
      "398 K     Trainable params\n",
      "0         Non-trainable params\n",
      "398 K     Total params\n",
      "1.596     Total estimated model params size (MB)\n"
     ]
    },
    {
     "name": "stdout",
     "output_type": "stream",
     "text": [
      "Epoch 9: 100%|██████████| 5/5 [00:03<00:00,  1.53it/s, loss=0.0292]"
     ]
    },
    {
     "name": "stderr",
     "output_type": "stream",
     "text": [
      "`Trainer.fit` stopped: `max_epochs=10` reached.\n"
     ]
    },
    {
     "name": "stdout",
     "output_type": "stream",
     "text": [
      "Epoch 9: 100%|██████████| 5/5 [00:03<00:00,  1.53it/s, loss=0.0292]\n"
     ]
    },
    {
     "name": "stderr",
     "output_type": "stream",
     "text": [
      "GPU available: True (mps), used: False\n",
      "TPU available: False, using: 0 TPU cores\n",
      "IPU available: False, using: 0 IPUs\n",
      "HPU available: False, using: 0 HPUs\n",
      "\n",
      "  | Name       | Type       | Params\n",
      "------------------------------------------\n",
      "0 | loss       | MSELoss    | 0     \n",
      "1 | model      | Sequential | 397 K \n",
      "2 | projection | Sequential | 1.3 K \n",
      "------------------------------------------\n",
      "398 K     Trainable params\n",
      "0         Non-trainable params\n",
      "398 K     Total params\n",
      "1.596     Total estimated model params size (MB)\n"
     ]
    },
    {
     "name": "stdout",
     "output_type": "stream",
     "text": [
      "Epoch 9: 100%|██████████| 5/5 [00:03<00:00,  1.56it/s, loss=0.0292]"
     ]
    },
    {
     "name": "stderr",
     "output_type": "stream",
     "text": [
      "`Trainer.fit` stopped: `max_epochs=10` reached.\n"
     ]
    },
    {
     "name": "stdout",
     "output_type": "stream",
     "text": [
      "Epoch 9: 100%|██████████| 5/5 [00:03<00:00,  1.56it/s, loss=0.0292]\n"
     ]
    },
    {
     "name": "stderr",
     "output_type": "stream",
     "text": [
      "GPU available: True (mps), used: False\n",
      "TPU available: False, using: 0 TPU cores\n",
      "IPU available: False, using: 0 IPUs\n",
      "HPU available: False, using: 0 HPUs\n",
      "\n",
      "  | Name       | Type       | Params\n",
      "------------------------------------------\n",
      "0 | loss       | MSELoss    | 0     \n",
      "1 | model      | Sequential | 397 K \n",
      "2 | projection | Sequential | 1.3 K \n",
      "------------------------------------------\n",
      "398 K     Trainable params\n",
      "0         Non-trainable params\n",
      "398 K     Total params\n",
      "1.596     Total estimated model params size (MB)\n"
     ]
    },
    {
     "name": "stdout",
     "output_type": "stream",
     "text": [
      "Epoch 9: 100%|██████████| 5/5 [00:03<00:00,  1.56it/s, loss=0.0292]"
     ]
    },
    {
     "name": "stderr",
     "output_type": "stream",
     "text": [
      "`Trainer.fit` stopped: `max_epochs=10` reached.\n"
     ]
    },
    {
     "name": "stdout",
     "output_type": "stream",
     "text": [
      "Epoch 9: 100%|██████████| 5/5 [00:03<00:00,  1.55it/s, loss=0.0292]\n"
     ]
    },
    {
     "name": "stderr",
     "output_type": "stream",
     "text": [
      "GPU available: True (mps), used: False\n",
      "TPU available: False, using: 0 TPU cores\n",
      "IPU available: False, using: 0 IPUs\n",
      "HPU available: False, using: 0 HPUs\n",
      "\n",
      "  | Name       | Type       | Params\n",
      "------------------------------------------\n",
      "0 | loss       | MSELoss    | 0     \n",
      "1 | model      | Sequential | 397 K \n",
      "2 | projection | Sequential | 1.3 K \n",
      "------------------------------------------\n",
      "398 K     Trainable params\n",
      "0         Non-trainable params\n",
      "398 K     Total params\n",
      "1.596     Total estimated model params size (MB)\n"
     ]
    },
    {
     "name": "stdout",
     "output_type": "stream",
     "text": [
      "Epoch 9: 100%|██████████| 5/5 [00:03<00:00,  1.49it/s, loss=0.0292]"
     ]
    },
    {
     "name": "stderr",
     "output_type": "stream",
     "text": [
      "`Trainer.fit` stopped: `max_epochs=10` reached.\n"
     ]
    },
    {
     "name": "stdout",
     "output_type": "stream",
     "text": [
      "Epoch 9: 100%|██████████| 5/5 [00:03<00:00,  1.48it/s, loss=0.0292]\n"
     ]
    },
    {
     "name": "stderr",
     "output_type": "stream",
     "text": [
      "GPU available: True (mps), used: False\n",
      "TPU available: False, using: 0 TPU cores\n",
      "IPU available: False, using: 0 IPUs\n",
      "HPU available: False, using: 0 HPUs\n",
      "\n",
      "  | Name       | Type       | Params\n",
      "------------------------------------------\n",
      "0 | loss       | MSELoss    | 0     \n",
      "1 | model      | Sequential | 397 K \n",
      "2 | projection | Sequential | 1.3 K \n",
      "------------------------------------------\n",
      "398 K     Trainable params\n",
      "0         Non-trainable params\n",
      "398 K     Total params\n",
      "1.596     Total estimated model params size (MB)\n"
     ]
    },
    {
     "name": "stdout",
     "output_type": "stream",
     "text": [
      "Epoch 9: 100%|██████████| 5/5 [00:03<00:00,  1.45it/s, loss=0.0292]"
     ]
    },
    {
     "name": "stderr",
     "output_type": "stream",
     "text": [
      "`Trainer.fit` stopped: `max_epochs=10` reached.\n"
     ]
    },
    {
     "name": "stdout",
     "output_type": "stream",
     "text": [
      "Epoch 9: 100%|██████████| 5/5 [00:03<00:00,  1.45it/s, loss=0.0292]\n"
     ]
    },
    {
     "name": "stderr",
     "output_type": "stream",
     "text": [
      "GPU available: True (mps), used: False\n",
      "TPU available: False, using: 0 TPU cores\n",
      "IPU available: False, using: 0 IPUs\n",
      "HPU available: False, using: 0 HPUs\n",
      "\n",
      "  | Name       | Type       | Params\n",
      "------------------------------------------\n",
      "0 | loss       | MSELoss    | 0     \n",
      "1 | model      | Sequential | 397 K \n",
      "2 | projection | Sequential | 1.3 K \n",
      "------------------------------------------\n",
      "398 K     Trainable params\n",
      "0         Non-trainable params\n",
      "398 K     Total params\n",
      "1.596     Total estimated model params size (MB)\n"
     ]
    },
    {
     "name": "stdout",
     "output_type": "stream",
     "text": [
      "Epoch 9: 100%|██████████| 5/5 [00:02<00:00,  1.93it/s, loss=0.0292]"
     ]
    },
    {
     "name": "stderr",
     "output_type": "stream",
     "text": [
      "`Trainer.fit` stopped: `max_epochs=10` reached.\n"
     ]
    },
    {
     "name": "stdout",
     "output_type": "stream",
     "text": [
      "Epoch 9: 100%|██████████| 5/5 [00:02<00:00,  1.93it/s, loss=0.0292]\n"
     ]
    },
    {
     "name": "stderr",
     "output_type": "stream",
     "text": [
      "GPU available: True (mps), used: False\n",
      "TPU available: False, using: 0 TPU cores\n",
      "IPU available: False, using: 0 IPUs\n",
      "HPU available: False, using: 0 HPUs\n",
      "\n",
      "  | Name       | Type       | Params\n",
      "------------------------------------------\n",
      "0 | loss       | MSELoss    | 0     \n",
      "1 | model      | Sequential | 397 K \n",
      "2 | projection | Sequential | 1.3 K \n",
      "------------------------------------------\n",
      "398 K     Trainable params\n",
      "0         Non-trainable params\n",
      "398 K     Total params\n",
      "1.596     Total estimated model params size (MB)\n"
     ]
    },
    {
     "name": "stdout",
     "output_type": "stream",
     "text": [
      "Epoch 9: 100%|██████████| 5/5 [00:02<00:00,  1.92it/s, loss=0.0291]"
     ]
    },
    {
     "name": "stderr",
     "output_type": "stream",
     "text": [
      "`Trainer.fit` stopped: `max_epochs=10` reached.\n"
     ]
    },
    {
     "name": "stdout",
     "output_type": "stream",
     "text": [
      "Epoch 9: 100%|██████████| 5/5 [00:02<00:00,  1.92it/s, loss=0.0291]\n"
     ]
    },
    {
     "name": "stderr",
     "output_type": "stream",
     "text": [
      "GPU available: True (mps), used: False\n",
      "TPU available: False, using: 0 TPU cores\n",
      "IPU available: False, using: 0 IPUs\n",
      "HPU available: False, using: 0 HPUs\n",
      "\n",
      "  | Name       | Type       | Params\n",
      "------------------------------------------\n",
      "0 | loss       | MSELoss    | 0     \n",
      "1 | model      | Sequential | 397 K \n",
      "2 | projection | Sequential | 1.3 K \n",
      "------------------------------------------\n",
      "398 K     Trainable params\n",
      "0         Non-trainable params\n",
      "398 K     Total params\n",
      "1.596     Total estimated model params size (MB)\n"
     ]
    },
    {
     "name": "stdout",
     "output_type": "stream",
     "text": [
      "Epoch 9: 100%|██████████| 5/5 [00:02<00:00,  1.83it/s, loss=0.0292]"
     ]
    },
    {
     "name": "stderr",
     "output_type": "stream",
     "text": [
      "`Trainer.fit` stopped: `max_epochs=10` reached.\n"
     ]
    },
    {
     "name": "stdout",
     "output_type": "stream",
     "text": [
      "Epoch 9: 100%|██████████| 5/5 [00:02<00:00,  1.82it/s, loss=0.0292]\n"
     ]
    },
    {
     "name": "stderr",
     "output_type": "stream",
     "text": [
      "GPU available: True (mps), used: False\n",
      "TPU available: False, using: 0 TPU cores\n",
      "IPU available: False, using: 0 IPUs\n",
      "HPU available: False, using: 0 HPUs\n",
      "\n",
      "  | Name       | Type       | Params\n",
      "------------------------------------------\n",
      "0 | loss       | MSELoss    | 0     \n",
      "1 | model      | Sequential | 397 K \n",
      "2 | projection | Sequential | 1.3 K \n",
      "------------------------------------------\n",
      "398 K     Trainable params\n",
      "0         Non-trainable params\n",
      "398 K     Total params\n",
      "1.596     Total estimated model params size (MB)\n"
     ]
    },
    {
     "name": "stdout",
     "output_type": "stream",
     "text": [
      "Epoch 9: 100%|██████████| 5/5 [00:02<00:00,  2.00it/s, loss=0.0292]"
     ]
    },
    {
     "name": "stderr",
     "output_type": "stream",
     "text": [
      "`Trainer.fit` stopped: `max_epochs=10` reached.\n"
     ]
    },
    {
     "name": "stdout",
     "output_type": "stream",
     "text": [
      "Epoch 9: 100%|██████████| 5/5 [00:02<00:00,  1.99it/s, loss=0.0292]\n"
     ]
    },
    {
     "name": "stderr",
     "output_type": "stream",
     "text": [
      "GPU available: True (mps), used: False\n",
      "TPU available: False, using: 0 TPU cores\n",
      "IPU available: False, using: 0 IPUs\n",
      "HPU available: False, using: 0 HPUs\n",
      "\n",
      "  | Name       | Type       | Params\n",
      "------------------------------------------\n",
      "0 | loss       | MSELoss    | 0     \n",
      "1 | model      | Sequential | 397 K \n",
      "2 | projection | Sequential | 1.3 K \n",
      "------------------------------------------\n",
      "398 K     Trainable params\n",
      "0         Non-trainable params\n",
      "398 K     Total params\n",
      "1.596     Total estimated model params size (MB)\n"
     ]
    },
    {
     "name": "stdout",
     "output_type": "stream",
     "text": [
      "Epoch 9: 100%|██████████| 5/5 [00:02<00:00,  2.03it/s, loss=0.0292]"
     ]
    },
    {
     "name": "stderr",
     "output_type": "stream",
     "text": [
      "`Trainer.fit` stopped: `max_epochs=10` reached.\n"
     ]
    },
    {
     "name": "stdout",
     "output_type": "stream",
     "text": [
      "Epoch 9: 100%|██████████| 5/5 [00:02<00:00,  2.02it/s, loss=0.0292]\n"
     ]
    },
    {
     "name": "stderr",
     "output_type": "stream",
     "text": [
      "GPU available: True (mps), used: False\n",
      "TPU available: False, using: 0 TPU cores\n",
      "IPU available: False, using: 0 IPUs\n",
      "HPU available: False, using: 0 HPUs\n",
      "\n",
      "  | Name       | Type       | Params\n",
      "------------------------------------------\n",
      "0 | loss       | MSELoss    | 0     \n",
      "1 | model      | Sequential | 397 K \n",
      "2 | projection | Sequential | 1.3 K \n",
      "------------------------------------------\n",
      "398 K     Trainable params\n",
      "0         Non-trainable params\n",
      "398 K     Total params\n",
      "1.596     Total estimated model params size (MB)\n"
     ]
    },
    {
     "name": "stdout",
     "output_type": "stream",
     "text": [
      "Epoch 9: 100%|██████████| 5/5 [00:02<00:00,  1.84it/s, loss=0.0292]"
     ]
    },
    {
     "name": "stderr",
     "output_type": "stream",
     "text": [
      "`Trainer.fit` stopped: `max_epochs=10` reached.\n"
     ]
    },
    {
     "name": "stdout",
     "output_type": "stream",
     "text": [
      "Epoch 9: 100%|██████████| 5/5 [00:02<00:00,  1.83it/s, loss=0.0292]\n"
     ]
    },
    {
     "name": "stderr",
     "output_type": "stream",
     "text": [
      "GPU available: True (mps), used: False\n",
      "TPU available: False, using: 0 TPU cores\n",
      "IPU available: False, using: 0 IPUs\n",
      "HPU available: False, using: 0 HPUs\n",
      "\n",
      "  | Name       | Type       | Params\n",
      "------------------------------------------\n",
      "0 | loss       | MSELoss    | 0     \n",
      "1 | model      | Sequential | 397 K \n",
      "2 | projection | Sequential | 1.3 K \n",
      "------------------------------------------\n",
      "398 K     Trainable params\n",
      "0         Non-trainable params\n",
      "398 K     Total params\n",
      "1.596     Total estimated model params size (MB)\n"
     ]
    },
    {
     "name": "stdout",
     "output_type": "stream",
     "text": [
      "Epoch 9: 100%|██████████| 5/5 [00:02<00:00,  1.91it/s, loss=0.0292]"
     ]
    },
    {
     "name": "stderr",
     "output_type": "stream",
     "text": [
      "`Trainer.fit` stopped: `max_epochs=10` reached.\n"
     ]
    },
    {
     "name": "stdout",
     "output_type": "stream",
     "text": [
      "Epoch 9: 100%|██████████| 5/5 [00:02<00:00,  1.91it/s, loss=0.0292]\n"
     ]
    },
    {
     "name": "stderr",
     "output_type": "stream",
     "text": [
      "GPU available: True (mps), used: False\n",
      "TPU available: False, using: 0 TPU cores\n",
      "IPU available: False, using: 0 IPUs\n",
      "HPU available: False, using: 0 HPUs\n",
      "\n",
      "  | Name       | Type       | Params\n",
      "------------------------------------------\n",
      "0 | loss       | MSELoss    | 0     \n",
      "1 | model      | Sequential | 397 K \n",
      "2 | projection | Sequential | 1.3 K \n",
      "------------------------------------------\n",
      "398 K     Trainable params\n",
      "0         Non-trainable params\n",
      "398 K     Total params\n",
      "1.596     Total estimated model params size (MB)\n"
     ]
    },
    {
     "name": "stdout",
     "output_type": "stream",
     "text": [
      "Epoch 9: 100%|██████████| 5/5 [00:02<00:00,  1.96it/s, loss=0.0292]"
     ]
    },
    {
     "name": "stderr",
     "output_type": "stream",
     "text": [
      "`Trainer.fit` stopped: `max_epochs=10` reached.\n"
     ]
    },
    {
     "name": "stdout",
     "output_type": "stream",
     "text": [
      "Epoch 9: 100%|██████████| 5/5 [00:02<00:00,  1.95it/s, loss=0.0292]\n"
     ]
    },
    {
     "name": "stderr",
     "output_type": "stream",
     "text": [
      "GPU available: True (mps), used: False\n",
      "TPU available: False, using: 0 TPU cores\n",
      "IPU available: False, using: 0 IPUs\n",
      "HPU available: False, using: 0 HPUs\n",
      "\n",
      "  | Name       | Type       | Params\n",
      "------------------------------------------\n",
      "0 | loss       | MSELoss    | 0     \n",
      "1 | model      | Sequential | 397 K \n",
      "2 | projection | Sequential | 1.3 K \n",
      "------------------------------------------\n",
      "398 K     Trainable params\n",
      "0         Non-trainable params\n",
      "398 K     Total params\n",
      "1.596     Total estimated model params size (MB)\n"
     ]
    },
    {
     "name": "stdout",
     "output_type": "stream",
     "text": [
      "Epoch 9: 100%|██████████| 5/5 [00:02<00:00,  1.91it/s, loss=0.0292]"
     ]
    },
    {
     "name": "stderr",
     "output_type": "stream",
     "text": [
      "`Trainer.fit` stopped: `max_epochs=10` reached.\n"
     ]
    },
    {
     "name": "stdout",
     "output_type": "stream",
     "text": [
      "Epoch 9: 100%|██████████| 5/5 [00:02<00:00,  1.91it/s, loss=0.0292]\n"
     ]
    },
    {
     "name": "stderr",
     "output_type": "stream",
     "text": [
      "GPU available: True (mps), used: False\n",
      "TPU available: False, using: 0 TPU cores\n",
      "IPU available: False, using: 0 IPUs\n",
      "HPU available: False, using: 0 HPUs\n",
      "\n",
      "  | Name       | Type       | Params\n",
      "------------------------------------------\n",
      "0 | loss       | MSELoss    | 0     \n",
      "1 | model      | Sequential | 397 K \n",
      "2 | projection | Sequential | 1.3 K \n",
      "------------------------------------------\n",
      "398 K     Trainable params\n",
      "0         Non-trainable params\n",
      "398 K     Total params\n",
      "1.596     Total estimated model params size (MB)\n"
     ]
    },
    {
     "name": "stdout",
     "output_type": "stream",
     "text": [
      "Epoch 9: 100%|██████████| 5/5 [00:02<00:00,  1.89it/s, loss=0.0292]"
     ]
    },
    {
     "name": "stderr",
     "output_type": "stream",
     "text": [
      "`Trainer.fit` stopped: `max_epochs=10` reached.\n"
     ]
    },
    {
     "name": "stdout",
     "output_type": "stream",
     "text": [
      "Epoch 9: 100%|██████████| 5/5 [00:02<00:00,  1.88it/s, loss=0.0292]\n"
     ]
    },
    {
     "name": "stderr",
     "output_type": "stream",
     "text": [
      "GPU available: True (mps), used: False\n",
      "TPU available: False, using: 0 TPU cores\n",
      "IPU available: False, using: 0 IPUs\n",
      "HPU available: False, using: 0 HPUs\n",
      "\n",
      "  | Name       | Type       | Params\n",
      "------------------------------------------\n",
      "0 | loss       | MSELoss    | 0     \n",
      "1 | model      | Sequential | 397 K \n",
      "2 | projection | Sequential | 1.3 K \n",
      "------------------------------------------\n",
      "398 K     Trainable params\n",
      "0         Non-trainable params\n",
      "398 K     Total params\n",
      "1.596     Total estimated model params size (MB)\n"
     ]
    },
    {
     "name": "stdout",
     "output_type": "stream",
     "text": [
      "Epoch 9: 100%|██████████| 5/5 [00:02<00:00,  1.86it/s, loss=0.0292]"
     ]
    },
    {
     "name": "stderr",
     "output_type": "stream",
     "text": [
      "`Trainer.fit` stopped: `max_epochs=10` reached.\n"
     ]
    },
    {
     "name": "stdout",
     "output_type": "stream",
     "text": [
      "Epoch 9: 100%|██████████| 5/5 [00:02<00:00,  1.85it/s, loss=0.0292]\n"
     ]
    },
    {
     "name": "stderr",
     "output_type": "stream",
     "text": [
      "GPU available: True (mps), used: False\n",
      "TPU available: False, using: 0 TPU cores\n",
      "IPU available: False, using: 0 IPUs\n",
      "HPU available: False, using: 0 HPUs\n",
      "\n",
      "  | Name       | Type       | Params\n",
      "------------------------------------------\n",
      "0 | loss       | MSELoss    | 0     \n",
      "1 | model      | Sequential | 397 K \n",
      "2 | projection | Sequential | 1.3 K \n",
      "------------------------------------------\n",
      "398 K     Trainable params\n",
      "0         Non-trainable params\n",
      "398 K     Total params\n",
      "1.596     Total estimated model params size (MB)\n"
     ]
    },
    {
     "name": "stdout",
     "output_type": "stream",
     "text": [
      "Epoch 9: 100%|██████████| 5/5 [00:02<00:00,  2.00it/s, loss=0.0292]"
     ]
    },
    {
     "name": "stderr",
     "output_type": "stream",
     "text": [
      "`Trainer.fit` stopped: `max_epochs=10` reached.\n"
     ]
    },
    {
     "name": "stdout",
     "output_type": "stream",
     "text": [
      "Epoch 9: 100%|██████████| 5/5 [00:02<00:00,  1.99it/s, loss=0.0292]\n"
     ]
    },
    {
     "name": "stderr",
     "output_type": "stream",
     "text": [
      "GPU available: True (mps), used: False\n",
      "TPU available: False, using: 0 TPU cores\n",
      "IPU available: False, using: 0 IPUs\n",
      "HPU available: False, using: 0 HPUs\n",
      "\n",
      "  | Name       | Type       | Params\n",
      "------------------------------------------\n",
      "0 | loss       | MSELoss    | 0     \n",
      "1 | model      | Sequential | 397 K \n",
      "2 | projection | Sequential | 1.3 K \n",
      "------------------------------------------\n",
      "398 K     Trainable params\n",
      "0         Non-trainable params\n",
      "398 K     Total params\n",
      "1.596     Total estimated model params size (MB)\n"
     ]
    },
    {
     "name": "stdout",
     "output_type": "stream",
     "text": [
      "Epoch 9: 100%|██████████| 5/5 [00:02<00:00,  2.01it/s, loss=0.0292]"
     ]
    },
    {
     "name": "stderr",
     "output_type": "stream",
     "text": [
      "`Trainer.fit` stopped: `max_epochs=10` reached.\n"
     ]
    },
    {
     "name": "stdout",
     "output_type": "stream",
     "text": [
      "Epoch 9: 100%|██████████| 5/5 [00:02<00:00,  2.00it/s, loss=0.0292]\n"
     ]
    },
    {
     "name": "stderr",
     "output_type": "stream",
     "text": [
      "GPU available: True (mps), used: False\n",
      "TPU available: False, using: 0 TPU cores\n",
      "IPU available: False, using: 0 IPUs\n",
      "HPU available: False, using: 0 HPUs\n",
      "\n",
      "  | Name       | Type       | Params\n",
      "------------------------------------------\n",
      "0 | loss       | MSELoss    | 0     \n",
      "1 | model      | Sequential | 397 K \n",
      "2 | projection | Sequential | 1.3 K \n",
      "------------------------------------------\n",
      "398 K     Trainable params\n",
      "0         Non-trainable params\n",
      "398 K     Total params\n",
      "1.596     Total estimated model params size (MB)\n"
     ]
    },
    {
     "name": "stdout",
     "output_type": "stream",
     "text": [
      "Epoch 9: 100%|██████████| 5/5 [00:02<00:00,  1.89it/s, loss=0.0292]"
     ]
    },
    {
     "name": "stderr",
     "output_type": "stream",
     "text": [
      "`Trainer.fit` stopped: `max_epochs=10` reached.\n"
     ]
    },
    {
     "name": "stdout",
     "output_type": "stream",
     "text": [
      "Epoch 9: 100%|██████████| 5/5 [00:02<00:00,  1.89it/s, loss=0.0292]\n"
     ]
    },
    {
     "name": "stderr",
     "output_type": "stream",
     "text": [
      "GPU available: True (mps), used: False\n",
      "TPU available: False, using: 0 TPU cores\n",
      "IPU available: False, using: 0 IPUs\n",
      "HPU available: False, using: 0 HPUs\n",
      "\n",
      "  | Name       | Type       | Params\n",
      "------------------------------------------\n",
      "0 | loss       | MSELoss    | 0     \n",
      "1 | model      | Sequential | 397 K \n",
      "2 | projection | Sequential | 1.3 K \n",
      "------------------------------------------\n",
      "398 K     Trainable params\n",
      "0         Non-trainable params\n",
      "398 K     Total params\n",
      "1.596     Total estimated model params size (MB)\n"
     ]
    },
    {
     "name": "stdout",
     "output_type": "stream",
     "text": [
      "Epoch 9: 100%|██████████| 5/5 [00:02<00:00,  1.84it/s, loss=0.0292]"
     ]
    },
    {
     "name": "stderr",
     "output_type": "stream",
     "text": [
      "`Trainer.fit` stopped: `max_epochs=10` reached.\n"
     ]
    },
    {
     "name": "stdout",
     "output_type": "stream",
     "text": [
      "Epoch 9: 100%|██████████| 5/5 [00:02<00:00,  1.84it/s, loss=0.0292]\n"
     ]
    },
    {
     "name": "stderr",
     "output_type": "stream",
     "text": [
      "GPU available: True (mps), used: False\n",
      "TPU available: False, using: 0 TPU cores\n",
      "IPU available: False, using: 0 IPUs\n",
      "HPU available: False, using: 0 HPUs\n",
      "\n",
      "  | Name       | Type       | Params\n",
      "------------------------------------------\n",
      "0 | loss       | MSELoss    | 0     \n",
      "1 | model      | Sequential | 397 K \n",
      "2 | projection | Sequential | 1.3 K \n",
      "------------------------------------------\n",
      "398 K     Trainable params\n",
      "0         Non-trainable params\n",
      "398 K     Total params\n",
      "1.596     Total estimated model params size (MB)\n"
     ]
    },
    {
     "name": "stdout",
     "output_type": "stream",
     "text": [
      "Epoch 9: 100%|██████████| 5/5 [00:02<00:00,  1.86it/s, loss=0.0292]"
     ]
    },
    {
     "name": "stderr",
     "output_type": "stream",
     "text": [
      "`Trainer.fit` stopped: `max_epochs=10` reached.\n"
     ]
    },
    {
     "name": "stdout",
     "output_type": "stream",
     "text": [
      "Epoch 9: 100%|██████████| 5/5 [00:02<00:00,  1.85it/s, loss=0.0292]\n"
     ]
    },
    {
     "name": "stderr",
     "output_type": "stream",
     "text": [
      "GPU available: True (mps), used: False\n",
      "TPU available: False, using: 0 TPU cores\n",
      "IPU available: False, using: 0 IPUs\n",
      "HPU available: False, using: 0 HPUs\n",
      "\n",
      "  | Name       | Type       | Params\n",
      "------------------------------------------\n",
      "0 | loss       | MSELoss    | 0     \n",
      "1 | model      | Sequential | 397 K \n",
      "2 | projection | Sequential | 1.3 K \n",
      "------------------------------------------\n",
      "398 K     Trainable params\n",
      "0         Non-trainable params\n",
      "398 K     Total params\n",
      "1.596     Total estimated model params size (MB)\n"
     ]
    },
    {
     "name": "stdout",
     "output_type": "stream",
     "text": [
      "Epoch 9: 100%|██████████| 5/5 [00:02<00:00,  1.80it/s, loss=0.0292]"
     ]
    },
    {
     "name": "stderr",
     "output_type": "stream",
     "text": [
      "`Trainer.fit` stopped: `max_epochs=10` reached.\n"
     ]
    },
    {
     "name": "stdout",
     "output_type": "stream",
     "text": [
      "Epoch 9: 100%|██████████| 5/5 [00:02<00:00,  1.79it/s, loss=0.0292]\n"
     ]
    },
    {
     "name": "stderr",
     "output_type": "stream",
     "text": [
      "GPU available: True (mps), used: False\n",
      "TPU available: False, using: 0 TPU cores\n",
      "IPU available: False, using: 0 IPUs\n",
      "HPU available: False, using: 0 HPUs\n",
      "\n",
      "  | Name       | Type       | Params\n",
      "------------------------------------------\n",
      "0 | loss       | MSELoss    | 0     \n",
      "1 | model      | Sequential | 397 K \n",
      "2 | projection | Sequential | 1.3 K \n",
      "------------------------------------------\n",
      "398 K     Trainable params\n",
      "0         Non-trainable params\n",
      "398 K     Total params\n",
      "1.596     Total estimated model params size (MB)\n"
     ]
    },
    {
     "name": "stdout",
     "output_type": "stream",
     "text": [
      "Epoch 9: 100%|██████████| 5/5 [00:02<00:00,  1.93it/s, loss=0.0292]"
     ]
    },
    {
     "name": "stderr",
     "output_type": "stream",
     "text": [
      "`Trainer.fit` stopped: `max_epochs=10` reached.\n"
     ]
    },
    {
     "name": "stdout",
     "output_type": "stream",
     "text": [
      "Epoch 9: 100%|██████████| 5/5 [00:02<00:00,  1.92it/s, loss=0.0292]\n"
     ]
    },
    {
     "name": "stderr",
     "output_type": "stream",
     "text": [
      "GPU available: True (mps), used: False\n",
      "TPU available: False, using: 0 TPU cores\n",
      "IPU available: False, using: 0 IPUs\n",
      "HPU available: False, using: 0 HPUs\n",
      "\n",
      "  | Name       | Type       | Params\n",
      "------------------------------------------\n",
      "0 | loss       | MSELoss    | 0     \n",
      "1 | model      | Sequential | 397 K \n",
      "2 | projection | Sequential | 1.3 K \n",
      "------------------------------------------\n",
      "398 K     Trainable params\n",
      "0         Non-trainable params\n",
      "398 K     Total params\n",
      "1.596     Total estimated model params size (MB)\n"
     ]
    },
    {
     "name": "stdout",
     "output_type": "stream",
     "text": [
      "Epoch 9: 100%|██████████| 5/5 [00:02<00:00,  1.90it/s, loss=0.0292]"
     ]
    },
    {
     "name": "stderr",
     "output_type": "stream",
     "text": [
      "`Trainer.fit` stopped: `max_epochs=10` reached.\n"
     ]
    },
    {
     "name": "stdout",
     "output_type": "stream",
     "text": [
      "Epoch 9: 100%|██████████| 5/5 [00:02<00:00,  1.89it/s, loss=0.0292]\n"
     ]
    },
    {
     "name": "stderr",
     "output_type": "stream",
     "text": [
      "GPU available: True (mps), used: False\n",
      "TPU available: False, using: 0 TPU cores\n",
      "IPU available: False, using: 0 IPUs\n",
      "HPU available: False, using: 0 HPUs\n",
      "\n",
      "  | Name       | Type       | Params\n",
      "------------------------------------------\n",
      "0 | loss       | MSELoss    | 0     \n",
      "1 | model      | Sequential | 397 K \n",
      "2 | projection | Sequential | 1.3 K \n",
      "------------------------------------------\n",
      "398 K     Trainable params\n",
      "0         Non-trainable params\n",
      "398 K     Total params\n",
      "1.596     Total estimated model params size (MB)\n"
     ]
    },
    {
     "name": "stdout",
     "output_type": "stream",
     "text": [
      "Epoch 9: 100%|██████████| 5/5 [00:02<00:00,  1.98it/s, loss=0.0292]"
     ]
    },
    {
     "name": "stderr",
     "output_type": "stream",
     "text": [
      "`Trainer.fit` stopped: `max_epochs=10` reached.\n"
     ]
    },
    {
     "name": "stdout",
     "output_type": "stream",
     "text": [
      "Epoch 9: 100%|██████████| 5/5 [00:02<00:00,  1.98it/s, loss=0.0292]\n"
     ]
    },
    {
     "name": "stderr",
     "output_type": "stream",
     "text": [
      "GPU available: True (mps), used: False\n",
      "TPU available: False, using: 0 TPU cores\n",
      "IPU available: False, using: 0 IPUs\n",
      "HPU available: False, using: 0 HPUs\n",
      "\n",
      "  | Name       | Type       | Params\n",
      "------------------------------------------\n",
      "0 | loss       | MSELoss    | 0     \n",
      "1 | model      | Sequential | 397 K \n",
      "2 | projection | Sequential | 1.3 K \n",
      "------------------------------------------\n",
      "398 K     Trainable params\n",
      "0         Non-trainable params\n",
      "398 K     Total params\n",
      "1.596     Total estimated model params size (MB)\n"
     ]
    },
    {
     "name": "stdout",
     "output_type": "stream",
     "text": [
      "Epoch 9: 100%|██████████| 5/5 [00:02<00:00,  1.95it/s, loss=0.0292]"
     ]
    },
    {
     "name": "stderr",
     "output_type": "stream",
     "text": [
      "`Trainer.fit` stopped: `max_epochs=10` reached.\n"
     ]
    },
    {
     "name": "stdout",
     "output_type": "stream",
     "text": [
      "Epoch 9: 100%|██████████| 5/5 [00:02<00:00,  1.94it/s, loss=0.0292]\n"
     ]
    },
    {
     "name": "stderr",
     "output_type": "stream",
     "text": [
      "GPU available: True (mps), used: False\n",
      "TPU available: False, using: 0 TPU cores\n",
      "IPU available: False, using: 0 IPUs\n",
      "HPU available: False, using: 0 HPUs\n",
      "\n",
      "  | Name       | Type       | Params\n",
      "------------------------------------------\n",
      "0 | loss       | MSELoss    | 0     \n",
      "1 | model      | Sequential | 397 K \n",
      "2 | projection | Sequential | 1.3 K \n",
      "------------------------------------------\n",
      "398 K     Trainable params\n",
      "0         Non-trainable params\n",
      "398 K     Total params\n",
      "1.596     Total estimated model params size (MB)\n"
     ]
    },
    {
     "name": "stdout",
     "output_type": "stream",
     "text": [
      "Epoch 9: 100%|██████████| 5/5 [00:02<00:00,  1.85it/s, loss=0.0292]"
     ]
    },
    {
     "name": "stderr",
     "output_type": "stream",
     "text": [
      "`Trainer.fit` stopped: `max_epochs=10` reached.\n"
     ]
    },
    {
     "name": "stdout",
     "output_type": "stream",
     "text": [
      "Epoch 9: 100%|██████████| 5/5 [00:02<00:00,  1.85it/s, loss=0.0292]\n"
     ]
    },
    {
     "name": "stderr",
     "output_type": "stream",
     "text": [
      "GPU available: True (mps), used: False\n",
      "TPU available: False, using: 0 TPU cores\n",
      "IPU available: False, using: 0 IPUs\n",
      "HPU available: False, using: 0 HPUs\n",
      "\n",
      "  | Name       | Type       | Params\n",
      "------------------------------------------\n",
      "0 | loss       | MSELoss    | 0     \n",
      "1 | model      | Sequential | 397 K \n",
      "2 | projection | Sequential | 1.3 K \n",
      "------------------------------------------\n",
      "398 K     Trainable params\n",
      "0         Non-trainable params\n",
      "398 K     Total params\n",
      "1.596     Total estimated model params size (MB)\n"
     ]
    },
    {
     "name": "stdout",
     "output_type": "stream",
     "text": [
      "Epoch 9: 100%|██████████| 5/5 [00:02<00:00,  1.93it/s, loss=0.0292]"
     ]
    },
    {
     "name": "stderr",
     "output_type": "stream",
     "text": [
      "`Trainer.fit` stopped: `max_epochs=10` reached.\n"
     ]
    },
    {
     "name": "stdout",
     "output_type": "stream",
     "text": [
      "Epoch 9: 100%|██████████| 5/5 [00:02<00:00,  1.93it/s, loss=0.0292]\n"
     ]
    },
    {
     "name": "stderr",
     "output_type": "stream",
     "text": [
      "GPU available: True (mps), used: False\n",
      "TPU available: False, using: 0 TPU cores\n",
      "IPU available: False, using: 0 IPUs\n",
      "HPU available: False, using: 0 HPUs\n",
      "\n",
      "  | Name       | Type       | Params\n",
      "------------------------------------------\n",
      "0 | loss       | MSELoss    | 0     \n",
      "1 | model      | Sequential | 397 K \n",
      "2 | projection | Sequential | 1.3 K \n",
      "------------------------------------------\n",
      "398 K     Trainable params\n",
      "0         Non-trainable params\n",
      "398 K     Total params\n",
      "1.596     Total estimated model params size (MB)\n"
     ]
    },
    {
     "name": "stdout",
     "output_type": "stream",
     "text": [
      "Epoch 9: 100%|██████████| 5/5 [00:02<00:00,  1.87it/s, loss=0.0292]"
     ]
    },
    {
     "name": "stderr",
     "output_type": "stream",
     "text": [
      "`Trainer.fit` stopped: `max_epochs=10` reached.\n"
     ]
    },
    {
     "name": "stdout",
     "output_type": "stream",
     "text": [
      "Epoch 9: 100%|██████████| 5/5 [00:02<00:00,  1.87it/s, loss=0.0292]\n"
     ]
    },
    {
     "name": "stderr",
     "output_type": "stream",
     "text": [
      "GPU available: True (mps), used: False\n",
      "TPU available: False, using: 0 TPU cores\n",
      "IPU available: False, using: 0 IPUs\n",
      "HPU available: False, using: 0 HPUs\n",
      "\n",
      "  | Name       | Type       | Params\n",
      "------------------------------------------\n",
      "0 | loss       | MSELoss    | 0     \n",
      "1 | model      | Sequential | 397 K \n",
      "2 | projection | Sequential | 1.3 K \n",
      "------------------------------------------\n",
      "398 K     Trainable params\n",
      "0         Non-trainable params\n",
      "398 K     Total params\n",
      "1.596     Total estimated model params size (MB)\n"
     ]
    },
    {
     "name": "stdout",
     "output_type": "stream",
     "text": [
      "Epoch 9: 100%|██████████| 5/5 [00:02<00:00,  1.93it/s, loss=0.0292]"
     ]
    },
    {
     "name": "stderr",
     "output_type": "stream",
     "text": [
      "`Trainer.fit` stopped: `max_epochs=10` reached.\n"
     ]
    },
    {
     "name": "stdout",
     "output_type": "stream",
     "text": [
      "Epoch 9: 100%|██████████| 5/5 [00:02<00:00,  1.92it/s, loss=0.0292]\n"
     ]
    },
    {
     "name": "stderr",
     "output_type": "stream",
     "text": [
      "GPU available: True (mps), used: False\n",
      "TPU available: False, using: 0 TPU cores\n",
      "IPU available: False, using: 0 IPUs\n",
      "HPU available: False, using: 0 HPUs\n",
      "\n",
      "  | Name       | Type       | Params\n",
      "------------------------------------------\n",
      "0 | loss       | MSELoss    | 0     \n",
      "1 | model      | Sequential | 397 K \n",
      "2 | projection | Sequential | 1.3 K \n",
      "------------------------------------------\n",
      "398 K     Trainable params\n",
      "0         Non-trainable params\n",
      "398 K     Total params\n",
      "1.596     Total estimated model params size (MB)\n"
     ]
    },
    {
     "name": "stdout",
     "output_type": "stream",
     "text": [
      "Epoch 9: 100%|██████████| 5/5 [00:02<00:00,  1.88it/s, loss=0.0292]"
     ]
    },
    {
     "name": "stderr",
     "output_type": "stream",
     "text": [
      "`Trainer.fit` stopped: `max_epochs=10` reached.\n"
     ]
    },
    {
     "name": "stdout",
     "output_type": "stream",
     "text": [
      "Epoch 9: 100%|██████████| 5/5 [00:02<00:00,  1.87it/s, loss=0.0292]\n"
     ]
    },
    {
     "name": "stderr",
     "output_type": "stream",
     "text": [
      "GPU available: True (mps), used: False\n",
      "TPU available: False, using: 0 TPU cores\n",
      "IPU available: False, using: 0 IPUs\n",
      "HPU available: False, using: 0 HPUs\n",
      "\n",
      "  | Name       | Type       | Params\n",
      "------------------------------------------\n",
      "0 | loss       | MSELoss    | 0     \n",
      "1 | model      | Sequential | 397 K \n",
      "2 | projection | Sequential | 1.3 K \n",
      "------------------------------------------\n",
      "398 K     Trainable params\n",
      "0         Non-trainable params\n",
      "398 K     Total params\n",
      "1.596     Total estimated model params size (MB)\n"
     ]
    },
    {
     "name": "stdout",
     "output_type": "stream",
     "text": [
      "Epoch 9: 100%|██████████| 5/5 [00:02<00:00,  1.99it/s, loss=0.0292]"
     ]
    },
    {
     "name": "stderr",
     "output_type": "stream",
     "text": [
      "`Trainer.fit` stopped: `max_epochs=10` reached.\n"
     ]
    },
    {
     "name": "stdout",
     "output_type": "stream",
     "text": [
      "Epoch 9: 100%|██████████| 5/5 [00:02<00:00,  1.98it/s, loss=0.0292]\n"
     ]
    },
    {
     "name": "stderr",
     "output_type": "stream",
     "text": [
      "GPU available: True (mps), used: False\n",
      "TPU available: False, using: 0 TPU cores\n",
      "IPU available: False, using: 0 IPUs\n",
      "HPU available: False, using: 0 HPUs\n",
      "\n",
      "  | Name       | Type       | Params\n",
      "------------------------------------------\n",
      "0 | loss       | MSELoss    | 0     \n",
      "1 | model      | Sequential | 397 K \n",
      "2 | projection | Sequential | 1.3 K \n",
      "------------------------------------------\n",
      "398 K     Trainable params\n",
      "0         Non-trainable params\n",
      "398 K     Total params\n",
      "1.596     Total estimated model params size (MB)\n"
     ]
    },
    {
     "name": "stdout",
     "output_type": "stream",
     "text": [
      "Epoch 9: 100%|██████████| 5/5 [00:02<00:00,  1.93it/s, loss=0.0292]"
     ]
    },
    {
     "name": "stderr",
     "output_type": "stream",
     "text": [
      "`Trainer.fit` stopped: `max_epochs=10` reached.\n"
     ]
    },
    {
     "name": "stdout",
     "output_type": "stream",
     "text": [
      "Epoch 9: 100%|██████████| 5/5 [00:02<00:00,  1.93it/s, loss=0.0292]\n"
     ]
    },
    {
     "name": "stderr",
     "output_type": "stream",
     "text": [
      "GPU available: True (mps), used: False\n",
      "TPU available: False, using: 0 TPU cores\n",
      "IPU available: False, using: 0 IPUs\n",
      "HPU available: False, using: 0 HPUs\n",
      "\n",
      "  | Name       | Type       | Params\n",
      "------------------------------------------\n",
      "0 | loss       | MSELoss    | 0     \n",
      "1 | model      | Sequential | 397 K \n",
      "2 | projection | Sequential | 1.3 K \n",
      "------------------------------------------\n",
      "398 K     Trainable params\n",
      "0         Non-trainable params\n",
      "398 K     Total params\n",
      "1.596     Total estimated model params size (MB)\n"
     ]
    },
    {
     "name": "stdout",
     "output_type": "stream",
     "text": [
      "Epoch 9: 100%|██████████| 5/5 [00:02<00:00,  1.97it/s, loss=0.0292]"
     ]
    },
    {
     "name": "stderr",
     "output_type": "stream",
     "text": [
      "`Trainer.fit` stopped: `max_epochs=10` reached.\n"
     ]
    },
    {
     "name": "stdout",
     "output_type": "stream",
     "text": [
      "Epoch 9: 100%|██████████| 5/5 [00:02<00:00,  1.96it/s, loss=0.0292]\n"
     ]
    },
    {
     "name": "stderr",
     "output_type": "stream",
     "text": [
      "GPU available: True (mps), used: False\n",
      "TPU available: False, using: 0 TPU cores\n",
      "IPU available: False, using: 0 IPUs\n",
      "HPU available: False, using: 0 HPUs\n",
      "\n",
      "  | Name       | Type       | Params\n",
      "------------------------------------------\n",
      "0 | loss       | MSELoss    | 0     \n",
      "1 | model      | Sequential | 397 K \n",
      "2 | projection | Sequential | 1.3 K \n",
      "------------------------------------------\n",
      "398 K     Trainable params\n",
      "0         Non-trainable params\n",
      "398 K     Total params\n",
      "1.596     Total estimated model params size (MB)\n"
     ]
    },
    {
     "name": "stdout",
     "output_type": "stream",
     "text": [
      "Epoch 9: 100%|██████████| 5/5 [00:02<00:00,  1.87it/s, loss=0.0292]"
     ]
    },
    {
     "name": "stderr",
     "output_type": "stream",
     "text": [
      "`Trainer.fit` stopped: `max_epochs=10` reached.\n"
     ]
    },
    {
     "name": "stdout",
     "output_type": "stream",
     "text": [
      "Epoch 9: 100%|██████████| 5/5 [00:02<00:00,  1.86it/s, loss=0.0292]\n"
     ]
    },
    {
     "name": "stderr",
     "output_type": "stream",
     "text": [
      "GPU available: True (mps), used: False\n",
      "TPU available: False, using: 0 TPU cores\n",
      "IPU available: False, using: 0 IPUs\n",
      "HPU available: False, using: 0 HPUs\n",
      "\n",
      "  | Name       | Type       | Params\n",
      "------------------------------------------\n",
      "0 | loss       | MSELoss    | 0     \n",
      "1 | model      | Sequential | 397 K \n",
      "2 | projection | Sequential | 1.3 K \n",
      "------------------------------------------\n",
      "398 K     Trainable params\n",
      "0         Non-trainable params\n",
      "398 K     Total params\n",
      "1.596     Total estimated model params size (MB)\n"
     ]
    },
    {
     "name": "stdout",
     "output_type": "stream",
     "text": [
      "Epoch 9: 100%|██████████| 5/5 [00:02<00:00,  1.99it/s, loss=0.0292]"
     ]
    },
    {
     "name": "stderr",
     "output_type": "stream",
     "text": [
      "`Trainer.fit` stopped: `max_epochs=10` reached.\n"
     ]
    },
    {
     "name": "stdout",
     "output_type": "stream",
     "text": [
      "Epoch 9: 100%|██████████| 5/5 [00:02<00:00,  1.98it/s, loss=0.0292]\n"
     ]
    },
    {
     "name": "stderr",
     "output_type": "stream",
     "text": [
      "GPU available: True (mps), used: False\n",
      "TPU available: False, using: 0 TPU cores\n",
      "IPU available: False, using: 0 IPUs\n",
      "HPU available: False, using: 0 HPUs\n",
      "\n",
      "  | Name       | Type       | Params\n",
      "------------------------------------------\n",
      "0 | loss       | MSELoss    | 0     \n",
      "1 | model      | Sequential | 397 K \n",
      "2 | projection | Sequential | 1.3 K \n",
      "------------------------------------------\n",
      "398 K     Trainable params\n",
      "0         Non-trainable params\n",
      "398 K     Total params\n",
      "1.596     Total estimated model params size (MB)\n"
     ]
    },
    {
     "name": "stdout",
     "output_type": "stream",
     "text": [
      "Epoch 9: 100%|██████████| 5/5 [00:02<00:00,  1.87it/s, loss=0.0292]"
     ]
    },
    {
     "name": "stderr",
     "output_type": "stream",
     "text": [
      "`Trainer.fit` stopped: `max_epochs=10` reached.\n"
     ]
    },
    {
     "name": "stdout",
     "output_type": "stream",
     "text": [
      "Epoch 9: 100%|██████████| 5/5 [00:02<00:00,  1.86it/s, loss=0.0292]\n"
     ]
    },
    {
     "name": "stderr",
     "output_type": "stream",
     "text": [
      "GPU available: True (mps), used: False\n",
      "TPU available: False, using: 0 TPU cores\n",
      "IPU available: False, using: 0 IPUs\n",
      "HPU available: False, using: 0 HPUs\n",
      "\n",
      "  | Name       | Type       | Params\n",
      "------------------------------------------\n",
      "0 | loss       | MSELoss    | 0     \n",
      "1 | model      | Sequential | 397 K \n",
      "2 | projection | Sequential | 1.3 K \n",
      "------------------------------------------\n",
      "398 K     Trainable params\n",
      "0         Non-trainable params\n",
      "398 K     Total params\n",
      "1.596     Total estimated model params size (MB)\n"
     ]
    },
    {
     "name": "stdout",
     "output_type": "stream",
     "text": [
      "Epoch 9: 100%|██████████| 5/5 [00:02<00:00,  1.92it/s, loss=0.0292]"
     ]
    },
    {
     "name": "stderr",
     "output_type": "stream",
     "text": [
      "`Trainer.fit` stopped: `max_epochs=10` reached.\n"
     ]
    },
    {
     "name": "stdout",
     "output_type": "stream",
     "text": [
      "Epoch 9: 100%|██████████| 5/5 [00:02<00:00,  1.91it/s, loss=0.0292]\n"
     ]
    },
    {
     "name": "stderr",
     "output_type": "stream",
     "text": [
      "GPU available: True (mps), used: False\n",
      "TPU available: False, using: 0 TPU cores\n",
      "IPU available: False, using: 0 IPUs\n",
      "HPU available: False, using: 0 HPUs\n",
      "\n",
      "  | Name       | Type       | Params\n",
      "------------------------------------------\n",
      "0 | loss       | MSELoss    | 0     \n",
      "1 | model      | Sequential | 397 K \n",
      "2 | projection | Sequential | 1.3 K \n",
      "------------------------------------------\n",
      "398 K     Trainable params\n",
      "0         Non-trainable params\n",
      "398 K     Total params\n",
      "1.596     Total estimated model params size (MB)\n"
     ]
    },
    {
     "name": "stdout",
     "output_type": "stream",
     "text": [
      "Epoch 9: 100%|██████████| 5/5 [00:02<00:00,  1.85it/s, loss=0.0292]"
     ]
    },
    {
     "name": "stderr",
     "output_type": "stream",
     "text": [
      "`Trainer.fit` stopped: `max_epochs=10` reached.\n"
     ]
    },
    {
     "name": "stdout",
     "output_type": "stream",
     "text": [
      "Epoch 9: 100%|██████████| 5/5 [00:02<00:00,  1.84it/s, loss=0.0292]\n"
     ]
    },
    {
     "name": "stderr",
     "output_type": "stream",
     "text": [
      "GPU available: True (mps), used: False\n",
      "TPU available: False, using: 0 TPU cores\n",
      "IPU available: False, using: 0 IPUs\n",
      "HPU available: False, using: 0 HPUs\n",
      "\n",
      "  | Name       | Type       | Params\n",
      "------------------------------------------\n",
      "0 | loss       | MSELoss    | 0     \n",
      "1 | model      | Sequential | 397 K \n",
      "2 | projection | Sequential | 1.3 K \n",
      "------------------------------------------\n",
      "398 K     Trainable params\n",
      "0         Non-trainable params\n",
      "398 K     Total params\n",
      "1.596     Total estimated model params size (MB)\n"
     ]
    },
    {
     "name": "stdout",
     "output_type": "stream",
     "text": [
      "Epoch 9: 100%|██████████| 5/5 [00:02<00:00,  1.95it/s, loss=0.0292]"
     ]
    },
    {
     "name": "stderr",
     "output_type": "stream",
     "text": [
      "`Trainer.fit` stopped: `max_epochs=10` reached.\n"
     ]
    },
    {
     "name": "stdout",
     "output_type": "stream",
     "text": [
      "Epoch 9: 100%|██████████| 5/5 [00:02<00:00,  1.94it/s, loss=0.0292]\n"
     ]
    },
    {
     "name": "stderr",
     "output_type": "stream",
     "text": [
      "GPU available: True (mps), used: False\n",
      "TPU available: False, using: 0 TPU cores\n",
      "IPU available: False, using: 0 IPUs\n",
      "HPU available: False, using: 0 HPUs\n",
      "\n",
      "  | Name       | Type       | Params\n",
      "------------------------------------------\n",
      "0 | loss       | MSELoss    | 0     \n",
      "1 | model      | Sequential | 397 K \n",
      "2 | projection | Sequential | 1.3 K \n",
      "------------------------------------------\n",
      "398 K     Trainable params\n",
      "0         Non-trainable params\n",
      "398 K     Total params\n",
      "1.596     Total estimated model params size (MB)\n"
     ]
    },
    {
     "name": "stdout",
     "output_type": "stream",
     "text": [
      "Epoch 9: 100%|██████████| 5/5 [00:02<00:00,  1.92it/s, loss=0.0292]"
     ]
    },
    {
     "name": "stderr",
     "output_type": "stream",
     "text": [
      "`Trainer.fit` stopped: `max_epochs=10` reached.\n"
     ]
    },
    {
     "name": "stdout",
     "output_type": "stream",
     "text": [
      "Epoch 9: 100%|██████████| 5/5 [00:02<00:00,  1.91it/s, loss=0.0292]\n"
     ]
    },
    {
     "name": "stderr",
     "output_type": "stream",
     "text": [
      "GPU available: True (mps), used: False\n",
      "TPU available: False, using: 0 TPU cores\n",
      "IPU available: False, using: 0 IPUs\n",
      "HPU available: False, using: 0 HPUs\n",
      "\n",
      "  | Name       | Type       | Params\n",
      "------------------------------------------\n",
      "0 | loss       | MSELoss    | 0     \n",
      "1 | model      | Sequential | 397 K \n",
      "2 | projection | Sequential | 1.3 K \n",
      "------------------------------------------\n",
      "398 K     Trainable params\n",
      "0         Non-trainable params\n",
      "398 K     Total params\n",
      "1.596     Total estimated model params size (MB)\n"
     ]
    },
    {
     "name": "stdout",
     "output_type": "stream",
     "text": [
      "Epoch 9: 100%|██████████| 5/5 [00:02<00:00,  1.99it/s, loss=0.0292]"
     ]
    },
    {
     "name": "stderr",
     "output_type": "stream",
     "text": [
      "`Trainer.fit` stopped: `max_epochs=10` reached.\n"
     ]
    },
    {
     "name": "stdout",
     "output_type": "stream",
     "text": [
      "Epoch 9: 100%|██████████| 5/5 [00:02<00:00,  1.98it/s, loss=0.0292]\n"
     ]
    },
    {
     "name": "stderr",
     "output_type": "stream",
     "text": [
      "GPU available: True (mps), used: False\n",
      "TPU available: False, using: 0 TPU cores\n",
      "IPU available: False, using: 0 IPUs\n",
      "HPU available: False, using: 0 HPUs\n",
      "\n",
      "  | Name       | Type       | Params\n",
      "------------------------------------------\n",
      "0 | loss       | MSELoss    | 0     \n",
      "1 | model      | Sequential | 397 K \n",
      "2 | projection | Sequential | 1.3 K \n",
      "------------------------------------------\n",
      "398 K     Trainable params\n",
      "0         Non-trainable params\n",
      "398 K     Total params\n",
      "1.596     Total estimated model params size (MB)\n"
     ]
    },
    {
     "name": "stdout",
     "output_type": "stream",
     "text": [
      "Epoch 9: 100%|██████████| 5/5 [00:02<00:00,  1.88it/s, loss=0.0292]"
     ]
    },
    {
     "name": "stderr",
     "output_type": "stream",
     "text": [
      "`Trainer.fit` stopped: `max_epochs=10` reached.\n"
     ]
    },
    {
     "name": "stdout",
     "output_type": "stream",
     "text": [
      "Epoch 9: 100%|██████████| 5/5 [00:02<00:00,  1.87it/s, loss=0.0292]\n"
     ]
    },
    {
     "name": "stderr",
     "output_type": "stream",
     "text": [
      "GPU available: True (mps), used: False\n",
      "TPU available: False, using: 0 TPU cores\n",
      "IPU available: False, using: 0 IPUs\n",
      "HPU available: False, using: 0 HPUs\n",
      "\n",
      "  | Name       | Type       | Params\n",
      "------------------------------------------\n",
      "0 | loss       | MSELoss    | 0     \n",
      "1 | model      | Sequential | 397 K \n",
      "2 | projection | Sequential | 1.3 K \n",
      "------------------------------------------\n",
      "398 K     Trainable params\n",
      "0         Non-trainable params\n",
      "398 K     Total params\n",
      "1.596     Total estimated model params size (MB)\n"
     ]
    },
    {
     "name": "stdout",
     "output_type": "stream",
     "text": [
      "Epoch 9: 100%|██████████| 5/5 [00:02<00:00,  1.93it/s, loss=0.0292]"
     ]
    },
    {
     "name": "stderr",
     "output_type": "stream",
     "text": [
      "`Trainer.fit` stopped: `max_epochs=10` reached.\n"
     ]
    },
    {
     "name": "stdout",
     "output_type": "stream",
     "text": [
      "Epoch 9: 100%|██████████| 5/5 [00:02<00:00,  1.92it/s, loss=0.0292]\n"
     ]
    },
    {
     "name": "stderr",
     "output_type": "stream",
     "text": [
      "GPU available: True (mps), used: False\n",
      "TPU available: False, using: 0 TPU cores\n",
      "IPU available: False, using: 0 IPUs\n",
      "HPU available: False, using: 0 HPUs\n",
      "\n",
      "  | Name       | Type       | Params\n",
      "------------------------------------------\n",
      "0 | loss       | MSELoss    | 0     \n",
      "1 | model      | Sequential | 397 K \n",
      "2 | projection | Sequential | 1.3 K \n",
      "------------------------------------------\n",
      "398 K     Trainable params\n",
      "0         Non-trainable params\n",
      "398 K     Total params\n",
      "1.596     Total estimated model params size (MB)\n"
     ]
    },
    {
     "name": "stdout",
     "output_type": "stream",
     "text": [
      "Epoch 9: 100%|██████████| 5/5 [00:02<00:00,  1.90it/s, loss=0.0292]"
     ]
    },
    {
     "name": "stderr",
     "output_type": "stream",
     "text": [
      "`Trainer.fit` stopped: `max_epochs=10` reached.\n"
     ]
    },
    {
     "name": "stdout",
     "output_type": "stream",
     "text": [
      "Epoch 9: 100%|██████████| 5/5 [00:02<00:00,  1.90it/s, loss=0.0292]\n"
     ]
    },
    {
     "name": "stderr",
     "output_type": "stream",
     "text": [
      "GPU available: True (mps), used: False\n",
      "TPU available: False, using: 0 TPU cores\n",
      "IPU available: False, using: 0 IPUs\n",
      "HPU available: False, using: 0 HPUs\n",
      "\n",
      "  | Name       | Type       | Params\n",
      "------------------------------------------\n",
      "0 | loss       | MSELoss    | 0     \n",
      "1 | model      | Sequential | 397 K \n",
      "2 | projection | Sequential | 1.3 K \n",
      "------------------------------------------\n",
      "398 K     Trainable params\n",
      "0         Non-trainable params\n",
      "398 K     Total params\n",
      "1.596     Total estimated model params size (MB)\n"
     ]
    },
    {
     "name": "stdout",
     "output_type": "stream",
     "text": [
      "Epoch 9: 100%|██████████| 5/5 [00:02<00:00,  1.93it/s, loss=0.0292]"
     ]
    },
    {
     "name": "stderr",
     "output_type": "stream",
     "text": [
      "`Trainer.fit` stopped: `max_epochs=10` reached.\n"
     ]
    },
    {
     "name": "stdout",
     "output_type": "stream",
     "text": [
      "Epoch 9: 100%|██████████| 5/5 [00:02<00:00,  1.92it/s, loss=0.0292]\n"
     ]
    },
    {
     "name": "stderr",
     "output_type": "stream",
     "text": [
      "GPU available: True (mps), used: False\n",
      "TPU available: False, using: 0 TPU cores\n",
      "IPU available: False, using: 0 IPUs\n",
      "HPU available: False, using: 0 HPUs\n",
      "\n",
      "  | Name       | Type       | Params\n",
      "------------------------------------------\n",
      "0 | loss       | MSELoss    | 0     \n",
      "1 | model      | Sequential | 397 K \n",
      "2 | projection | Sequential | 1.3 K \n",
      "------------------------------------------\n",
      "398 K     Trainable params\n",
      "0         Non-trainable params\n",
      "398 K     Total params\n",
      "1.596     Total estimated model params size (MB)\n"
     ]
    },
    {
     "name": "stdout",
     "output_type": "stream",
     "text": [
      "Epoch 9: 100%|██████████| 5/5 [00:02<00:00,  1.88it/s, loss=0.0292]"
     ]
    },
    {
     "name": "stderr",
     "output_type": "stream",
     "text": [
      "`Trainer.fit` stopped: `max_epochs=10` reached.\n"
     ]
    },
    {
     "name": "stdout",
     "output_type": "stream",
     "text": [
      "Epoch 9: 100%|██████████| 5/5 [00:02<00:00,  1.88it/s, loss=0.0292]\n"
     ]
    },
    {
     "name": "stderr",
     "output_type": "stream",
     "text": [
      "GPU available: True (mps), used: False\n",
      "TPU available: False, using: 0 TPU cores\n",
      "IPU available: False, using: 0 IPUs\n",
      "HPU available: False, using: 0 HPUs\n",
      "\n",
      "  | Name       | Type       | Params\n",
      "------------------------------------------\n",
      "0 | loss       | MSELoss    | 0     \n",
      "1 | model      | Sequential | 397 K \n",
      "2 | projection | Sequential | 1.3 K \n",
      "------------------------------------------\n",
      "398 K     Trainable params\n",
      "0         Non-trainable params\n",
      "398 K     Total params\n",
      "1.596     Total estimated model params size (MB)\n"
     ]
    },
    {
     "name": "stdout",
     "output_type": "stream",
     "text": [
      "Epoch 9: 100%|██████████| 5/5 [00:02<00:00,  1.93it/s, loss=0.0292]"
     ]
    },
    {
     "name": "stderr",
     "output_type": "stream",
     "text": [
      "`Trainer.fit` stopped: `max_epochs=10` reached.\n"
     ]
    },
    {
     "name": "stdout",
     "output_type": "stream",
     "text": [
      "Epoch 9: 100%|██████████| 5/5 [00:02<00:00,  1.92it/s, loss=0.0292]\n"
     ]
    },
    {
     "name": "stderr",
     "output_type": "stream",
     "text": [
      "GPU available: True (mps), used: False\n",
      "TPU available: False, using: 0 TPU cores\n",
      "IPU available: False, using: 0 IPUs\n",
      "HPU available: False, using: 0 HPUs\n",
      "\n",
      "  | Name       | Type       | Params\n",
      "------------------------------------------\n",
      "0 | loss       | MSELoss    | 0     \n",
      "1 | model      | Sequential | 397 K \n",
      "2 | projection | Sequential | 1.3 K \n",
      "------------------------------------------\n",
      "398 K     Trainable params\n",
      "0         Non-trainable params\n",
      "398 K     Total params\n",
      "1.596     Total estimated model params size (MB)\n"
     ]
    },
    {
     "name": "stdout",
     "output_type": "stream",
     "text": [
      "Epoch 9: 100%|██████████| 5/5 [00:02<00:00,  1.94it/s, loss=0.0292]"
     ]
    },
    {
     "name": "stderr",
     "output_type": "stream",
     "text": [
      "`Trainer.fit` stopped: `max_epochs=10` reached.\n"
     ]
    },
    {
     "name": "stdout",
     "output_type": "stream",
     "text": [
      "Epoch 9: 100%|██████████| 5/5 [00:02<00:00,  1.94it/s, loss=0.0292]\n"
     ]
    },
    {
     "name": "stderr",
     "output_type": "stream",
     "text": [
      "GPU available: True (mps), used: False\n",
      "TPU available: False, using: 0 TPU cores\n",
      "IPU available: False, using: 0 IPUs\n",
      "HPU available: False, using: 0 HPUs\n",
      "\n",
      "  | Name       | Type       | Params\n",
      "------------------------------------------\n",
      "0 | loss       | MSELoss    | 0     \n",
      "1 | model      | Sequential | 397 K \n",
      "2 | projection | Sequential | 1.3 K \n",
      "------------------------------------------\n",
      "398 K     Trainable params\n",
      "0         Non-trainable params\n",
      "398 K     Total params\n",
      "1.596     Total estimated model params size (MB)\n"
     ]
    },
    {
     "name": "stdout",
     "output_type": "stream",
     "text": [
      "Epoch 9: 100%|██████████| 5/5 [00:02<00:00,  1.82it/s, loss=0.0292]"
     ]
    },
    {
     "name": "stderr",
     "output_type": "stream",
     "text": [
      "`Trainer.fit` stopped: `max_epochs=10` reached.\n"
     ]
    },
    {
     "name": "stdout",
     "output_type": "stream",
     "text": [
      "Epoch 9: 100%|██████████| 5/5 [00:02<00:00,  1.81it/s, loss=0.0292]\n"
     ]
    },
    {
     "name": "stderr",
     "output_type": "stream",
     "text": [
      "GPU available: True (mps), used: False\n",
      "TPU available: False, using: 0 TPU cores\n",
      "IPU available: False, using: 0 IPUs\n",
      "HPU available: False, using: 0 HPUs\n",
      "\n",
      "  | Name       | Type       | Params\n",
      "------------------------------------------\n",
      "0 | loss       | MSELoss    | 0     \n",
      "1 | model      | Sequential | 397 K \n",
      "2 | projection | Sequential | 1.3 K \n",
      "------------------------------------------\n",
      "398 K     Trainable params\n",
      "0         Non-trainable params\n",
      "398 K     Total params\n",
      "1.596     Total estimated model params size (MB)\n"
     ]
    },
    {
     "name": "stdout",
     "output_type": "stream",
     "text": [
      "Epoch 9: 100%|██████████| 5/5 [00:02<00:00,  1.88it/s, loss=0.0292]"
     ]
    },
    {
     "name": "stderr",
     "output_type": "stream",
     "text": [
      "`Trainer.fit` stopped: `max_epochs=10` reached.\n"
     ]
    },
    {
     "name": "stdout",
     "output_type": "stream",
     "text": [
      "Epoch 9: 100%|██████████| 5/5 [00:02<00:00,  1.88it/s, loss=0.0292]\n"
     ]
    }
   ],
   "execution_count": 14
  },
  {
   "metadata": {
    "ExecuteTime": {
     "end_time": "2025-05-18T18:41:53.008361Z",
     "start_time": "2025-05-18T18:41:52.995197Z"
    }
   },
   "cell_type": "code",
   "source": "results.to_csv(f\"PatchTS_Features.csv\")",
   "id": "eef80c2e88e498f7",
   "outputs": [],
   "execution_count": 15
  }
 ],
 "metadata": {
  "kernelspec": {
   "display_name": "Python 3 (ipykernel)",
   "language": "python",
   "name": "python3"
  },
  "language_info": {
   "codemirror_mode": {
    "name": "ipython",
    "version": 3
   },
   "file_extension": ".py",
   "mimetype": "text/x-python",
   "name": "python",
   "nbconvert_exporter": "python",
   "pygments_lexer": "ipython3",
   "version": "3.8.13"
  },
  "vscode": {
   "interpreter": {
    "hash": "eeefbd967922da9ce29e5989b77b22fdbb6aaeaee216d504aaf5d0b6e8fb5d84"
   }
  }
 },
 "nbformat": 4,
 "nbformat_minor": 5
}
