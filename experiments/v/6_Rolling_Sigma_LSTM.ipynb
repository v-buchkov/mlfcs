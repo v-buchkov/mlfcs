{
 "cells": [
  {
   "cell_type": "code",
   "execution_count": 1,
   "id": "a1510887505e2402",
   "metadata": {
    "ExecuteTime": {
     "end_time": "2025-05-19T12:27:21.982121Z",
     "start_time": "2025-05-19T12:27:21.671355Z"
    }
   },
   "outputs": [],
   "source": [
    "import pandas as pd\n",
    "\n",
    "%load_ext autoreload\n",
    "%autoreload 2"
   ]
  },
  {
   "cell_type": "code",
   "execution_count": 2,
   "id": "initial_id",
   "metadata": {
    "ExecuteTime": {
     "end_time": "2025-05-19T12:27:23.169979Z",
     "start_time": "2025-05-19T12:27:22.027467Z"
    },
    "collapsed": true
   },
   "outputs": [],
   "source": [
    "import torch\n",
    "\n",
    "from config.model_config import ModelConfig\n",
    "from config.experiment_config import ExperimentConfig, AvailableDatasets\n",
    "from vol_predict.features.preprocessor import OneToOnePreprocessor\n",
    "from vol_predict.loss.loss import Loss\n",
    "\n",
    "from vol_predict.models.dl.sigma_lstm_predictor import (\n",
    "    SigmaLSTMPredictor as Model,\n",
    ")\n",
    "from vol_predict.models.baselines.naive_predictor import NaivePredictor as Baseline\n",
    "\n",
    "from run import run_backtest, initialize_sequential_runner"
   ]
  },
  {
   "cell_type": "code",
   "execution_count": 3,
   "id": "1e4448021827516c",
   "metadata": {
    "ExecuteTime": {
     "end_time": "2025-05-19T12:27:23.401377Z",
     "start_time": "2025-05-19T12:27:23.178511Z"
    }
   },
   "outputs": [
    {
     "name": "stdout",
     "output_type": "stream",
     "text": [
      "Available data from 2018-06-04 23:00:00 to 2018-09-30 21:00:00\n"
     ]
    }
   ],
   "source": [
    "config = ExperimentConfig()\n",
    "config.DATASET = AvailableDatasets.BITCOIN\n",
    "\n",
    "model_params = ModelConfig()\n",
    "baseline_params = ModelConfig()\n",
    "\n",
    "model_params.n_features = 1200\n",
    "model_params.n_unique_features = 10\n",
    "\n",
    "# Handles the features\n",
    "feature_processor = OneToOnePreprocessor()\n",
    "\n",
    "runner = initialize_sequential_runner(\n",
    "    model_config=model_params,\n",
    "    preprocessor=feature_processor,\n",
    "    experiment_config=config,\n",
    ")"
   ]
  },
  {
   "cell_type": "code",
   "execution_count": 4,
   "id": "81afe07a0a2b6ce2",
   "metadata": {},
   "outputs": [
    {
     "data": {
      "image/png": "[encoded data removed]",
      "text/plain": [
       "<Figure size 1300x400 with 1 Axes>"
      ]
     },
     "metadata": {},
     "output_type": "display_data"
    }
   ],
   "source": [
    "runner.model_config.lr = 1e-2\n",
    "runner.model_config.n_epochs = 20\n",
    "runner.model_config.hidden_size = 64\n",
    "runner.model_config.n_layers = 3\n",
    "runner.model_config.batch_size = 16\n",
    "runner.model_config.optimizer = torch.optim.Adam\n",
    "runner.model_config.loss = Loss.NLL\n",
    "runner.model_config.dropout = 0.20\n",
    "\n",
    "result = run_backtest(\n",
    "    model_cls=Model,\n",
    "    baseline_cls=Baseline,\n",
    "    runner=runner,\n",
    ")"
   ]
  },
  {
   "cell_type": "code",
   "execution_count": 5,
   "id": "81acb91339e5878b",
   "metadata": {
    "ExecuteTime": {
     "end_time": "2025-05-19T14:22:33.247742Z",
     "start_time": "2025-05-19T14:22:33.186927Z"
    }
   },
   "outputs": [
    {
     "data": {
      "text/plain": [
       "(            model_loss  baseline_loss  \\\n",
       " datetime                                \n",
       " 2018-06-30    1.874402      -8.309954   \n",
       " 2018-07-03   -3.474849      -8.035577   \n",
       " 2018-07-04   -4.050474      -8.120697   \n",
       " 2018-07-05   -4.694589      -8.224091   \n",
       " 2018-07-06   -4.912372      -8.215822   \n",
       " ...                ...            ...   \n",
       " 2018-09-26   -4.831126      -9.147779   \n",
       " 2018-09-27   -5.248006      -9.004014   \n",
       " 2018-09-28   -4.722682      -9.089924   \n",
       " 2018-09-29   -5.990004      -9.225882   \n",
       " 2018-09-30   -5.839266      -9.192994   \n",
       " \n",
       "                                                  true_returns  \\\n",
       " datetime                                                        \n",
       " 2018-06-30  [-0.0026883667, -0.004259642, 0.0017928587, 0....   \n",
       " 2018-07-03                                     [-0.008161686]   \n",
       " 2018-07-04  [0.00045824194, 0.001279179, -0.00041435525, 0...   \n",
       " 2018-07-05  [-0.0025450767, 0.0020725208, -0.0004954421, -...   \n",
       " 2018-07-06  [0.004517578, -0.0020303084, -0.0006618499, -0...   \n",
       " ...                                                       ...   \n",
       " 2018-09-26  [0.0008025224, -0.0018516219, 0.0015779294, 0....   \n",
       " 2018-09-27  [0.0025939993, -0.0004280163, -0.003148001, -0...   \n",
       " 2018-09-28  [-0.0022302242, 0.00031208308, 0.0011399924, 0...   \n",
       " 2018-09-29  [0.0032868334, -0.00068920065, 0.00027604564, ...   \n",
       " 2018-09-30  [-0.0022064324, 0.00063699996, -0.0029965176, ...   \n",
       " \n",
       "                                                     true_vols  \\\n",
       " datetime                                                        \n",
       " 2018-06-30  [0.00041156381, 0.0004322233, 0.00021497025, 0...   \n",
       " 2018-07-03                                    [0.00024051484]   \n",
       " 2018-07-04  [0.00017250539, 0.00017690947, 0.00018171575, ...   \n",
       " 2018-07-05  [0.00021121168, 0.0001595019, 0.00016921855, 0...   \n",
       " 2018-07-06  [7.636556e-05, 6.373772e-05, 0.00017979922, 8....   \n",
       " ...                                                       ...   \n",
       " 2018-09-26  [1.0667841e-05, 1.7913802e-05, 4.319444e-06, 4...   \n",
       " 2018-09-27  [1.11729005e-05, 7.5437806e-06, 8.304065e-06, ...   \n",
       " 2018-09-28  [4.492918e-05, 1.22871825e-05, 6.9373027e-06, ...   \n",
       " 2018-09-29  [5.466415e-05, 3.4944565e-05, 5.918822e-05, 2....   \n",
       " 2018-09-30  [2.2735778e-05, 1.68399e-05, 7.739e-06, 8.2679...   \n",
       " \n",
       "                                                   model_preds  \\\n",
       " datetime                                                        \n",
       " 2018-06-30  [5.1652507e-05, 0.014829307, 0.00025164487, 0....   \n",
       " 2018-07-03                                      [0.030899825]   \n",
       " 2018-07-04  [0.047481682, 0.003747803, 0.009024739, 0.0153...   \n",
       " 2018-07-05  [0.09680688, 0.009091549, 0.012814451, 0.00398...   \n",
       " 2018-07-06  [8.778303e-05, 0.0019701316, 0.022052046, 0.05...   \n",
       " ...                                                       ...   \n",
       " 2018-09-26  [0.0029757107, 0.0005845749, 0.0015605068, 0.0...   \n",
       " 2018-09-27  [0.0017517915, 0.035699386, 0.007667022, 0.020...   \n",
       " 2018-09-28  [0.009688753, 0.016459234, 0.00020841017, 0.00...   \n",
       " 2018-09-29  [0.0030390045, 0.02945391, 0.003599136, 0.0001...   \n",
       " 2018-09-30  [0.000101780046, 0.00063226814, 0.0002777942, ...   \n",
       " \n",
       "                                                baseline_preds  \n",
       " datetime                                                       \n",
       " 2018-06-30  [0.00023757516, 0.00023757516, 0.00023757516, ...  \n",
       " 2018-07-03                                    [0.00024728957]  \n",
       " 2018-07-04  [0.00025311112, 0.00025311112, 0.00025311112, ...  \n",
       " 2018-07-05  [0.00025369268, 0.00025369268, 0.00025369268, ...  \n",
       " 2018-07-06  [0.00025695117, 0.00025695117, 0.00025695117, ...  \n",
       " ...                                                       ...  \n",
       " 2018-09-26  [9.4598356e-05, 9.4598356e-05, 9.4598356e-05, ...  \n",
       " 2018-09-27  [9.333723e-05, 9.333723e-05, 9.333723e-05, 9.3...  \n",
       " 2018-09-28  [9.148046e-05, 9.148046e-05, 9.148046e-05, 9.1...  \n",
       " 2018-09-29  [9.04632e-05, 9.04632e-05, 9.04632e-05, 9.0463...  \n",
       " 2018-09-30  [9.003129e-05, 9.003129e-05, 9.003129e-05, 9.0...  \n",
       " \n",
       " [87 rows x 6 columns],\n",
       " SigmaLSTMPredictor(\n",
       "   (lstm_cells): Sequential(\n",
       "     (0): SigmaLSTMCell()\n",
       "     (1): SigmaLSTMCell()\n",
       "     (2): SigmaLSTMCell()\n",
       "   )\n",
       " ),\n",
       " NaivePredictor())"
      ]
     },
     "execution_count": 5,
     "metadata": {},
     "output_type": "execute_result"
    }
   ],
   "source": [
    "result"
   ]
  },
  {
   "cell_type": "code",
   "execution_count": 6,
   "id": "b4df28114baaad36",
   "metadata": {
    "ExecuteTime": {
     "end_time": "2025-05-19T14:22:33.368746Z",
     "start_time": "2025-05-19T14:22:33.255494Z"
    }
   },
   "outputs": [
    {
     "ename": "AttributeError",
     "evalue": "'tuple' object has no attribute 'iterrows'",
     "output_type": "error",
     "traceback": [
      "\u001b[31m---------------------------------------------------------------------------\u001b[39m",
      "\u001b[31mAttributeError\u001b[39m                            Traceback (most recent call last)",
      "\u001b[36mCell\u001b[39m\u001b[36m \u001b[39m\u001b[32mIn[6]\u001b[39m\u001b[32m, line 5\u001b[39m\n\u001b[32m      2\u001b[39m \u001b[38;5;28;01mfrom\u001b[39;00m\u001b[38;5;250m \u001b[39m\u001b[34;01msklearn\u001b[39;00m\u001b[34;01m.\u001b[39;00m\u001b[34;01mmetrics\u001b[39;00m\u001b[38;5;250m \u001b[39m\u001b[38;5;28;01mimport\u001b[39;00m root_mean_squared_error\n\u001b[32m      4\u001b[39m rmse = []\n\u001b[32m----> \u001b[39m\u001b[32m5\u001b[39m \u001b[38;5;28;01mfor\u001b[39;00m (date, row) \u001b[38;5;129;01min\u001b[39;00m \u001b[43mresult\u001b[49m\u001b[43m.\u001b[49m\u001b[43miterrows\u001b[49m():\n\u001b[32m      6\u001b[39m     rmse.append([date, root_mean_squared_error(row.true_vols, row.model_preds), root_mean_squared_error(row.true_vols, row.baseline_preds)])\n\u001b[32m      8\u001b[39m rmse = pd.DataFrame(rmse, columns=[\u001b[33m\"\u001b[39m\u001b[33mdate\u001b[39m\u001b[33m\"\u001b[39m, \u001b[33m\"\u001b[39m\u001b[33mmodel\u001b[39m\u001b[33m\"\u001b[39m, \u001b[33m\"\u001b[39m\u001b[33mbaseline\u001b[39m\u001b[33m\"\u001b[39m]).set_index(\u001b[33m\"\u001b[39m\u001b[33mdate\u001b[39m\u001b[33m\"\u001b[39m)\n",
      "\u001b[31mAttributeError\u001b[39m: 'tuple' object has no attribute 'iterrows'"
     ]
    }
   ],
   "source": [
    "from sklearn.metrics import root_mean_squared_error\n",
    "\n",
    "rmse = []\n",
    "for date, row in result.iterrows():\n",
    "    rmse.append(\n",
    "        [\n",
    "            date,\n",
    "            root_mean_squared_error(row.true_vols, row.model_preds),\n",
    "            root_mean_squared_error(row.true_vols, row.baseline_preds),\n",
    "        ]\n",
    "    )\n",
    "\n",
    "rmse = pd.DataFrame(rmse, columns=[\"date\", \"model\", \"baseline\"]).set_index(\"date\")"
   ]
  },
  {
   "cell_type": "code",
   "execution_count": 7,
   "id": "297e27681336c43",
   "metadata": {
    "ExecuteTime": {
     "end_time": "2025-05-19T14:22:33.371152Z",
     "start_time": "2025-05-19T00:26:46.937164Z"
    }
   },
   "outputs": [
    {
     "data": {
      "text/plain": [
       "model       0.026484\n",
       "baseline    0.000170\n",
       "dtype: float64"
      ]
     },
     "execution_count": 7,
     "metadata": {},
     "output_type": "execute_result"
    }
   ],
   "source": [
    "rmse.mean(axis=0)"
   ]
  },
  {
   "cell_type": "code",
   "execution_count": 8,
   "id": "c128907e5cdbc938",
   "metadata": {
    "ExecuteTime": {
     "end_time": "2025-05-19T14:22:33.371731Z",
     "start_time": "2025-05-19T00:26:47.024537Z"
    }
   },
   "outputs": [
    {
     "data": {
      "text/plain": [
       "model       0.010737\n",
       "baseline    0.000158\n",
       "dtype: float64"
      ]
     },
     "execution_count": 8,
     "metadata": {},
     "output_type": "execute_result"
    }
   ],
   "source": [
    "rmse.std(axis=0)"
   ]
  },
  {
   "cell_type": "code",
   "execution_count": 10,
   "id": "6e3cdd01c2954175",
   "metadata": {
    "ExecuteTime": {
     "end_time": "2025-05-19T14:22:33.372111Z",
     "start_time": "2025-05-19T03:37:18.914145Z"
    }
   },
   "outputs": [],
   "source": [
    "result.to_csv(f\"Sigma_{runner.model_config.n_epochs}.csv\")"
   ]
  },
  {
   "cell_type": "code",
   "execution_count": null,
   "id": "bdc0496b69b8675f",
   "metadata": {
    "ExecuteTime": {
     "end_time": "2025-05-19T14:22:33.372559Z",
     "start_time": "2025-05-19T00:26:47.128618Z"
    }
   },
   "outputs": [],
   "source": []
  }
 ],
 "metadata": {
  "kernelspec": {
   "display_name": "Python 3",
   "language": "python",
   "name": "python3"
  },
  "language_info": {
   "codemirror_mode": {
    "name": "ipython",
    "version": 2
   },
   "file_extension": ".py",
   "mimetype": "text/x-python",
   "name": "python",
   "nbconvert_exporter": "python",
   "pygments_lexer": "ipython2",
   "version": "2.7.6"
  }
 },
 "nbformat": 4,
 "nbformat_minor": 5
}
