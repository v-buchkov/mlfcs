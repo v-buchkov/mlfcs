{
 "cells": [
  {
   "cell_type": "code",
   "execution_count": 8,
   "metadata": {},
   "outputs": [],
   "source": [
    "import numpy as np\n",
    "import pandas as pd\n",
    "import os\n",
    "import glob\n",
    "\n",
    "def merge_strategy_model_npy(base_dir, strategy, model, output_csv=\"combined.csv\"):\n",
    "    \"\"\"\n",
    "    Merge all .npy files under a given strategy/model path into one CSV.\n",
    "    \n",
    "    Args:\n",
    "        base_dir (str): Base directory containing strategy folders (e.g. 'saved_residuals').\n",
    "        strategy (str): Strategy name (e.g. 'rolling', 'online', 'online_incremental').\n",
    "        model (str): Model name under strategy folder (e.g. 'hinge', 'hinge_weibull').\n",
    "        output_csv (str): Name of the output CSV file.\n",
    "    \"\"\"\n",
    "    folder_path = os.path.join(base_dir, strategy, model)\n",
    "    npy_files = sorted(glob.glob(os.path.join(folder_path, '*.npy')))\n",
    "\n",
    "    all_data = []\n",
    "\n",
    "    for file in npy_files:\n",
    "        data = np.load(file).flatten()\n",
    "        interval_name = os.path.splitext(os.path.basename(file))[0]\n",
    "        df = pd.DataFrame({\n",
    "        \"interval\": [interval_name] * len(data),\n",
    "        \"value\": data\n",
    "    })\n",
    "        all_data.append(df)\n",
    "\n",
    "    combined_df = pd.concat(all_data, ignore_index=True)\n",
    "    combined_df.to_csv(output_csv, index=False)\n",
    "    print(f\"✅ Saved combined CSV to {output_csv}\")\n"
   ]
  },
  {
   "cell_type": "code",
   "execution_count": 23,
   "metadata": {},
   "outputs": [
    {
     "name": "stdout",
     "output_type": "stream",
     "text": [
      "✅ Saved combined CSV to normal_online_monthly.csv with 1958 rows\n",
      "✅ Saved combined CSV to hinge_online_monthly.csv with 1958 rows\n",
      "✅ Saved combined CSV to lognormal_online_monthly.csv with 1958 rows\n",
      "✅ Saved combined CSV to inverse_gaussian_online_monthly.csv with 1958 rows\n",
      "✅ Saved combined CSV to weibull_online_monthly.csv with 1958 rows\n",
      "✅ Saved combined CSV to hinge_weibull_online_monthly.csv with 1958 rows\n",
      "✅ Saved combined CSV to hinge_inverse_gaussian_online_monthly.csv with 1958 rows\n"
     ]
    }
   ],
   "source": [
    "def merge_strategy_model_csv(base_dir, strategy, model, output_csv=\"combined.csv\"):\n",
    "    \"\"\"\n",
    "    Merge all CSV files under a given strategy/model path into one CSV.\n",
    "    \n",
    "    Args:\n",
    "        base_dir (str): Base directory containing strategy folders (e.g. 'saved_residuals').\n",
    "        strategy (str): Strategy name (e.g. 'rolling', 'online_monthly', 'online_expanding_monthly').\n",
    "        model (str): Model name under strategy folder (e.g. 'hinge', 'hinge_weibull').\n",
    "        output_csv (str): Name of the output CSV file.\n",
    "    \"\"\"\n",
    "    folder_path = os.path.join(base_dir, strategy, model)\n",
    "    csv_files = sorted(glob.glob(os.path.join(folder_path, 'residuals_*.csv')))\n",
    "    \n",
    "    if not csv_files:\n",
    "        print(f\"No CSV files found in {folder_path}\")\n",
    "        return\n",
    "\n",
    "    all_data = []\n",
    "    for file in csv_files:\n",
    "        df = pd.read_csv(file)\n",
    "        df['date'] = pd.to_datetime(df['date'])\n",
    "        step_name = os.path.splitext(os.path.basename(file))[0]\n",
    "        df['step'] = step_name\n",
    "        all_data.append(df)\n",
    "\n",
    "    combined_df = pd.concat(all_data, ignore_index=True)\n",
    "    combined_df = combined_df.sort_values('date').reset_index(drop=True)\n",
    "    \n",
    "    # Keep only the required columns in the specified order\n",
    "    final_df = combined_df[['date', 'residual', 'prediction']].copy()\n",
    "    \n",
    "    final_df.to_csv(output_csv, index=False)\n",
    "    print(f\"✅ Saved combined CSV to {output_csv} with {len(final_df)} rows\")\n",
    "\n",
    "model_list = [\"normal\", \"hinge\", \"lognormal\", \"inverse_gaussian\", \"weibull\", \"hinge_weibull\",\"hinge_inverse_gaussian\"]\n",
    "strategy = \"online_monthly\"\n",
    "\n",
    "for model in model_list:\n",
    "    output_filename = f\"{model}_{strategy}.csv\"\n",
    "    merge_strategy_model_csv(\n",
    "        base_dir=\"saved_residuals\",\n",
    "        strategy=strategy,\n",
    "        model=model,\n",
    "        output_csv=output_filename\n",
    "    )"
   ]
  },
  {
   "cell_type": "code",
   "execution_count": 10,
   "metadata": {},
   "outputs": [
    {
     "name": "stdout",
     "output_type": "stream",
     "text": [
      "✅ Saved combined CSV to normal_online_expanding_monthly.csv\n",
      "✅ Saved combined CSV to hinge_online_expanding_monthly.csv\n",
      "✅ Saved combined CSV to lognormal_online_expanding_monthly.csv\n",
      "✅ Saved combined CSV to inverse_gaussian_online_expanding_monthly.csv\n",
      "✅ Saved combined CSV to weibull_online_expanding_monthly.csv\n",
      "✅ Saved combined CSV to hinge_weibull_online_expanding_monthly.csv\n",
      "✅ Saved combined CSV to hinge_inverse_gaussian_online_expanding_monthly.csv\n"
     ]
    }
   ],
   "source": [
    "model_list = [\"normal\", \"hinge\", \"lognormal\", \"inverse_gaussian\", \"weibull\", \"hinge_weibull\", \"hinge_inverse_gaussian\"]\n",
    "\n",
    "strategy = \"online_expanding_monthly\"\n",
    "\n",
    "for model in model_list:\n",
    "    output_filename = f\"{model}_{strategy}.csv\"\n",
    "    merge_strategy_model_npy(\n",
    "        base_dir=\"saved_residuals\",\n",
    "        strategy=strategy,\n",
    "        model=model,\n",
    "        output_csv=output_filename\n",
    "    )"
   ]
  }
 ],
 "metadata": {
  "kernelspec": {
   "display_name": "volatilityenv",
   "language": "python",
   "name": "python3"
  },
  "language_info": {
   "codemirror_mode": {
    "name": "ipython",
    "version": 3
   },
   "file_extension": ".py",
   "mimetype": "text/x-python",
   "name": "python",
   "nbconvert_exporter": "python",
   "pygments_lexer": "ipython3",
   "version": "3.10.16"
  },
  "orig_nbformat": 4
 },
 "nbformat": 4,
 "nbformat_minor": 2
}
