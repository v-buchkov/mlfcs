{
 "cells": [
  {
   "cell_type": "code",
   "execution_count": 6,
   "metadata": {},
   "outputs": [],
   "source": [
    "import torch\n",
    "import torch.nn as nn\n",
    "import torch.nn.functional as F\n",
    "from torch.utils.data import DataLoader, TensorDataset\n",
    "import math\n",
    "from sklearn.model_selection import train_test_split\n",
    "import numpy as np \n",
    "import sys\n",
    "import os\n",
    "import pandas as pd\n",
    "\n",
    "sys.path.append(os.path.abspath(\"../..\"))\n",
    "\n",
    "from config.model_config import ModelConfig\n",
    "from config.experiment_config import ExperimentConfig, AvailableDatasets\n",
    "from vol_predict.features.preprocessor import OneToOnePreprocessor\n",
    "\n",
    "from vol_predict.models.dl.mlp_predictor import MLPPredictor as Model\n",
    "from vol_predict.models.baselines.naive_predictor import NaivePredictor as Baseline\n",
    "from vol_predict.loss.tm_loss import MixtureNormalNLL, MixtureLogNormalNLL, MixtureWeibullNLL, HingeNormalMixtureNLL, MixtureInverseGaussianNLL\n",
    "from vol_predict.models.mixture.tm_pred2 import TM_N_Predictor,TM_LN_Predictor,TM_IG_Predictor,TM_W_Predictor\n",
    "\n",
    "from vol_predict.loss.loss import Loss\n",
    "\n",
    "from run import initialize_runner, run_backtest"
   ]
  },
  {
   "cell_type": "code",
   "execution_count": 40,
   "metadata": {},
   "outputs": [],
   "source": [
    "data = pd.read_csv(\"../../data:/data_df.csv\")\n",
    "data_t1 = data[data.columns[0:13]]\n",
    "features_data = data_t1[data_t1.columns[3:13]].values.astype(np.float32)     \n",
    "vol = data_t1['vol'].values.astype(np.float32)     "
   ]
  },
  {
   "cell_type": "code",
   "execution_count": 38,
   "metadata": {},
   "outputs": [],
   "source": [
    "num_samples = len(vol)\n",
    "train_window = 300  \n",
    "test_window = 50\n",
    "num_iterations = (num_samples - train_window) // test_window"
   ]
  },
  {
   "cell_type": "code",
   "execution_count": 8,
   "metadata": {},
   "outputs": [
    {
     "ename": "NameError",
     "evalue": "name 'VolatilityMethod' is not defined",
     "output_type": "error",
     "traceback": [
      "\u001b[0;31m---------------------------------------------------------------------------\u001b[0m",
      "\u001b[0;31mNameError\u001b[0m                                 Traceback (most recent call last)",
      "Cell \u001b[0;32mIn[8], line 12\u001b[0m\n\u001b[1;32m      1\u001b[0m model_config \u001b[38;5;241m=\u001b[39m ModelConfig(\n\u001b[1;32m      2\u001b[0m     lr\u001b[38;5;241m=\u001b[39m\u001b[38;5;241m1e-3\u001b[39m,\n\u001b[1;32m      3\u001b[0m     hidden_size\u001b[38;5;241m=\u001b[39m\u001b[38;5;241m64\u001b[39m,         \u001b[38;5;66;03m# not used by this model, but needed for compatibility\u001b[39;00m\n\u001b[1;32m      4\u001b[0m     n_layers\u001b[38;5;241m=\u001b[39m\u001b[38;5;241m2\u001b[39m,             \u001b[38;5;66;03m# same as above\u001b[39;00m\n\u001b[1;32m      5\u001b[0m     n_epochs\u001b[38;5;241m=\u001b[39m\u001b[38;5;241m20\u001b[39m,\n\u001b[1;32m      6\u001b[0m     n_features\u001b[38;5;241m=\u001b[39m\u001b[38;5;241m10\u001b[39m,          \u001b[38;5;66;03m# total flattened features (5x2)\u001b[39;00m\n\u001b[1;32m      7\u001b[0m     optimizer\u001b[38;5;241m=\u001b[39mtorch\u001b[38;5;241m.\u001b[39moptim\u001b[38;5;241m.\u001b[39mAdam,\n\u001b[1;32m      8\u001b[0m     weights_decay\u001b[38;5;241m=\u001b[39m\u001b[38;5;241m1e-4\u001b[39m,\n\u001b[1;32m      9\u001b[0m     batch_size\u001b[38;5;241m=\u001b[39m\u001b[38;5;241m32\u001b[39m,\n\u001b[1;32m     10\u001b[0m     loss\u001b[38;5;241m=\u001b[39mLoss\u001b[38;5;241m.\u001b[39mTM_N_NLL,   \u001b[38;5;66;03m# must be set to your MixtureNormalNLL loss enum\u001b[39;00m\n\u001b[1;32m     11\u001b[0m     metrics\u001b[38;5;241m=\u001b[39m(torch\u001b[38;5;241m.\u001b[39mnn\u001b[38;5;241m.\u001b[39mMSELoss(),),\n\u001b[0;32m---> 12\u001b[0m     vol_calc_method\u001b[38;5;241m=\u001b[39m\u001b[43mVolatilityMethod\u001b[49m(\u001b[38;5;124m\"\u001b[39m\u001b[38;5;124msquared_returns\u001b[39m\u001b[38;5;124m\"\u001b[39m)\n\u001b[1;32m     13\u001b[0m )\n",
      "\u001b[0;31mNameError\u001b[0m: name 'VolatilityMethod' is not defined"
     ]
    }
   ],
   "source": [
    "model_config = ModelConfig(\n",
    "    lr=1e-3,\n",
    "    hidden_size=64,         # not used by this model, but needed for compatibility\n",
    "    n_layers=2,             # same as above\n",
    "    n_epochs=20,\n",
    "    n_features=10,          # total flattened features (5x2)\n",
    "    optimizer=torch.optim.Adam,\n",
    "    weights_decay=1e-4,\n",
    "    batch_size=32,\n",
    "    loss=Loss.TM_N_NLL,   # must be set to your MixtureNormalNLL loss enum\n",
    "    metrics=(torch.nn.MSELoss(),),\n",
    "    vol_calc_method=VolatilityMethod(\"squared_returns\")\n",
    ")"
   ]
  }
 ],
 "metadata": {
  "interpreter": {
   "hash": "b2a62a42d021690b6dea3cc5674b822acc56ea7557902e6556ab8accd90d1b0b"
  },
  "kernelspec": {
   "display_name": "Python 3.10.16 ('jupyterenv')",
   "language": "python",
   "name": "python3"
  },
  "language_info": {
   "codemirror_mode": {
    "name": "ipython",
    "version": 3
   },
   "file_extension": ".py",
   "mimetype": "text/x-python",
   "name": "python",
   "nbconvert_exporter": "python",
   "pygments_lexer": "ipython3",
   "version": "3.10.16"
  },
  "orig_nbformat": 4
 },
 "nbformat": 4,
 "nbformat_minor": 2
}
