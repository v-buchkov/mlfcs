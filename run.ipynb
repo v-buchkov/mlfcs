{
 "cells": [
  {
   "cell_type": "code",
   "id": "a1510887505e2402",
   "metadata": {
    "ExecuteTime": {
     "end_time": "2025-03-24T17:11:54.748176Z",
     "start_time": "2025-03-24T17:11:54.734344Z"
    }
   },
   "source": [
    "%load_ext autoreload\n",
    "%autoreload 2"
   ],
   "outputs": [
    {
     "name": "stdout",
     "output_type": "stream",
     "text": [
      "The autoreload extension is already loaded. To reload it, use:\n",
      "  %reload_ext autoreload\n"
     ]
    }
   ],
   "execution_count": 7
  },
  {
   "cell_type": "code",
   "id": "initial_id",
   "metadata": {
    "collapsed": true,
    "ExecuteTime": {
     "end_time": "2025-03-24T17:11:54.762050Z",
     "start_time": "2025-03-24T17:11:54.751058Z"
    }
   },
   "source": [
    "from config.model_config import ModelConfig\n",
    "from config.experiment_config import ExperimentConfig, AvailableDatasets\n",
    "from vol_predict.features.preprocessor import OneToOnePreprocessor\n",
    "\n",
    "from vol_predict.models.dl.mlp_predictor import MLPPredictor as Model\n",
    "from vol_predict.models.baselines.naive_predictor import NaivePredictor as Baseline\n",
    "\n",
    "from run import initialize_runner, run_backtest"
   ],
   "outputs": [],
   "execution_count": 8
  },
  {
   "cell_type": "code",
   "id": "1e4448021827516c",
   "metadata": {
    "ExecuteTime": {
     "end_time": "2025-03-24T17:11:54.788723Z",
     "start_time": "2025-03-24T17:11:54.765994Z"
    }
   },
   "source": [
    "config = ExperimentConfig()\n",
    "config.DATASET = AvailableDatasets.SPX\n",
    "config.ASSET_UNIVERSE = (\"spx\",)\n",
    "\n",
    "model_params = ModelConfig()\n",
    "baseline_params = ModelConfig()\n",
    "\n",
    "# Handles the features\n",
    "feature_processor = OneToOnePreprocessor()\n",
    "\n",
    "runner = initialize_runner(\n",
    "    model_config=model_params,\n",
    "    preprocessor=feature_processor,\n",
    "    experiment_config=config,\n",
    ")"
   ],
   "outputs": [
    {
     "name": "stdout",
     "output_type": "stream",
     "text": [
      "Train data on 2020-01-03 00:00:00 to 2020-12-31 00:00:00\n",
      "Test data on 2022-01-04 00:00:00 to 2025-01-28 00:00:00\n",
      "Num Train Iterations: 252\n",
      "Num Features: 23\n"
     ]
    }
   ],
   "execution_count": 9
  },
  {
   "cell_type": "code",
   "id": "81afe07a0a2b6ce2",
   "metadata": {},
   "source": [
    "model_params.hidden_size = 64\n",
    "model_params.n_features = 23 + 1\n",
    "\n",
    "result = run_backtest(\n",
    "    model_cls=Model,\n",
    "    baseline_cls=Baseline,\n",
    "    model_config=model_params,\n",
    "    baseline_config=baseline_params,\n",
    "    runner=runner,\n",
    ")"
   ],
   "execution_count": 10,
   "outputs": [
    {
     "data": {
      "text/plain": [
       "<Figure size 1300x400 with 1 Axes>"
      ],
      "image/png": "[encoded data removed]"
     },
     "metadata": {},
     "output_type": "display_data"
    }
   ]
  },
  {
   "metadata": {
    "ExecuteTime": {
     "end_time": "2025-03-24T17:11:56.283946Z",
     "start_time": "2025-03-24T17:11:56.273082Z"
    }
   },
   "cell_type": "code",
   "source": "result.model_result",
   "id": "81acb91339e5878b",
   "outputs": [
    {
     "data": {
      "text/plain": [
       "AssessmentResult:\n",
       "* mean_model_loss = 0.000054\n",
       "* mean_val_loss = 0.000054\n",
       "* MSELoss = 0.003596"
      ]
     },
     "execution_count": 11,
     "metadata": {},
     "output_type": "execute_result"
    }
   ],
   "execution_count": 11
  },
  {
   "metadata": {
    "ExecuteTime": {
     "end_time": "2025-03-24T17:11:56.363282Z",
     "start_time": "2025-03-24T17:11:56.350920Z"
    }
   },
   "cell_type": "code",
   "source": "result.baseline_result",
   "id": "1ff35a8932ae3970",
   "outputs": [
    {
     "data": {
      "text/plain": [
       "AssessmentResult:\n",
       "* mean_model_loss = 0.000000\n",
       "* mean_val_loss = 0.000000\n",
       "* MSELoss = 0.000121"
      ]
     },
     "execution_count": 12,
     "metadata": {},
     "output_type": "execute_result"
    }
   ],
   "execution_count": 12
  }
 ],
 "metadata": {
  "kernelspec": {
   "display_name": "Python 3",
   "language": "python",
   "name": "python3"
  },
  "language_info": {
   "codemirror_mode": {
    "name": "ipython",
    "version": 2
   },
   "file_extension": ".py",
   "mimetype": "text/x-python",
   "name": "python",
   "nbconvert_exporter": "python",
   "pygments_lexer": "ipython2",
   "version": "2.7.6"
  }
 },
 "nbformat": 4,
 "nbformat_minor": 5
}
