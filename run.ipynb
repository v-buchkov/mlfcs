{
 "cells": [
  {
   "cell_type": "code",
   "id": "a1510887505e2402",
   "metadata": {
    "ExecuteTime": {
     "end_time": "2025-03-24T12:12:23.934856Z",
     "start_time": "2025-03-24T12:12:23.921474Z"
    }
   },
   "source": [
    "%load_ext autoreload\n",
    "%autoreload 2"
   ],
   "outputs": [
    {
     "name": "stdout",
     "output_type": "stream",
     "text": [
      "The autoreload extension is already loaded. To reload it, use:\n",
      "  %reload_ext autoreload\n"
     ]
    }
   ],
   "execution_count": 7
  },
  {
   "cell_type": "code",
   "id": "initial_id",
   "metadata": {
    "collapsed": true,
    "ExecuteTime": {
     "end_time": "2025-03-24T12:12:23.949567Z",
     "start_time": "2025-03-24T12:12:23.938375Z"
    }
   },
   "source": [
    "from run import run_backtest\n",
    "from qamsi.cov_estimators.cov_estimators import CovEstimators\n",
    "\n",
    "ESTIMATOR = CovEstimators.STATIC_FACTOR_MODEL.value(\n",
    "    factor_cov_estimator=CovEstimators.GBM_PREDICTOR.value(),\n",
    "    # factor_cov_estimator=CovEstimators.HISTORICAL.value(),\n",
    "    residual_cov_estimator=CovEstimators.HISTORICAL.value(),\n",
    "    # residual_cov_estimator=CovEstimators.GBM_PREDICTOR.value(),\n",
    ")\n",
    "VERBOSE = True\n",
    "PLOT_PROGRESS = False"
   ],
   "outputs": [],
   "execution_count": 8
  },
  {
   "cell_type": "code",
   "id": "1e4448021827516c",
   "metadata": {
    "ExecuteTime": {
     "end_time": "2025-03-24T12:13:02.934078Z",
     "start_time": "2025-03-24T12:12:23.953840Z"
    }
   },
   "source": [
    "run_result = run_backtest(ESTIMATOR, verbose=VERBOSE, plot_progress=PLOT_PROGRESS)"
   ],
   "outputs": [
    {
     "name": "stdout",
     "output_type": "stream",
     "text": [
      "Train data on 2004-03-23 00:00:00 to 2022-03-31 00:00:00\n",
      "Test data on 2022-04-01 00:00:00 to 2024-12-31 00:00:00\n",
      "Num Train Iterations: 4539\n",
      "Running backtest...\n"
     ]
    },
    {
     "name": "stderr",
     "output_type": "stream",
     "text": [
      "14it [00:37,  2.69s/it]\n"
     ]
    },
    {
     "ename": "ValueError",
     "evalue": "operands could not be broadcast together with shapes (475,475) (476,476) ",
     "output_type": "error",
     "traceback": [
      "\u001B[31m---------------------------------------------------------------------------\u001B[39m",
      "\u001B[31mValueError\u001B[39m                                Traceback (most recent call last)",
      "\u001B[36mCell\u001B[39m\u001B[36m \u001B[39m\u001B[32mIn[9]\u001B[39m\u001B[32m, line 1\u001B[39m\n\u001B[32m----> \u001B[39m\u001B[32m1\u001B[39m run_result = \u001B[43mrun_backtest\u001B[49m\u001B[43m(\u001B[49m\u001B[43mESTIMATOR\u001B[49m\u001B[43m,\u001B[49m\u001B[43m \u001B[49m\u001B[43mverbose\u001B[49m\u001B[43m=\u001B[49m\u001B[43mVERBOSE\u001B[49m\u001B[43m,\u001B[49m\u001B[43m \u001B[49m\u001B[43mplot_progress\u001B[49m\u001B[43m=\u001B[49m\u001B[43mPLOT_PROGRESS\u001B[49m\u001B[43m)\u001B[49m\n",
      "\u001B[36mFile \u001B[39m\u001B[32m~/qamsi/run.py:69\u001B[39m, in \u001B[36mrun_backtest\u001B[39m\u001B[34m(cov_estimator, verbose, plot_progress)\u001B[39m\n\u001B[32m     59\u001B[39m strategy = MinVariance(\n\u001B[32m     60\u001B[39m     cov_estimator=cov_estimator,\n\u001B[32m     61\u001B[39m     trading_config=trading_config,\n\u001B[32m     62\u001B[39m )\n\u001B[32m     64\u001B[39m baseline_strategy = MinVariance(\n\u001B[32m     65\u001B[39m     cov_estimator=CovEstimators.HISTORICAL.value(),\n\u001B[32m     66\u001B[39m     trading_config=trading_config,\n\u001B[32m     67\u001B[39m )\n\u001B[32m---> \u001B[39m\u001B[32m69\u001B[39m run_result = \u001B[43mrunner\u001B[49m\u001B[43m.\u001B[49m\u001B[43mtrain\u001B[49m\u001B[43m(\u001B[49m\n\u001B[32m     70\u001B[39m \u001B[43m    \u001B[49m\u001B[43mfeature_processor\u001B[49m\u001B[43m=\u001B[49m\u001B[43mpreprocessor\u001B[49m\u001B[43m,\u001B[49m\n\u001B[32m     71\u001B[39m \u001B[43m    \u001B[49m\u001B[43mstrategy\u001B[49m\u001B[43m=\u001B[49m\u001B[43mstrategy\u001B[49m\u001B[43m,\u001B[49m\n\u001B[32m     72\u001B[39m \u001B[43m    \u001B[49m\u001B[43mbaseline_strategy\u001B[49m\u001B[43m=\u001B[49m\u001B[43mbaseline_strategy\u001B[49m\u001B[43m,\u001B[49m\n\u001B[32m     73\u001B[39m \u001B[43m    \u001B[49m\u001B[43mhedger\u001B[49m\u001B[43m=\u001B[49m\u001B[43mhedger\u001B[49m\u001B[43m \u001B[49m\u001B[38;5;28;43;01mif\u001B[39;49;00m\u001B[43m \u001B[49m\u001B[43mHEDGE\u001B[49m\u001B[43m \u001B[49m\u001B[38;5;28;43;01melse\u001B[39;49;00m\u001B[43m \u001B[49m\u001B[38;5;28;43;01mNone\u001B[39;49;00m\u001B[43m,\u001B[49m\n\u001B[32m     74\u001B[39m \u001B[43m\u001B[49m\u001B[43m)\u001B[49m\n\u001B[32m     76\u001B[39m runner.plot_cumulative(include_factors=\u001B[38;5;28;01mTrue\u001B[39;00m)\n\u001B[32m     78\u001B[39m runner.plot_turnover()\n",
      "\u001B[36mFile \u001B[39m\u001B[32m~/qamsi/qamsi/runner.py:204\u001B[39m, in \u001B[36mRunner.train\u001B[39m\u001B[34m(self, feature_processor, strategy, baseline_strategy, hedger)\u001B[39m\n\u001B[32m    197\u001B[39m \u001B[38;5;28;01mdef\u001B[39;00m\u001B[38;5;250m \u001B[39m\u001B[34mtrain\u001B[39m(\n\u001B[32m    198\u001B[39m     \u001B[38;5;28mself\u001B[39m,\n\u001B[32m    199\u001B[39m     feature_processor: BasePreprocessor,\n\u001B[32m   (...)\u001B[39m\u001B[32m    202\u001B[39m     hedger: Hedger | \u001B[38;5;28;01mNone\u001B[39;00m = \u001B[38;5;28;01mNone\u001B[39;00m,\n\u001B[32m    203\u001B[39m ) -> RunResult:\n\u001B[32m--> \u001B[39m\u001B[32m204\u001B[39m     \u001B[38;5;28;01mreturn\u001B[39;00m \u001B[38;5;28;43mself\u001B[39;49m\u001B[43m.\u001B[49m\u001B[43m_run\u001B[49m\u001B[43m(\u001B[49m\n\u001B[32m    205\u001B[39m \u001B[43m        \u001B[49m\u001B[43mfeature_processor\u001B[49m\u001B[43m=\u001B[49m\u001B[43mfeature_processor\u001B[49m\u001B[43m,\u001B[49m\n\u001B[32m    206\u001B[39m \u001B[43m        \u001B[49m\u001B[43mstrategy\u001B[49m\u001B[43m=\u001B[49m\u001B[43mstrategy\u001B[49m\u001B[43m,\u001B[49m\n\u001B[32m    207\u001B[39m \u001B[43m        \u001B[49m\u001B[43mbaseline_strategy\u001B[49m\u001B[43m=\u001B[49m\u001B[43mbaseline_strategy\u001B[49m\u001B[43m,\u001B[49m\n\u001B[32m    208\u001B[39m \u001B[43m        \u001B[49m\u001B[43mdata\u001B[49m\u001B[43m=\u001B[49m\u001B[38;5;28;43mself\u001B[39;49m\u001B[43m.\u001B[49m\u001B[43mtrain_data\u001B[49m\u001B[43m,\u001B[49m\n\u001B[32m    209\u001B[39m \u001B[43m        \u001B[49m\u001B[43mreturns\u001B[49m\u001B[43m=\u001B[49m\u001B[38;5;28;43mself\u001B[39;49m\u001B[43m.\u001B[49m\u001B[43mtrain_returns\u001B[49m\u001B[43m,\u001B[49m\n\u001B[32m    210\u001B[39m \u001B[43m        \u001B[49m\u001B[43mfactors\u001B[49m\u001B[43m=\u001B[49m\u001B[38;5;28;43mself\u001B[39;49m\u001B[43m.\u001B[49m\u001B[43mtrain_factors\u001B[49m\u001B[43m,\u001B[49m\n\u001B[32m    211\u001B[39m \u001B[43m        \u001B[49m\u001B[43mrf\u001B[49m\u001B[43m=\u001B[49m\u001B[38;5;28;43mself\u001B[39;49m\u001B[43m.\u001B[49m\u001B[43mtrain_rf\u001B[49m\u001B[43m,\u001B[49m\n\u001B[32m    212\u001B[39m \u001B[43m        \u001B[49m\u001B[43mhedger\u001B[49m\u001B[43m=\u001B[49m\u001B[43mhedger\u001B[49m\u001B[43m,\u001B[49m\n\u001B[32m    213\u001B[39m \u001B[43m    \u001B[49m\u001B[43m)\u001B[49m\n",
      "\u001B[36mFile \u001B[39m\u001B[32m~/qamsi/qamsi/runner.py:151\u001B[39m, in \u001B[36mRunner._run\u001B[39m\u001B[34m(self, feature_processor, strategy, baseline_strategy, data, returns, factors, rf, hedger)\u001B[39m\n\u001B[32m    140\u001B[39m \u001B[38;5;28;01mdef\u001B[39;00m\u001B[38;5;250m \u001B[39m\u001B[34m_run\u001B[39m(  \u001B[38;5;66;03m# noqa: PLR0913\u001B[39;00m\n\u001B[32m    141\u001B[39m     \u001B[38;5;28mself\u001B[39m,\n\u001B[32m    142\u001B[39m     feature_processor: BasePreprocessor,\n\u001B[32m   (...)\u001B[39m\u001B[32m    149\u001B[39m     hedger: Hedger | \u001B[38;5;28;01mNone\u001B[39;00m = \u001B[38;5;28;01mNone\u001B[39;00m,\n\u001B[32m    150\u001B[39m ) -> RunResult:\n\u001B[32m--> \u001B[39m\u001B[32m151\u001B[39m     \u001B[38;5;28mself\u001B[39m.strategy_backtester = \u001B[38;5;28;43mself\u001B[39;49m\u001B[43m.\u001B[49m\u001B[43m_run_backtest\u001B[49m\u001B[43m(\u001B[49m\n\u001B[32m    152\u001B[39m \u001B[43m        \u001B[49m\u001B[43mfeature_processor\u001B[49m\u001B[43m,\u001B[49m\n\u001B[32m    153\u001B[39m \u001B[43m        \u001B[49m\u001B[43mstrategy\u001B[49m\u001B[43m,\u001B[49m\n\u001B[32m    154\u001B[39m \u001B[43m        \u001B[49m\u001B[43mdata\u001B[49m\u001B[43m,\u001B[49m\n\u001B[32m    155\u001B[39m \u001B[43m        \u001B[49m\u001B[43mreturns\u001B[49m\u001B[43m,\u001B[49m\n\u001B[32m    156\u001B[39m \u001B[43m        \u001B[49m\u001B[43mrf\u001B[49m\u001B[43m,\u001B[49m\n\u001B[32m    157\u001B[39m \u001B[43m        \u001B[49m\u001B[43mhedger\u001B[49m\u001B[43m,\u001B[49m\n\u001B[32m    158\u001B[39m \u001B[43m        \u001B[49m\u001B[43mReturns\u001B[49m\u001B[43m(\u001B[49m\u001B[43msimple_returns\u001B[49m\u001B[43m=\u001B[49m\u001B[43mfactors\u001B[49m\u001B[43m)\u001B[49m\u001B[43m,\u001B[49m\n\u001B[32m    159\u001B[39m \u001B[43m    \u001B[49m\u001B[43m)\u001B[49m\n\u001B[32m    161\u001B[39m     \u001B[38;5;28mself\u001B[39m.strategy_total_r = \u001B[38;5;28mself\u001B[39m.strategy_backtester.total_returns\n\u001B[32m    162\u001B[39m     \u001B[38;5;28mself\u001B[39m.strategy_excess_r = \u001B[38;5;28mself\u001B[39m.strategy_backtester.excess_returns\n",
      "\u001B[36mFile \u001B[39m\u001B[32m~/qamsi/qamsi/runner.py:137\u001B[39m, in \u001B[36mRunner._run_backtest\u001B[39m\u001B[34m(self, feature_processor, strategy, data, returns, rf, hedger, hedging_assets)\u001B[39m\n\u001B[32m    112\u001B[39m \u001B[38;5;28;01mdef\u001B[39;00m\u001B[38;5;250m \u001B[39m\u001B[34m_run_backtest\u001B[39m(  \u001B[38;5;66;03m# noqa: PLR0913\u001B[39;00m\n\u001B[32m    113\u001B[39m     \u001B[38;5;28mself\u001B[39m,\n\u001B[32m    114\u001B[39m     feature_processor: BasePreprocessor,\n\u001B[32m   (...)\u001B[39m\u001B[32m    120\u001B[39m     hedging_assets: pd.DataFrame | \u001B[38;5;28;01mNone\u001B[39;00m = \u001B[38;5;28;01mNone\u001B[39;00m,\n\u001B[32m    121\u001B[39m ) -> Backtester:\n\u001B[32m    122\u001B[39m     backtester = Backtester(\n\u001B[32m    123\u001B[39m         stocks_returns=returns.truncate(feature_processor.truncation_len),\n\u001B[32m    124\u001B[39m         features=feature_processor(data),\n\u001B[32m   (...)\u001B[39m\u001B[32m    135\u001B[39m         \u001B[38;5;28;01melse\u001B[39;00m hedging_assets,\n\u001B[32m    136\u001B[39m     )\n\u001B[32m--> \u001B[39m\u001B[32m137\u001B[39m     \u001B[43mbacktester\u001B[49m\u001B[43m(\u001B[49m\u001B[43mstrategy\u001B[49m\u001B[43m,\u001B[49m\u001B[43m \u001B[49m\u001B[43mhedger\u001B[49m\u001B[43m)\u001B[49m\n\u001B[32m    138\u001B[39m     \u001B[38;5;28;01mreturn\u001B[39;00m backtester\n",
      "\u001B[36mFile \u001B[39m\u001B[32m~/qamsi/qamsi/backtest/backtester.py:68\u001B[39m, in \u001B[36mBacktester.__call__\u001B[39m\u001B[34m(self, strategy, hedger)\u001B[39m\n\u001B[32m     67\u001B[39m \u001B[38;5;28;01mdef\u001B[39;00m\u001B[38;5;250m \u001B[39m\u001B[34m__call__\u001B[39m(\u001B[38;5;28mself\u001B[39m, strategy: BaseStrategy, hedger: Hedger | \u001B[38;5;28;01mNone\u001B[39;00m = \u001B[38;5;28;01mNone\u001B[39;00m) -> \u001B[38;5;28;01mNone\u001B[39;00m:\n\u001B[32m---> \u001B[39m\u001B[32m68\u001B[39m     \u001B[38;5;28;43mself\u001B[39;49m\u001B[43m.\u001B[49m\u001B[43mrun\u001B[49m\u001B[43m(\u001B[49m\u001B[43mstrategy\u001B[49m\u001B[43m,\u001B[49m\u001B[43m \u001B[49m\u001B[43mhedger\u001B[49m\u001B[43m)\u001B[49m\n",
      "\u001B[36mFile \u001B[39m\u001B[32m~/qamsi/qamsi/backtest/backtester.py:165\u001B[39m, in \u001B[36mBacktester.run\u001B[39m\u001B[34m(self, strategy, hedger)\u001B[39m\n\u001B[32m    160\u001B[39m \u001B[38;5;66;03m# Whether the strategy has a memory or retrains from scratch is handled inside the strategy obj\u001B[39;00m\n\u001B[32m    161\u001B[39m \u001B[38;5;66;03m# Still pass all targets, not only tradeable, as can provide info for the strategy\u001B[39;00m\n\u001B[32m    162\u001B[39m strategy.fit(\n\u001B[32m    163\u001B[39m     features=train_features, factors=train_factors, targets=train_xs_r\n\u001B[32m    164\u001B[39m )\n\u001B[32m--> \u001B[39m\u001B[32m165\u001B[39m weights = \u001B[43mstrategy\u001B[49m\u001B[43m(\u001B[49m\u001B[43mfeatures\u001B[49m\u001B[43m=\u001B[49m\u001B[43mpred_features\u001B[49m\u001B[43m,\u001B[49m\u001B[43m \u001B[49m\u001B[43mfactors\u001B[49m\u001B[43m=\u001B[49m\u001B[43mpred_factors\u001B[49m\u001B[43m)\u001B[49m\n\u001B[32m    167\u001B[39m weights = np.minimum(weights, \u001B[38;5;28mself\u001B[39m.trading_config.max_exposure)\n\u001B[32m    168\u001B[39m weights = np.maximum(weights, \u001B[38;5;28mself\u001B[39m.trading_config.min_exposure)\n",
      "\u001B[36mFile \u001B[39m\u001B[32m~/qamsi/qamsi/strategies/base_strategy.py:43\u001B[39m, in \u001B[36mBaseStrategy.__call__\u001B[39m\u001B[34m(self, features, factors)\u001B[39m\n\u001B[32m     32\u001B[39m \u001B[38;5;28;01mdef\u001B[39;00m\u001B[38;5;250m \u001B[39m\u001B[34m__call__\u001B[39m(\u001B[38;5;28mself\u001B[39m, features: pd.DataFrame, factors: pd.DataFrame) -> pd.DataFrame:\n\u001B[32m     33\u001B[39m \u001B[38;5;250m    \u001B[39m\u001B[33;03m\"\"\"Invoke the strategy to compute portfolio weights based on input features.\u001B[39;00m\n\u001B[32m     34\u001B[39m \n\u001B[32m     35\u001B[39m \u001B[33;03m    Args:\u001B[39;00m\n\u001B[32m   (...)\u001B[39m\u001B[32m     41\u001B[39m \n\u001B[32m     42\u001B[39m \u001B[33;03m    \"\"\"\u001B[39;00m\n\u001B[32m---> \u001B[39m\u001B[32m43\u001B[39m     \u001B[38;5;28;01mreturn\u001B[39;00m \u001B[38;5;28;43mself\u001B[39;49m\u001B[43m.\u001B[49m\u001B[43mget_weights\u001B[49m\u001B[43m(\u001B[49m\u001B[43mfeatures\u001B[49m\u001B[43m=\u001B[49m\u001B[43mfeatures\u001B[49m\u001B[43m,\u001B[49m\u001B[43m \u001B[49m\u001B[43mfactors\u001B[49m\u001B[43m=\u001B[49m\u001B[43mfactors\u001B[49m\u001B[43m)\u001B[49m\n",
      "\u001B[36mFile \u001B[39m\u001B[32m~/qamsi/qamsi/strategies/estimated/min_var.py:63\u001B[39m, in \u001B[36mMinVariance.get_weights\u001B[39m\u001B[34m(self, features, factors)\u001B[39m\n\u001B[32m     60\u001B[39m \u001B[38;5;28;01mdef\u001B[39;00m\u001B[38;5;250m \u001B[39m\u001B[34mget_weights\u001B[39m(\n\u001B[32m     61\u001B[39m     \u001B[38;5;28mself\u001B[39m, features: pd.DataFrame, factors: pd.DataFrame\n\u001B[32m     62\u001B[39m ) -> pd.DataFrame:\n\u001B[32m---> \u001B[39m\u001B[32m63\u001B[39m     covmat = \u001B[38;5;28;43mself\u001B[39;49m\u001B[43m.\u001B[49m\u001B[43mcov_estimator\u001B[49m\u001B[43m.\u001B[49m\u001B[43mpredict\u001B[49m\u001B[43m(\u001B[49m\u001B[43mfeatures\u001B[49m\u001B[43m,\u001B[49m\u001B[43m \u001B[49m\u001B[43mfactors\u001B[49m\u001B[43m)\u001B[49m\n\u001B[32m     64\u001B[39m     weights = \u001B[38;5;28mself\u001B[39m._optimize(covmat)\n\u001B[32m     66\u001B[39m     weights_df = pd.DataFrame(\n\u001B[32m     67\u001B[39m         \u001B[32m0.0\u001B[39m, index=[features.index[-\u001B[32m1\u001B[39m]], columns=\u001B[38;5;28mself\u001B[39m.all_assets\n\u001B[32m     68\u001B[39m     )\n",
      "\u001B[36mFile \u001B[39m\u001B[32m~/qamsi/qamsi/cov_estimators/base_cov_estimator.py:32\u001B[39m, in \u001B[36mBaseCovEstimator.predict\u001B[39m\u001B[34m(self, features, factors)\u001B[39m\n\u001B[32m     29\u001B[39m \u001B[38;5;28;01mdef\u001B[39;00m\u001B[38;5;250m \u001B[39m\u001B[34mpredict\u001B[39m(\u001B[38;5;28mself\u001B[39m, features: pd.DataFrame, factors: pd.DataFrame) -> pd.DataFrame:\n\u001B[32m     30\u001B[39m     \u001B[38;5;28;01massert\u001B[39;00m \u001B[38;5;28mself\u001B[39m._fitted, \u001B[33m\"\u001B[39m\u001B[33mModel is not fitted yet! Call fit() first.\u001B[39m\u001B[33m\"\u001B[39m\n\u001B[32m---> \u001B[39m\u001B[32m32\u001B[39m     pred_cov = \u001B[38;5;28;43mself\u001B[39;49m\u001B[43m.\u001B[49m\u001B[43m_predict\u001B[49m\u001B[43m(\u001B[49m\u001B[43mfeatures\u001B[49m\u001B[43m,\u001B[49m\u001B[43m \u001B[49m\u001B[43mfactors\u001B[49m\u001B[43m)\u001B[49m\n\u001B[32m     33\u001B[39m     \u001B[38;5;28mself\u001B[39m._check_positive_semi_definite(pred_cov)\n\u001B[32m     34\u001B[39m     \u001B[38;5;28;01mreturn\u001B[39;00m pred_cov\n",
      "\u001B[36mFile \u001B[39m\u001B[32m~/qamsi/qamsi/cov_estimators/factor_cov_estimator.py:65\u001B[39m, in \u001B[36mFactorCovEstimator._predict\u001B[39m\u001B[34m(self, features, factors)\u001B[39m\n\u001B[32m     61\u001B[39m residual_cov = np.diag(np.diag(residual_cov))\n\u001B[32m     63\u001B[39m exposures = \u001B[38;5;28mself\u001B[39m._factor_exposures.to_numpy()\n\u001B[32m---> \u001B[39m\u001B[32m65\u001B[39m \u001B[38;5;28;01mreturn\u001B[39;00m \u001B[43mexposures\u001B[49m\u001B[43m \u001B[49m\u001B[43m@\u001B[49m\u001B[43m \u001B[49m\u001B[43mfactor_cov\u001B[49m\u001B[43m \u001B[49m\u001B[43m@\u001B[49m\u001B[43m \u001B[49m\u001B[43mexposures\u001B[49m\u001B[43m.\u001B[49m\u001B[43mT\u001B[49m\u001B[43m \u001B[49m\u001B[43m+\u001B[49m\u001B[43m \u001B[49m\u001B[43mresidual_cov\u001B[49m\n",
      "\u001B[31mValueError\u001B[39m: operands could not be broadcast together with shapes (475,475) (476,476) "
     ]
    }
   ],
   "execution_count": 9
  },
  {
   "cell_type": "code",
   "id": "81afe07a0a2b6ce2",
   "metadata": {
    "ExecuteTime": {
     "end_time": "2025-03-24T12:13:02.935444Z",
     "start_time": "2025-03-23T21:17:08.326517Z"
    }
   },
   "source": "run_result.strategy",
   "outputs": [
    {
     "data": {
      "text/plain": [
       "StrategyStatistics:\n",
       "* final_nav = 4.390772\n",
       "* final_rf = 1.624537\n",
       "* mean = 0.089000\n",
       "* std = 0.132915\n",
       "* skew = -0.916720\n",
       "* kurtosis = 9.286212\n",
       "* max_dd = -0.239072\n",
       "* sharpe = 0.456253\n",
       "* alpha_buy_hold = 0.049710\n",
       "* tracking_error_buy_hold = 0.131533\n",
       "* ir_buy_hold = 0.377926\n",
       "* factor_loadings = {'spx': 0.5079749226523813}\n",
       "* alpha_benchmark = 0.036734\n",
       "* alpha_benchmark_pvalue = 0.115615\n",
       "* tracking_error_benchmark = 0.105160\n",
       "* ir_benchmark = 0.349313\n",
       "* ttest_pval = 0.197728\n",
       "* levene_pval = 0.023305\n",
       "* timing_ability_coef = -0.250766\n",
       "* timing_ability_pval = 0.030723"
      ]
     },
     "execution_count": 68,
     "metadata": {},
     "output_type": "execute_result"
    }
   ],
   "execution_count": 68
  },
  {
   "cell_type": "code",
   "id": "173e5e99b9f8404a",
   "metadata": {
    "ExecuteTime": {
     "end_time": "2025-03-24T12:13:02.939731Z",
     "start_time": "2025-03-23T21:17:08.343217Z"
    }
   },
   "source": [
    "run_result.baseline"
   ],
   "outputs": [
    {
     "data": {
      "text/plain": [
       "StrategyStatistics:\n",
       "* final_nav = 4.273097\n",
       "* final_rf = 1.624537\n",
       "* mean = 0.087296\n",
       "* std = 0.119487\n",
       "* skew = -1.590499\n",
       "* kurtosis = 12.226572\n",
       "* max_dd = -0.246916\n",
       "* sharpe = 0.493273\n",
       "* alpha_buy_hold = 0.048006\n",
       "* tracking_error_buy_hold = 0.096699\n",
       "* ir_buy_hold = 0.496450\n",
       "* factor_loadings = {'spx': 0.5974964547899325}\n",
       "* alpha_benchmark = 0.031514\n",
       "* alpha_benchmark_pvalue = 0.064006\n",
       "* tracking_error_benchmark = 0.071762\n",
       "* ir_benchmark = 0.439141\n",
       "* ttest_pval = 0.206631\n",
       "* levene_pval = 0.000142\n",
       "* timing_ability_coef = -0.187799\n",
       "* timing_ability_pval = 0.017752"
      ]
     },
     "execution_count": 69,
     "metadata": {},
     "output_type": "execute_result"
    }
   ],
   "execution_count": 69
  }
 ],
 "metadata": {
  "kernelspec": {
   "display_name": "Python 3",
   "language": "python",
   "name": "python3"
  },
  "language_info": {
   "codemirror_mode": {
    "name": "ipython",
    "version": 2
   },
   "file_extension": ".py",
   "mimetype": "text/x-python",
   "name": "python",
   "nbconvert_exporter": "python",
   "pygments_lexer": "ipython2",
   "version": "2.7.6"
  }
 },
 "nbformat": 4,
 "nbformat_minor": 5
}
